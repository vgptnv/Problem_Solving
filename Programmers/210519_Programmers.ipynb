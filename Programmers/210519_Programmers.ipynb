{
 "cells": [
  {
   "cell_type": "markdown",
   "metadata": {},
   "source": [
    "## Q. 스택/큐) 기능개발"
   ]
  },
  {
   "cell_type": "code",
   "execution_count": 57,
   "metadata": {},
   "outputs": [],
   "source": [
    "def solution(progresses, speeds):\n",
    "#     from collections import defaultdict\n",
    "#     finished = defaultdict(bool)\n",
    "    answer = []\n",
    "    n = len(progresses)\n",
    "    finished = [False] * n\n",
    "    \n",
    "    while True:\n",
    "        for i in range(sum(answer), n):\n",
    "            if not finished[i]:  # finished[i]가 false 일 경우 실행\n",
    "                progresses[i] = progresses[i] + speeds[i]\n",
    "                if progresses[i] >= 100:\n",
    "                    finished[i] = True\n",
    "            else:\n",
    "                continue\n",
    "#         print(progresses)\n",
    "#         print(finished)\n",
    "                \n",
    "        # 배포될 수 있는 기능 count\n",
    "        count = 0 \n",
    "        for i in range(sum(answer), n):\n",
    "            if not finished[i]:  # 작업 완료 안 된 기능 -> for문 종료\n",
    "                break\n",
    "            count += 1\n",
    "            finished\n",
    "                \n",
    "        if count >= 1:\n",
    "            answer.append(count)\n",
    "#         print(answer)\n",
    "            \n",
    "        if sum(answer) == n:\n",
    "            break\n",
    "        \n",
    "    return answer"
   ]
  },
  {
   "cell_type": "code",
   "execution_count": 61,
   "metadata": {
    "scrolled": true
   },
   "outputs": [
    {
     "data": {
      "text/plain": [
       "[1, 1, 1, 1, 1]"
      ]
     },
     "execution_count": 61,
     "metadata": {},
     "output_type": "execute_result"
    }
   ],
   "source": [
    "progresses = [95, 90, 99, 99, 80, 99]\n",
    "speeds = [1, 1, 1, 1, 1, 1]\n",
    "\n",
    "speeds.pop(0)\n",
    "speeds\n",
    "# solution(progresses, speeds)"
   ]
  },
  {
   "cell_type": "code",
   "execution_count": 67,
   "metadata": {},
   "outputs": [
    {
     "name": "stdout",
     "output_type": "stream",
     "text": [
      "[93, 30, 55]\n",
      "[1, 30, 5]\n",
      "[93, 30, 55]\n",
      "[93, 30, 55]\n",
      "[93, 30, 55]\n",
      "[93, 30, 55]\n",
      "[93, 30, 55]\n",
      "[93, 30, 55]\n",
      "[93, 30, 55]\n",
      "[93, 30, 55]\n",
      "93\n",
      "[30, 55]\n",
      "30\n",
      "[55]\n",
      "[55]\n",
      "[55]\n",
      "55\n"
     ]
    },
    {
     "data": {
      "text/plain": [
       "[2, 1]"
      ]
     },
     "execution_count": 67,
     "metadata": {},
     "output_type": "execute_result"
    }
   ],
   "source": [
    "progresses = [93, 30, 55]\n",
    "speeds = [1, 30, 5]\n",
    "\n",
    "solution(progresses, speeds)"
   ]
  },
  {
   "cell_type": "code",
   "execution_count": 52,
   "metadata": {},
   "outputs": [
    {
     "data": {
      "text/plain": [
       "[False, False, False, False, False]"
      ]
     },
     "execution_count": 52,
     "metadata": {},
     "output_type": "execute_result"
    }
   ],
   "source": [
    "[False] * 5"
   ]
  },
  {
   "cell_type": "code",
   "execution_count": 13,
   "metadata": {},
   "outputs": [
    {
     "name": "stdout",
     "output_type": "stream",
     "text": [
      "[99, 94, 103, 103, 84, 103]\n"
     ]
    }
   ],
   "source": [
    "for i in range(len(progresses)):\n",
    "    progresses[i] = progresses[i] + speeds[i]\n",
    "    \n",
    "print(progresses)"
   ]
  },
  {
   "cell_type": "code",
   "execution_count": 9,
   "metadata": {},
   "outputs": [
    {
     "data": {
      "text/plain": [
       "1"
      ]
     },
     "execution_count": 9,
     "metadata": {},
     "output_type": "execute_result"
    }
   ],
   "source": [
    "lst[1][1]"
   ]
  },
  {
   "cell_type": "code",
   "execution_count": 15,
   "metadata": {},
   "outputs": [],
   "source": [
    "import collections"
   ]
  },
  {
   "cell_type": "code",
   "execution_count": 24,
   "metadata": {},
   "outputs": [
    {
     "name": "stdout",
     "output_type": "stream",
     "text": [
      "defaultdict(<class 'bool'>, {})\n",
      "defaultdict(<class 'bool'>, {1: False, 2: False})\n"
     ]
    }
   ],
   "source": [
    "dic = collections.defaultdict(bool)\n",
    "\n",
    "print(dic)\n",
    "dic[1]\n",
    "dic[2]\n",
    "print(dic)"
   ]
  },
  {
   "cell_type": "code",
   "execution_count": 30,
   "metadata": {},
   "outputs": [
    {
     "data": {
      "text/plain": [
       "True"
      ]
     },
     "execution_count": 30,
     "metadata": {},
     "output_type": "execute_result"
    }
   ],
   "source": [
    "not False"
   ]
  },
  {
   "cell_type": "code",
   "execution_count": null,
   "metadata": {},
   "outputs": [],
   "source": [
    "def solution(progresses, speeds):\n",
    "    Q=[]\n",
    "    for p, s in zip(progresses, speeds):\n",
    "        if len(Q)==0 or Q[-1][0]<-((p-100)//s):\n",
    "            Q.append([-((p-100)bb//s),1])\n",
    "        else:\n",
    "            Q[-1][1]+=1\n",
    "    return [q[1] for q in Q]"
   ]
  },
  {
   "cell_type": "code",
   "execution_count": 66,
   "metadata": {},
   "outputs": [],
   "source": [
    "def solution(progresses, speeds):\n",
    "    print(progresses)\n",
    "    print(speeds)\n",
    "    answer = []\n",
    "    time = 0\n",
    "    count = 0\n",
    "    while len(progresses)> 0:\n",
    "        print(progresses)\n",
    "        if (progresses[0] + time*speeds[0]) >= 100:\n",
    "            print(progresses.pop(0))\n",
    "            speeds.pop(0)\n",
    "            count += 1\n",
    "        else:\n",
    "            if count > 0:\n",
    "                answer.append(count)\n",
    "                count = 0\n",
    "            time += 1\n",
    "    answer.append(count)\n",
    "    return answer"
   ]
  }
 ],
 "metadata": {
  "kernelspec": {
   "display_name": "Python 3",
   "language": "python",
   "name": "python3"
  },
  "language_info": {
   "codemirror_mode": {
    "name": "ipython",
    "version": 3
   },
   "file_extension": ".py",
   "mimetype": "text/x-python",
   "name": "python",
   "nbconvert_exporter": "python",
   "pygments_lexer": "ipython3",
   "version": "3.7.6"
  }
 },
 "nbformat": 4,
 "nbformat_minor": 4
}
