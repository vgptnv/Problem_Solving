{
 "cells": [
  {
   "cell_type": "markdown",
   "metadata": {},
   "source": [
    "## 스택/큐) Q. 프린터"
   ]
  },
  {
   "cell_type": "code",
   "execution_count": 95,
   "metadata": {},
   "outputs": [],
   "source": [
    "def solution(priorities, location):\n",
    "    answer_key = (priorities[location], location)\n",
    "    add_orgidx = list(zip(priorities, range(len(priorities))))\n",
    "    temp = priorities\n",
    "    print_order = []\n",
    "    \n",
    "    while True:\n",
    "        for item in add_orgidx:\n",
    "            if item[0] == max(temp):\n",
    "                add_orgidx.remove(item)\n",
    "                print_order.append(item)\n",
    "                temp = [(lambda x: x[0])(x) for x in add_orgidx]\n",
    "            else:\n",
    "                continue\n",
    "        \n",
    "        \n",
    "#         if add_orgidx[0][0] != max(temp):\n",
    "#             add_orgidx.remove(add_orgidx[0])\n",
    "#             add_orgidx.append(add_orgidx[0])\n",
    "#             print(add_orgidx)\n",
    "#         else:\n",
    "#             temp = [(lambda x: x[0])(x) for x in add_orgidx[1:]]\n",
    "#             print(temp)\n",
    "\n",
    "        priorities.sort(reverse=True)\n",
    "\n",
    "        if [(lambda x: x[0])(x) for x in add_orgidx] == priorities :\n",
    "            break\n",
    "    \n",
    "    print(add_orgidx)\n",
    "    answer = add_orgidx.index(answer_key)\n",
    "    return answer"
   ]
  },
  {
   "cell_type": "code",
   "execution_count": 114,
   "metadata": {
    "scrolled": true
   },
   "outputs": [
    {
     "data": {
      "text/plain": [
       "1"
      ]
     },
     "execution_count": 114,
     "metadata": {},
     "output_type": "execute_result"
    }
   ],
   "source": [
    "p = [1, 1, 9, 1, 1, 1]\n",
    "\n",
    "cur = p.pop(0)\n",
    "cur\n",
    "# solution(p, 0)"
   ]
  },
  {
   "cell_type": "code",
   "execution_count": 119,
   "metadata": {},
   "outputs": [],
   "source": [
    "queue = [(9, 2), (1, 0), (1, 3), (1, 4), (1, 1), (1, 5)]"
   ]
  },
  {
   "cell_type": "code",
   "execution_count": 122,
   "metadata": {},
   "outputs": [
    {
     "data": {
      "text/plain": [
       "True"
      ]
     },
     "execution_count": 122,
     "metadata": {},
     "output_type": "execute_result"
    }
   ],
   "source": [
    "cur = queue.pop(0)\n",
    "any(cur[1] < q[1] for q in queue)"
   ]
  },
  {
   "cell_type": "code",
   "execution_count": 92,
   "metadata": {},
   "outputs": [
    {
     "data": {
      "text/plain": [
       "1"
      ]
     },
     "execution_count": 92,
     "metadata": {},
     "output_type": "execute_result"
    }
   ],
   "source": [
    "lst = [(9, 2), (1, 0), (1, 3), (1, 4), (1, 1), (1, 5)]\n",
    "lst[1][0]"
   ]
  },
  {
   "cell_type": "code",
   "execution_count": 48,
   "metadata": {},
   "outputs": [
    {
     "name": "stdout",
     "output_type": "stream",
     "text": [
      "[(1, 1), (3, 2), (2, 3), (2, 0)]\n",
      "[(3, 2), (2, 3), (2, 0), (3, 2)]\n",
      "[(2, 3), (2, 0), (3, 2), (2, 0)]\n",
      "[(2, 0), (3, 2), (2, 0), (2, 0)]\n",
      "[(2, 0), (3, 2), (2, 0), (2, 0)]\n",
      "[(2, 0), (3, 2), (2, 0), (2, 0)]\n"
     ]
    },
    {
     "data": {
      "text/plain": [
       "[2, 1, 3, 2]"
      ]
     },
     "execution_count": 48,
     "metadata": {},
     "output_type": "execute_result"
    }
   ],
   "source": [
    "priorities = [2, 1, 3, 2]\n",
    "location = 2\n",
    "\n",
    "solution(priorities, location)"
   ]
  },
  {
   "cell_type": "code",
   "execution_count": 12,
   "metadata": {},
   "outputs": [
    {
     "data": {
      "text/plain": [
       "3"
      ]
     },
     "execution_count": 12,
     "metadata": {},
     "output_type": "execute_result"
    }
   ],
   "source": [
    "max(priorities)\n"
   ]
  },
  {
   "cell_type": "code",
   "execution_count": 13,
   "metadata": {},
   "outputs": [],
   "source": [
    "priorities2.sort()"
   ]
  },
  {
   "cell_type": "code",
   "execution_count": 28,
   "metadata": {},
   "outputs": [
    {
     "data": {
      "text/plain": [
       "[(2, 0), (1, 1), (3, 2), (2, 3)]"
      ]
     },
     "execution_count": 28,
     "metadata": {},
     "output_type": "execute_result"
    }
   ],
   "source": [
    "list(zip(priorities, range(len(priorities))))"
   ]
  },
  {
   "cell_type": "code",
   "execution_count": 32,
   "metadata": {},
   "outputs": [
    {
     "ename": "TypeError",
     "evalue": "list indices must be integers or slices, not tuple",
     "output_type": "error",
     "traceback": [
      "\u001b[1;31m---------------------------------------------------------------------------\u001b[0m",
      "\u001b[1;31mTypeError\u001b[0m                                 Traceback (most recent call last)",
      "\u001b[1;32m<ipython-input-32-7806dd23d1ce>\u001b[0m in \u001b[0;36m<module>\u001b[1;34m\u001b[0m\n\u001b[1;32m----> 1\u001b[1;33m \u001b[0mpriorities\u001b[0m\u001b[1;33m[\u001b[0m\u001b[1;36m1\u001b[0m\u001b[1;33m,\u001b[0m \u001b[1;36m2\u001b[0m\u001b[1;33m:\u001b[0m\u001b[1;36m4\u001b[0m\u001b[1;33m]\u001b[0m\u001b[1;33m\u001b[0m\u001b[1;33m\u001b[0m\u001b[0m\n\u001b[0m",
      "\u001b[1;31mTypeError\u001b[0m: list indices must be integers or slices, not tuple"
     ]
    }
   ],
   "source": [
    "priorities"
   ]
  },
  {
   "cell_type": "code",
   "execution_count": 58,
   "metadata": {},
   "outputs": [
    {
     "data": {
      "text/plain": [
       "[(9, 2), (1, 0), (1, 1), (1, 3), (1, 4), (1, 5)]"
      ]
     },
     "execution_count": 58,
     "metadata": {},
     "output_type": "execute_result"
    }
   ],
   "source": [
    "lst"
   ]
  },
  {
   "cell_type": "code",
   "execution_count": 65,
   "metadata": {},
   "outputs": [],
   "source": [
    "lst2 = [(lambda x: x[0])(x) for x in lst]\n"
   ]
  },
  {
   "cell_type": "code",
   "execution_count": 66,
   "metadata": {},
   "outputs": [
    {
     "data": {
      "text/plain": [
       "[9, 1, 1, 1, 1, 1]"
      ]
     },
     "execution_count": 66,
     "metadata": {},
     "output_type": "execute_result"
    }
   ],
   "source": [
    "lst2"
   ]
  },
  {
   "cell_type": "code",
   "execution_count": null,
   "metadata": {},
   "outputs": [],
   "source": []
  },
  {
   "cell_type": "code",
   "execution_count": 99,
   "metadata": {},
   "outputs": [],
   "source": [
    "def solution(priorities, location):\n",
    "    answer = 0\n",
    "\n",
    "    array1 = [c for c in range(len(priorities))] # index 위치 저장 \n",
    "    array2 = priorities.copy() # 값 저장 (출력되는 값)\n",
    "\n",
    "    i = 0\n",
    "    while True:\n",
    "        if array2[i] < max(array2[i+1:]):\n",
    "            array1.append(array1.pop(i))\n",
    "            array2.append(array2.pop(i))\n",
    "            print(array1, \"\\n\", array2)\n",
    "        else:\n",
    "            i += 1\n",
    "\n",
    "        if array2 == sorted(array2, reverse=True):\n",
    "            break\n",
    "\n",
    "    return array1.index(location) + 1"
   ]
  },
  {
   "cell_type": "code",
   "execution_count": 101,
   "metadata": {},
   "outputs": [
    {
     "name": "stdout",
     "output_type": "stream",
     "text": [
      "[1, 2, 3, 4, 5, 0] \n",
      " [1, 9, 1, 1, 1, 1]\n",
      "[2, 3, 4, 5, 0, 1] \n",
      " [9, 1, 1, 1, 1, 1]\n"
     ]
    },
    {
     "data": {
      "text/plain": [
       "5"
      ]
     },
     "execution_count": 101,
     "metadata": {},
     "output_type": "execute_result"
    }
   ],
   "source": [
    "p = [1, 1, 9, 1, 1, 1]\n",
    "solution(p, 0)"
   ]
  },
  {
   "cell_type": "code",
   "execution_count": 103,
   "metadata": {},
   "outputs": [],
   "source": [
    "def solution(priorities, location):\n",
    "    answer = 0\n",
    "    \n",
    "    lst1 = [i for i in range(len(priorities))]\n",
    "    lst2 = priorities.copy()\n",
    "    \n",
    "    i = 0\n",
    "    while True:\n",
    "        if lst2[i] < max(lst2[i+1:]):\n",
    "            lst1.append(lst1.pop(i))\n",
    "            lst2.append(lst2.pop(i))\n",
    "        else:\n",
    "            i += 1\n",
    "        \n",
    "        if lst2 == sorted(lst2, reverse=True):\n",
    "            break\n",
    "\n",
    "    answer = lst1.index(location) + 1\n",
    "    \n",
    "    return answer"
   ]
  },
  {
   "cell_type": "code",
   "execution_count": 106,
   "metadata": {},
   "outputs": [
    {
     "data": {
      "text/plain": [
       "[(0, 1), (1, 2), (2, 3), (3, 4)]"
      ]
     },
     "execution_count": 106,
     "metadata": {},
     "output_type": "execute_result"
    }
   ],
   "source": [
    "lst = [1, 2, 3, 4]\n",
    "[(i,p) for i,p in enumerate(lst)]"
   ]
  },
  {
   "cell_type": "code",
   "execution_count": null,
   "metadata": {},
   "outputs": [],
   "source": [
    "def solution(priorities, location):\n",
    "    queue =  [(i,p) for i,p in enumerate(priorities)]\n",
    "    answer = 0\n",
    "    while True:\n",
    "        cur = queue.pop(0)\n",
    "        if any(cur[1] < q[1] for q in queue):\n",
    "            queue.append(cur)\n",
    "        else:\n",
    "            answer += 1\n",
    "            if cur[0] == location:\n",
    "                return answer\n"
   ]
  }
 ],
 "metadata": {
  "kernelspec": {
   "display_name": "Python 3",
   "language": "python",
   "name": "python3"
  },
  "language_info": {
   "codemirror_mode": {
    "name": "ipython",
    "version": 3
   },
   "file_extension": ".py",
   "mimetype": "text/x-python",
   "name": "python",
   "nbconvert_exporter": "python",
   "pygments_lexer": "ipython3",
   "version": "3.7.6"
  }
 },
 "nbformat": 4,
 "nbformat_minor": 4
}
