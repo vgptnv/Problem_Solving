{
 "cells": [
  {
   "cell_type": "code",
   "execution_count": 8,
   "metadata": {},
   "outputs": [],
   "source": [
    "def recursive(data):\n",
    "    if data<0:\n",
    "        print(\"ended\")\n",
    "    else:\n",
    "        print(data)\n",
    "        recursive(data-1)\n",
    "        print(\"returned\",data)\n"
   ]
  },
  {
   "cell_type": "code",
   "execution_count": 9,
   "metadata": {},
   "outputs": [
    {
     "name": "stdout",
     "output_type": "stream",
     "text": [
      "4\n",
      "3\n",
      "2\n",
      "1\n",
      "0\n",
      "ended\n",
      "returned 0\n",
      "returned 1\n",
      "returned 2\n",
      "returned 3\n",
      "returned 4\n"
     ]
    }
   ],
   "source": [
    "recursive(4)"
   ]
  },
  {
   "cell_type": "code",
   "execution_count": 7,
   "metadata": {},
   "outputs": [
    {
     "name": "stdout",
     "output_type": "stream",
     "text": [
      "1번 원반을 A에서 C로 이동\n",
      "2번 원반을 A에서 B로 이동\n",
      "1번 원반을 C에서 B로 이동\n",
      "3번 원반을 A에서 C로 이동\n",
      "1번 원반을 B에서 A로 이동\n",
      "2번 원반을 B에서 C로 이동\n",
      "1번 원반을 A에서 C로 이동\n"
     ]
    }
   ],
   "source": [
    "MSG_FORMAT = \"{}번 원반을 {}에서 {}로 이동\"\n",
    "\n",
    "\n",
    "def move(N, start, to):\n",
    "    print(MSG_FORMAT.format(N, start, to))\n",
    "    \n",
    "def hanoi(N, start, to, via):\n",
    "    if N == 1:\n",
    "        move(1, start, to)\n",
    "    else:\n",
    "        hanoi(N-1, start, via, to)\n",
    "        move(N, start, to)\n",
    "        hanoi(N-1, via, to, start)\n",
    "        \n",
    "hanoi(3, 'A', 'C', 'B')"
   ]
  },
  {
   "cell_type": "code",
   "execution_count": null,
   "metadata": {},
   "outputs": [],
   "source": [
    "import sys\n",
    "\n",
    "# num: 옮겨야하는 수 / f: from / b: 거쳐서 / t: to\n",
    "def hanoi(num, f, b, t):\n",
    "    if num == 1:\n",
    "        print(f, t)\n",
    "    else:\n",
    "        hanoi(num-1, f, t, b)\n",
    "        print(f, t)\n",
    "        hanoi(num-1, b, f, t)\n",
    "\n",
    "num = int(sys.stdin.readline())\n",
    "print(2**num - 1)\n",
    "hanoi(num, 1, 2, 3)"
   ]
  },
  {
   "cell_type": "markdown",
   "metadata": {},
   "source": [
    "### Stack\n",
    "- LIFO Rule"
   ]
  },
  {
   "cell_type": "code",
   "execution_count": 4,
   "metadata": {},
   "outputs": [],
   "source": [
    "# 20. valid-parentheses\n",
    "stack = []\n",
    "\n",
    "s = \"(]\"\n",
    "for char in s:\n",
    "    if char in (\"(\", \"[\", \"{\"):\n",
    "        stack.append(char)  # 순서대로 넣기\n",
    "    elif char == \")\" and stack.pop() != \"(\":  # 마지막으로 들어간 게 짝이 아닐 경우\n",
    "        False\n",
    "    elif char == \"]\" and stack.pop() != \"[\":\n",
    "        False\n",
    "    elif char == \"}\" and stack.pop() != \"{\":\n",
    "        False\n",
    "\n",
    "if len(stack) > 0:\n",
    "    False\n",
    "    \n",
    "        \n",
    "        \n",
    "        "
   ]
  },
  {
   "cell_type": "code",
   "execution_count": null,
   "metadata": {},
   "outputs": [],
   "source": [
    "s = \"[(]\"\n",
    "stack = [\"[\", \"(\"]\n",
    "stack.pop() -> \"(\"\n",
    "s = \"[({})]\""
   ]
  },
  {
   "cell_type": "code",
   "execution_count": 5,
   "metadata": {},
   "outputs": [],
   "source": [
    "def isValid(s):\n",
    "        stack = []  # stack - LIFO - pop()\n",
    "        for char in s:\n",
    "            try:\n",
    "                if char in (\"(\", \"[\", \"{\"):\n",
    "                    stack.append(char)  # 순서대로 넣기\n",
    "                elif char == \")\" and stack.pop() != \"(\":  # 마지막으로 들어간 게 짝이 아닐 경우\n",
    "                    return False\n",
    "                elif char == \"]\" and stack.pop() != \"[\":\n",
    "                    return False\n",
    "                elif char == \"}\" and stack.pop() != \"{\":\n",
    "                    return False\n",
    "            except:\n",
    "                return False\n",
    "            \n",
    "        if len(stack) > 0:\n",
    "            return False\n",
    "        \n",
    "        return True"
   ]
  },
  {
   "cell_type": "code",
   "execution_count": null,
   "metadata": {},
   "outputs": [],
   "source": [
    "class Solution:\n",
    "    def isValid(self, s: str) -> bool:\n",
    "        stack = []\n",
    "        table = {\n",
    "            ')':'(',\n",
    "            '}':'{',\n",
    "            ']':'[',\n",
    "        }\n",
    "        for i in s:\n",
    "            if i not in table:   # i가 여는 괄호 \n",
    "                stack.append(i)   # stack에 append!\n",
    "            elif not stack or table[i] != stack.pop():\n",
    "                return False"
   ]
  },
  {
   "cell_type": "code",
   "execution_count": 17,
   "metadata": {},
   "outputs": [
    {
     "name": "stdout",
     "output_type": "stream",
     "text": [
      "True\n",
      "False\n"
     ]
    },
    {
     "data": {
      "text/plain": [
       "False"
      ]
     },
     "execution_count": 17,
     "metadata": {},
     "output_type": "execute_result"
    }
   ],
   "source": [
    "stack = [1]\n",
    "print(bool(stack))  # True / False 타입형!!\n",
    "print(bool(\"\"))\n",
    "not stack"
   ]
  },
  {
   "cell_type": "code",
   "execution_count": 11,
   "metadata": {},
   "outputs": [
    {
     "data": {
      "text/plain": [
       "False"
      ]
     },
     "execution_count": 11,
     "metadata": {},
     "output_type": "execute_result"
    }
   ],
   "source": [
    "table = {\n",
    "            ')':'(',\n",
    "            '}':'{',\n",
    "            ']':'[',\n",
    "        }\n",
    "\")\" not in table"
   ]
  },
  {
   "cell_type": "code",
   "execution_count": null,
   "metadata": {},
   "outputs": [],
   "source": [
    "# 316. remove-duplicate-letters\n",
    "def removeDuplicateLetters(s):\n",
    "    stack = []\n",
    "    for char in s:\n",
    "        if char not in stack:\n",
    "            stack.append(char)\n",
    "        e"
   ]
  },
  {
   "cell_type": "markdown",
   "metadata": {},
   "source": [
    "반복되는 거 제거!\n",
    "사전식 순서 -> 사전에서 가장 먼저 찾을 수 있는 순서!?\n",
    "중복되는 문자열 제거(하나만 남기기)"
   ]
  },
  {
   "cell_type": "code",
   "execution_count": 18,
   "metadata": {},
   "outputs": [],
   "source": [
    "import collections"
   ]
  },
  {
   "cell_type": "code",
   "execution_count": 19,
   "metadata": {},
   "outputs": [
    {
     "data": {
      "text/plain": [
       "Counter({'b': 2, 'c': 2, 'a': 1})"
      ]
     },
     "execution_count": 19,
     "metadata": {},
     "output_type": "execute_result"
    }
   ],
   "source": [
    "s = \"bcabc\"\n",
    "collections.Counter(s)"
   ]
  },
  {
   "cell_type": "code",
   "execution_count": 22,
   "metadata": {},
   "outputs": [],
   "source": [
    "def removeDuplicateLetters(s: str) -> str:\n",
    "        counter, stack = collections.Counter(s), []\n",
    "\n",
    "        for char in s:\n",
    "            counter[char] -= 1\n",
    "            if char in stack:\n",
    "                continue\n",
    "            # 뒤에 붙일 문자가 남아 있다면 스택에서 제거\n",
    "            print(stack, counter)\n",
    "            while stack and char < stack[-1] and counter[stack[-1]] > 0:\n",
    "                stack.pop()\n",
    "            stack.append(char)\n",
    "\n",
    "        return ''.join(stack)"
   ]
  },
  {
   "cell_type": "code",
   "execution_count": 24,
   "metadata": {},
   "outputs": [
    {
     "name": "stdout",
     "output_type": "stream",
     "text": [
      "[] Counter({'c': 3, 'b': 2, 'a': 1, 'd': 1})\n",
      "['c'] Counter({'c': 3, 'b': 1, 'a': 1, 'd': 1})\n",
      "['b'] Counter({'c': 3, 'b': 1, 'd': 1, 'a': 0})\n",
      "['a'] Counter({'c': 2, 'b': 1, 'd': 1, 'a': 0})\n",
      "['a', 'c'] Counter({'c': 2, 'b': 1, 'a': 0, 'd': 0})\n",
      "['a', 'c', 'd'] Counter({'c': 1, 'b': 0, 'a': 0, 'd': 0})\n"
     ]
    },
    {
     "data": {
      "text/plain": [
       "'acdb'"
      ]
     },
     "execution_count": 24,
     "metadata": {},
     "output_type": "execute_result"
    }
   ],
   "source": [
    "s = \"cbacdcbc\"\n",
    "removeDuplicateLetters(s)"
   ]
  },
  {
   "cell_type": "code",
   "execution_count": null,
   "metadata": {},
   "outputs": [],
   "source": [
    "# 225. implement-stack-using-queues\n",
    "class MyStack(object):\n",
    "    \n",
    "    def __init__(self):\n",
    "        import collections\n",
    "        self.q = collections.deque()\n",
    "        \n",
    "\n",
    "    def push(self, x):\n",
    "        self.q.append(x)\n",
    "\n",
    "    def pop(self):\n",
    "        return self.q.pop()\n",
    "        \n",
    "\n",
    "    def top(self):\n",
    "        return self.q[-1]\n",
    "        \n",
    "\n",
    "    def empty(self):\n",
    "        return len(self.q) == 0\n"
   ]
  }
 ],
 "metadata": {
  "kernelspec": {
   "display_name": "Python 3",
   "language": "python",
   "name": "python3"
  },
  "language_info": {
   "codemirror_mode": {
    "name": "ipython",
    "version": 3
   },
   "file_extension": ".py",
   "mimetype": "text/x-python",
   "name": "python",
   "nbconvert_exporter": "python",
   "pygments_lexer": "ipython3",
   "version": "3.7.6"
  }
 },
 "nbformat": 4,
 "nbformat_minor": 4
}
