{
 "cells": [
  {
   "cell_type": "code",
   "execution_count": 1,
   "metadata": {},
   "outputs": [
    {
     "name": "stdout",
     "output_type": "stream",
     "text": [
      "3\n",
      "7 5 5 4 9\n",
      "1 1 1 1 1\n",
      "2 3 3 2 10\n",
      "1\n"
     ]
    }
   ],
   "source": [
    "# Q. 2303\n",
    "from itertools import combinations\n",
    "n = int(input())\n",
    "num_list = [list(map(int, input().split())) for i in range(n)]\n",
    "result = []\n",
    "\n",
    "for i, lst in enumerate(num_list):\n",
    "    comb = set(combinations(lst, 3))\n",
    "    comb_sum = list(map(lambda x: int(str(sum(x))[-1]), comb))\n",
    "    comb_sum.sort(reverse=True)\n",
    "    result.append((comb_sum[0], i+1))\n",
    "\n",
    "result.sort(key=lambda x: (-x[0], -x[1]))\n",
    "    \n",
    "print(result[0][1])"
   ]
  },
  {
   "cell_type": "code",
   "execution_count": 21,
   "metadata": {},
   "outputs": [],
   "source": [
    "num1 = [7, 5, 5, 4, 9]\n",
    "num2 = [1, 1, 1, 1, 1]\n",
    "num3 = [2, 3, 3, 2, 10]\n",
    "all_list = [num1, num2, num3]\n",
    "result = []\n",
    "\n",
    "for i, lst in enumerate(all_list):\n",
    "    comb = list(combinations(lst, 3))\n",
    "    comb_sum = list(map(lambda x: int(str(sum(x))[-1]), comb))\n",
    "    comb_sum.sort(reverse=True)\n",
    "    result.append((comb_sum[0], i))"
   ]
  },
  {
   "cell_type": "code",
   "execution_count": 23,
   "metadata": {},
   "outputs": [],
   "source": [
    "result.sort(key=lambda x: (-x[0], -x[1]))"
   ]
  },
  {
   "cell_type": "code",
   "execution_count": 24,
   "metadata": {},
   "outputs": [
    {
     "data": {
      "text/plain": [
       "[(9, 0), (8, 2), (3, 1)]"
      ]
     },
     "execution_count": 24,
     "metadata": {},
     "output_type": "execute_result"
    }
   ],
   "source": [
    "result"
   ]
  },
  {
   "cell_type": "code",
   "execution_count": null,
   "metadata": {},
   "outputs": [],
   "source": []
  }
 ],
 "metadata": {
  "kernelspec": {
   "display_name": "Python 3",
   "language": "python",
   "name": "python3"
  },
  "language_info": {
   "codemirror_mode": {
    "name": "ipython",
    "version": 3
   },
   "file_extension": ".py",
   "mimetype": "text/x-python",
   "name": "python",
   "nbconvert_exporter": "python",
   "pygments_lexer": "ipython3",
   "version": "3.7.6"
  }
 },
 "nbformat": 4,
 "nbformat_minor": 4
}
