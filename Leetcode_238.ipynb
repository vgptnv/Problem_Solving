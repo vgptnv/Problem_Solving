{
 "cells": [
  {
   "cell_type": "code",
   "execution_count": null,
   "metadata": {},
   "outputs": [],
   "source": [
    "#정수 배열이 주어지면 except 의 모든 요소의 곱과 같은 배열 nums을 반환 합니다 .answer answer[i] nums nums[i]\n",
    "#어떤 접두사 또는 접미사의 제품 nums입니다 보장 에 맞게 32 비트 정수입니다.\n",
    "#O(n) 나누기 연산을 사용하지 않고 제 시간에 실행되는 알고리즘을 작성해야합니다  .\n",
    "#예 1 :\n",
    "#입력 : nums = [1,2,3,4]\n",
    "#출력 : [24,12,8,6]\n",
    "#예 2 :\n",
    "#입력 : nums = [-1,1,0, -3,3]\n",
    "#출력 : [0,0,9,0,0]\n",
    "\n",
    "def esther(nums):\n",
    "    out=1\n",
    "    out2=1\n",
    "    result=[]\n",
    "    result2=[]\n",
    "\n",
    "    for i in range(0,len(nums),1):\n",
    "        result.append(out)\n",
    "        out=out*nums[i]\n",
    "    for i in range(len(nums)-1,-1,-1):\n",
    "        result2.append(out2)\n",
    "        out2=out2*nums[i]\n",
    "    result3=[]\n",
    "    result2.reverse()\n",
    "    \n",
    "    for i in range(0,len(result)):\n",
    "        result3.append(result[i]*result2[i])\n",
    "    return(result3)\n"
   ]
  }
 ],
 "metadata": {
  "kernelspec": {
   "display_name": "Python 3",
   "language": "python",
   "name": "python3"
  },
  "language_info": {
   "codemirror_mode": {
    "name": "ipython",
    "version": 3
   },
   "file_extension": ".py",
   "mimetype": "text/x-python",
   "name": "python",
   "nbconvert_exporter": "python",
   "pygments_lexer": "ipython3",
   "version": "3.7.6"
  }
 },
 "nbformat": 4,
 "nbformat_minor": 4
}
