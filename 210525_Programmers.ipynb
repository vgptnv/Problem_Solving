{
 "cells": [
  {
   "cell_type": "code",
   "execution_count": 49,
   "metadata": {},
   "outputs": [],
   "source": [
    "def solution(bridge_length, weight, truck_weights) :\n",
    "    truck_weights = truck_weights[::-1]\n",
    "    n = len(truck_weights)\n",
    "    crossing_weight = [0]*n\n",
    "    crossed = []; crossing = []\n",
    "    \n",
    "    i = 0; j = -1\n",
    "    while len(crossed) < n :\n",
    "        if len(truck_weights)>0 and sum(crossing) + truck_weights[-1] <= weight :\n",
    "            crossing.append(truck_weights.pop())\n",
    "            j+=1\n",
    "            \n",
    "        crossing_weight[:j+1] = [crossing_weight[z]+1 for z in range(j+1)]\n",
    "        \n",
    "        if crossing_weight[i] == bridge_length :\n",
    "            crossed.append(crossing[0])\n",
    "            crossing = crossing[1:]\n",
    "            i+=1\n",
    "    \n",
    "    return crossing_weight[0] + 1"
   ]
  },
  {
   "cell_type": "code",
   "execution_count": 44,
   "metadata": {},
   "outputs": [],
   "source": [
    "def solution(bridge_length, weight, truck_weights):\n",
    "    time = 0\n",
    "    truck_weights = truck_weights[::-1]\n",
    "    crossing_length = [0] * len(truck_weights)\n",
    "    crossing = [] ; crossed = []\n",
    "    first = 0\n",
    "    last = 0\n",
    "    \n",
    "    while True:\n",
    "        time += 1\n",
    "        \n",
    "        try:\n",
    "            for i in range(first, last+1):\n",
    "                crossing_length[i] += 1\n",
    "        except:\n",
    "            for i in range(first, len(truck_weights)):\n",
    "                crossing_length[i] += 1\n",
    "        \n",
    "        if (len(truck_weights) > 0) and (sum(crossing) + truck_weights[-1] < weight):\n",
    "            crossing.append(truck_weights.pop())\n",
    "            last += 1\n",
    "        \n",
    "        try:\n",
    "            if crossing_length[first] > bridge_length:\n",
    "                crossed.append(crossing.pop(0))\n",
    "                first += 1\n",
    "        except:\n",
    "            break\n",
    "            \n",
    "        print(first, last)\n",
    "        print(crossing, crossed)\n",
    "        print(time, crossing_length)\n",
    "   \n",
    "    return time"
   ]
  },
  {
   "cell_type": "code",
   "execution_count": 48,
   "metadata": {
    "scrolled": false
   },
   "outputs": [
    {
     "name": "stdout",
     "output_type": "stream",
     "text": [
      "0 1\n",
      "[2] []\n",
      "1 [1, 0, 0, 0, 0, 0, 0, 0, 0]\n",
      "0 2\n",
      "[2, 2] []\n",
      "2 [2, 1, 0, 0, 0, 0, 0, 0, 0]\n",
      "0 2\n",
      "[2, 2] []\n",
      "3 [3, 2, 1, 0, 0, 0, 0, 0, 0]\n",
      "0 2\n",
      "[2, 2] []\n",
      "4 [4, 3, 2, 0, 0, 0, 0, 0, 0]\n",
      "0 2\n",
      "[2, 2] []\n",
      "5 [5, 4, 3, 0, 0, 0, 0, 0, 0]\n",
      "1 2\n",
      "[2] [2]\n",
      "6 [6, 5, 4, 0, 0, 0, 0, 0, 0]\n",
      "2 3\n",
      "[2] [2, 2]\n",
      "7 [6, 6, 5, 0, 0, 0, 0, 0, 0]\n",
      "3 4\n",
      "[2] [2, 2, 2]\n",
      "8 [6, 6, 6, 1, 0, 0, 0, 0, 0]\n",
      "3 5\n",
      "[2, 1] [2, 2, 2]\n",
      "9 [6, 6, 6, 2, 1, 0, 0, 0, 0]\n",
      "3 6\n",
      "[2, 1, 1] [2, 2, 2]\n",
      "10 [6, 6, 6, 3, 2, 1, 0, 0, 0]\n",
      "3 6\n",
      "[2, 1, 1] [2, 2, 2]\n",
      "11 [6, 6, 6, 4, 3, 2, 1, 0, 0]\n",
      "3 6\n",
      "[2, 1, 1] [2, 2, 2]\n",
      "12 [6, 6, 6, 5, 4, 3, 2, 0, 0]\n",
      "4 6\n",
      "[1, 1] [2, 2, 2, 2]\n",
      "13 [6, 6, 6, 6, 5, 4, 3, 0, 0]\n",
      "5 7\n",
      "[1, 1] [2, 2, 2, 2, 1]\n",
      "14 [6, 6, 6, 6, 6, 5, 4, 0, 0]\n",
      "6 8\n",
      "[1, 1] [2, 2, 2, 2, 1, 1]\n",
      "15 [6, 6, 6, 6, 6, 6, 5, 1, 0]\n",
      "7 9\n",
      "[1, 1] [2, 2, 2, 2, 1, 1, 1]\n",
      "16 [6, 6, 6, 6, 6, 6, 6, 2, 1]\n",
      "7 9\n",
      "[1, 1] [2, 2, 2, 2, 1, 1, 1]\n",
      "17 [6, 6, 6, 6, 6, 6, 6, 3, 2]\n",
      "7 9\n",
      "[1, 1] [2, 2, 2, 2, 1, 1, 1]\n",
      "18 [6, 6, 6, 6, 6, 6, 6, 4, 3]\n",
      "7 9\n",
      "[1, 1] [2, 2, 2, 2, 1, 1, 1]\n",
      "19 [6, 6, 6, 6, 6, 6, 6, 5, 4]\n",
      "8 9\n",
      "[1] [2, 2, 2, 2, 1, 1, 1, 1]\n",
      "20 [6, 6, 6, 6, 6, 6, 6, 6, 5]\n",
      "9 9\n",
      "[] [2, 2, 2, 2, 1, 1, 1, 1, 1]\n",
      "21 [6, 6, 6, 6, 6, 6, 6, 6, 6]\n"
     ]
    },
    {
     "data": {
      "text/plain": [
       "22"
      ]
     },
     "execution_count": 48,
     "metadata": {},
     "output_type": "execute_result"
    }
   ],
   "source": [
    "# solution(2, 10, [7,4,5,6])\n",
    "# solution(100, 100,[10,10,10,10,10,10,10,10,10,10])\n",
    "# solution(100, 100, [10])\n",
    "solution(5, 5, [2, 2, 2, 2, 1, 1, 1, 1, 1])  # 19"
   ]
  },
  {
   "cell_type": "code",
   "execution_count": 26,
   "metadata": {},
   "outputs": [],
   "source": [
    "def solution(bridge_length, weight, truck_weights):\n",
    "    time = 0\n",
    "    truck_weights = truck_weights[::-1]\n",
    "    crossing_length = [0] * len(truck_weights)\n",
    "    crossing = [] ; crossed = []\n",
    "    last = 0\n",
    "    \n",
    "    while True:\n",
    "        time += 1\n",
    "        \n",
    "        for i in range(len(crossed), last+1):\n",
    "            crossing_length[i] += 1\n",
    "            \n",
    "        if crossing_length[len(crossed)] > bridge_length:\n",
    "            crossed.append(crossing.pop(0))\n",
    "        \n",
    "        if (len(truck_weights) > 0) and (sum(crossing) + truck_weights[-1] <= weight):\n",
    "            crossing.append(truck_weights.pop())\n",
    "            last += 1\n",
    "            \n",
    "        if crossing_length[-1] == bridge_length:\n",
    "            break\n",
    "            \n",
    "        print(last+1)\n",
    "        \n",
    "        print(crossing, crossed)\n",
    "\n",
    "        print(time, crossing_length, \"\\n\")\n",
    "            \n",
    "    return time"
   ]
  },
  {
   "cell_type": "code",
   "execution_count": 32,
   "metadata": {},
   "outputs": [
    {
     "data": {
      "text/plain": [
       "7"
      ]
     },
     "execution_count": 32,
     "metadata": {},
     "output_type": "execute_result"
    }
   ],
   "source": [
    "lst = [7, 4, 5, 6]\n",
    "lst.pop(0)"
   ]
  },
  {
   "cell_type": "code",
   "execution_count": null,
   "metadata": {},
   "outputs": [],
   "source": [
    "def solution(bridge_length, weight, truck_weights):\n",
    "    time = 0\n",
    "    truck_weights = truck_weights[::-1]\n",
    "    crossing_length = [0] * len(truck_weights)\n",
    "    crossing = [] ; crossed = []\n",
    "    \n",
    "    while True:\n",
    "        time += 1\n",
    "        \n",
    "        \n",
    "            \n",
    "    return time"
   ]
  },
  {
   "cell_type": "code",
   "execution_count": null,
   "metadata": {},
   "outputs": [],
   "source": [
    "def solution(bridge_length,weight,truck_weights):\n",
    "    answer = 0\n",
    "    crossing = [0] * len(truck_weights)\n",
    "    crossed = []"
   ]
  },
  {
   "cell_type": "code",
   "execution_count": 1,
   "metadata": {},
   "outputs": [
    {
     "data": {
      "text/plain": [
       "[0, 0, 0, 0]"
      ]
     },
     "execution_count": 1,
     "metadata": {},
     "output_type": "execute_result"
    }
   ],
   "source": [
    "[0] * 4"
   ]
  },
  {
   "cell_type": "code",
   "execution_count": 5,
   "metadata": {},
   "outputs": [],
   "source": [
    "from collections import defaultdict"
   ]
  },
  {
   "cell_type": "code",
   "execution_count": 15,
   "metadata": {},
   "outputs": [
    {
     "data": {
      "text/plain": [
       "[range(0, 4)]"
      ]
     },
     "execution_count": 15,
     "metadata": {},
     "output_type": "execute_result"
    }
   ],
   "source": []
  },
  {
   "cell_type": "code",
   "execution_count": 75,
   "metadata": {},
   "outputs": [
    {
     "data": {
      "text/plain": [
       "22"
      ]
     },
     "execution_count": 75,
     "metadata": {},
     "output_type": "execute_result"
    }
   ],
   "source": [
    "truck_weights = [7,4,5,6]\n",
    "sum(truck_weights[0:5])"
   ]
  },
  {
   "cell_type": "code",
   "execution_count": 73,
   "metadata": {},
   "outputs": [],
   "source": [
    "for i in range(0, 0):\n",
    "    print(i)"
   ]
  },
  {
   "cell_type": "code",
   "execution_count": 52,
   "metadata": {},
   "outputs": [],
   "source": [
    "if None:\n",
    "    print(\"hello\")"
   ]
  }
 ],
 "metadata": {
  "kernelspec": {
   "display_name": "Python 3",
   "language": "python",
   "name": "python3"
  },
  "language_info": {
   "codemirror_mode": {
    "name": "ipython",
    "version": 3
   },
   "file_extension": ".py",
   "mimetype": "text/x-python",
   "name": "python",
   "nbconvert_exporter": "python",
   "pygments_lexer": "ipython3",
   "version": "3.7.6"
  }
 },
 "nbformat": 4,
 "nbformat_minor": 4
}
