{
 "cells": [
  {
   "cell_type": "code",
   "execution_count": 3,
   "metadata": {},
   "outputs": [
    {
     "name": "stdout",
     "output_type": "stream",
     "text": [
      "3\n",
      "((\n",
      "NO\n",
      "))\n",
      "NO\n",
      "())(()\n",
      "YES\n"
     ]
    }
   ],
   "source": [
    "# 9012. 괄호\n",
    "import sys\n",
    "# sys.stdin.readline()\n",
    "n = int(input())\n",
    "\n",
    "for _ in range(n):\n",
    "    string = input()\n",
    "    stack = []\n",
    "    for c in string:\n",
    "        if c == \"(\":\n",
    "            left += 1\n",
    "        elif c == \")\":\n",
    "            right += 1\n",
    "    if left == right:\n",
    "        print(\"YES\")\n",
    "    else:\n",
    "        print(\"NO\")"
   ]
  },
  {
   "cell_type": "code",
   "execution_count": 7,
   "metadata": {},
   "outputs": [
    {
     "name": "stdout",
     "output_type": "stream",
     "text": [
      "3\n",
      "(()((())()(\n",
      "NO\n",
      "()()()()(()()())()\n",
      "YES\n",
      "())(()\n",
      "NO\n"
     ]
    }
   ],
   "source": [
    "# 9012. 괄호\n",
    "import sys\n",
    "# sys.stdin.readline()\n",
    "n = int(input())\n",
    "\n",
    "for _ in range(n):\n",
    "    string = input()\n",
    "    stack = []\n",
    "    for c in string:\n",
    "        stack.append(c)\n",
    "        if len(stack) > 1:\n",
    "            if stack[-2] == \"(\" and stack[-1] == \")\":\n",
    "                stack.pop()\n",
    "                stack.pop()\n",
    "    if len(stack) != 0:\n",
    "        print(\"NO\")\n",
    "    else:\n",
    "        print(\"YES\")"
   ]
  },
  {
   "cell_type": "code",
   "execution_count": null,
   "metadata": {},
   "outputs": [],
   "source": [
    "# 9012. 괄호\n",
    "import sys\n",
    "# sys.stdin.readline()\n",
    "n = int(input())\n",
    "\n",
    "for _ in range(n):\n",
    "    string = list(input())\n",
    "    while len(string) != 0:\n",
    "        if string[0] == ')':\n",
    "            print('NO')\n",
    "            break\n",
    "        else:\n",
    "            if ')' in string:\n",
    "                string.remove('(')\n",
    "                string.remove(')')\n",
    "            else:\n",
    "                print(\"NO\")\n",
    "                break\n",
    "    if len(string) == 0:\n",
    "        print(\"YES\")\n",
    "        \n",
    "        \n",
    "    for c in string:\n",
    "        stack.append(c)\n",
    "        if len(stack) > 1:\n",
    "            if stack[-2] == \"(\" and stack[-1] == \")\":\n",
    "                stack.pop()\n",
    "                stack.pop()\n",
    "    if len(stack) != 0:\n",
    "        print(\"NO\")\n",
    "    else:\n",
    "        print(\"YES\")"
   ]
  },
  {
   "cell_type": "code",
   "execution_count": 1,
   "metadata": {},
   "outputs": [
    {
     "data": {
      "text/plain": [
       "['(', ')', ')', '(']"
      ]
     },
     "execution_count": 1,
     "metadata": {},
     "output_type": "execute_result"
    }
   ],
   "source": [
    "string = list('()))(')\n",
    "string.remove(')')\n",
    "string"
   ]
  },
  {
   "cell_type": "code",
   "execution_count": null,
   "metadata": {},
   "outputs": [],
   "source": [
    "import sys\n",
    "from collections import deque\n",
    "T = int(input())\n",
    "\n",
    "for _ in range(T):\n",
    "    s = deque()\n",
    "    for e in input():\n",
    "        if e == '(':\n",
    "            s.append('(')\n",
    "        elif e == ')':\n",
    "            if len(s) == 0 or s[-1] == ')':\n",
    "                print('NO')\n",
    "                break\n",
    "            else:\n",
    "                s.pop()  # 끝에 '('을 빼주는\n",
    "    if len(s) == 0:\n",
    "        print('YES')\n",
    "    else:\n",
    "        print('NO')"
   ]
  }
 ],
 "metadata": {
  "kernelspec": {
   "display_name": "Python 3",
   "language": "python",
   "name": "python3"
  },
  "language_info": {
   "codemirror_mode": {
    "name": "ipython",
    "version": 3
   },
   "file_extension": ".py",
   "mimetype": "text/x-python",
   "name": "python",
   "nbconvert_exporter": "python",
   "pygments_lexer": "ipython3",
   "version": "3.7.6"
  }
 },
 "nbformat": 4,
 "nbformat_minor": 4
}
