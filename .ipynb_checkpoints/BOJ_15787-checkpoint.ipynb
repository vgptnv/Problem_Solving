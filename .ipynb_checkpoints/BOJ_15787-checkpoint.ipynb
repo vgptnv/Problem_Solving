{
 "cells": [
  {
   "cell_type": "code",
   "execution_count": 2,
   "metadata": {},
   "outputs": [
    {
     "name": "stdout",
     "output_type": "stream",
     "text": [
      "5 5\n",
      "1 1 1\n",
      "1 1 2\n",
      "1 2 2\n",
      "1 2 3\n",
      "3 1\n",
      "2\n"
     ]
    }
   ],
   "source": [
    "# 15787\n",
    "from collections import deque\n",
    "n, m = map(int, input().split())\n",
    "trains = [deque([0 for j in range(20)]) for i in range(n)]\n",
    "\n",
    "for _ in range(m):\n",
    "    command = list(map(int, input().split()))\n",
    "    i = command[1]\n",
    "    if command[0] == 1:\n",
    "        x = command[2]\n",
    "        if trains[i-1][x-1] != 1:\n",
    "            trains[i-1][x-1] = 1\n",
    "    if command[0] == 2:\n",
    "        x = command[2]\n",
    "        if trains[i-1][x-1] != 0:\n",
    "            trains[i-1][x-1] = 0\n",
    "    if command[0] == 3:\n",
    "        trains[i-1].appendleft(0)\n",
    "        trains[i-1].pop()\n",
    "    if command[0] == 4:\n",
    "        trains[i-1].append(0)\n",
    "        trains[i-1].pop(0)\n",
    "\n",
    "result = []\n",
    "for train in trains:\n",
    "    train_seat = tuple([i for i in range(20) if train[i] == 1])\n",
    "    if train_seat not in result:\n",
    "        result.append(train_seat)\n",
    "    \n",
    "print(len(result))"
   ]
  },
  {
   "cell_type": "code",
   "execution_count": 6,
   "metadata": {},
   "outputs": [
    {
     "data": {
      "text/plain": [
       "(3, 4)"
      ]
     },
     "execution_count": 6,
     "metadata": {},
     "output_type": "execute_result"
    }
   ],
   "source": [
    "lst = [0,0,0,1,1]\n",
    "tuple([i for i in range(5) if lst[i] == 1])"
   ]
  },
  {
   "cell_type": "code",
   "execution_count": null,
   "metadata": {},
   "outputs": [],
   "source": []
  }
 ],
 "metadata": {
  "kernelspec": {
   "display_name": "Python 3",
   "language": "python",
   "name": "python3"
  },
  "language_info": {
   "codemirror_mode": {
    "name": "ipython",
    "version": 3
   },
   "file_extension": ".py",
   "mimetype": "text/x-python",
   "name": "python",
   "nbconvert_exporter": "python",
   "pygments_lexer": "ipython3",
   "version": "3.7.6"
  }
 },
 "nbformat": 4,
 "nbformat_minor": 4
}
