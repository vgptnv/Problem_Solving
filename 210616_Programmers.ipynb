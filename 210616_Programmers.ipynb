{
 "cells": [
  {
   "cell_type": "code",
   "execution_count": 30,
   "metadata": {},
   "outputs": [],
   "source": [
    "from itertools import combinations\n",
    "from collections import Counter\n",
    "\n",
    "def solution(orders, course):\n",
    "    \n",
    "    answer = []\n",
    "    \n",
    "#     orders = list(map(lambda x: list(x), orders))\n",
    "#     max_order = max(list(map(len, orders)))\n",
    "#     print(orders)\n",
    "    \n",
    "#     for i in course:\n",
    "#         itertools.combinations(i, orders)\n",
    "    \n",
    "    for i in course:\n",
    "        for j in range(len(orders)):\n",
    "            answer += list(combinations(orders[j], i))\n",
    "            \n",
    "    count = Counter(answer).most_common()\n",
    "    result = []\n",
    "    print(count)\n",
    "    \n",
    "    for c in count:\n",
    "        print(c[1])\n",
    "#         if c[1] >= 2:\n",
    "#             result.append(c)\n",
    "    \n",
    "#     print(result)\n",
    "    \n",
    "    result = list(map(lambda x: ''.join(x), result))\n",
    "    \n",
    "    result.sort()\n",
    "    \n",
    "    return result"
   ]
  },
  {
   "cell_type": "code",
   "execution_count": 31,
   "metadata": {
    "scrolled": true
   },
   "outputs": [
    {
     "name": "stdout",
     "output_type": "stream",
     "text": [
      "[(('A', 'C'), 4), (('C', 'D'), 3), (('C', 'E'), 3), (('D', 'E'), 3), (('C', 'D', 'E'), 3), (('B', 'C'), 2), (('B', 'F'), 2), (('B', 'G'), 2), (('C', 'F'), 2), (('C', 'G'), 2), (('F', 'G'), 2), (('A', 'D'), 2), (('A', 'E'), 2), (('B', 'C', 'F'), 2), (('B', 'C', 'G'), 2), (('B', 'F', 'G'), 2), (('C', 'F', 'G'), 2), (('A', 'C', 'D'), 2), (('A', 'C', 'E'), 2), (('A', 'D', 'E'), 2), (('B', 'C', 'F', 'G'), 2), (('A', 'C', 'D', 'E'), 2), (('A', 'B'), 1), (('A', 'F'), 1), (('A', 'G'), 1), (('A', 'H'), 1), (('C', 'H'), 1), (('D', 'H'), 1), (('E', 'H'), 1), (('A', 'B', 'C'), 1), (('A', 'B', 'F'), 1), (('A', 'B', 'G'), 1), (('A', 'C', 'F'), 1), (('A', 'C', 'G'), 1), (('A', 'F', 'G'), 1), (('A', 'C', 'H'), 1), (('A', 'D', 'H'), 1), (('A', 'E', 'H'), 1), (('C', 'D', 'H'), 1), (('C', 'E', 'H'), 1), (('D', 'E', 'H'), 1), (('A', 'B', 'C', 'F'), 1), (('A', 'B', 'C', 'G'), 1), (('A', 'B', 'F', 'G'), 1), (('A', 'C', 'F', 'G'), 1), (('A', 'C', 'D', 'H'), 1), (('A', 'C', 'E', 'H'), 1), (('A', 'D', 'E', 'H'), 1), (('C', 'D', 'E', 'H'), 1)]\n",
      "(('A', 'C'), 4)\n",
      "(('C', 'D'), 3)\n",
      "(('C', 'E'), 3)\n",
      "(('D', 'E'), 3)\n",
      "(('C', 'D', 'E'), 3)\n",
      "(('B', 'C'), 2)\n",
      "(('B', 'F'), 2)\n",
      "(('B', 'G'), 2)\n",
      "(('C', 'F'), 2)\n",
      "(('C', 'G'), 2)\n",
      "(('F', 'G'), 2)\n",
      "(('A', 'D'), 2)\n",
      "(('A', 'E'), 2)\n",
      "(('B', 'C', 'F'), 2)\n",
      "(('B', 'C', 'G'), 2)\n",
      "(('B', 'F', 'G'), 2)\n",
      "(('C', 'F', 'G'), 2)\n",
      "(('A', 'C', 'D'), 2)\n",
      "(('A', 'C', 'E'), 2)\n",
      "(('A', 'D', 'E'), 2)\n",
      "(('B', 'C', 'F', 'G'), 2)\n",
      "(('A', 'C', 'D', 'E'), 2)\n",
      "(('A', 'B'), 1)\n",
      "(('A', 'F'), 1)\n",
      "(('A', 'G'), 1)\n",
      "(('A', 'H'), 1)\n",
      "(('C', 'H'), 1)\n",
      "(('D', 'H'), 1)\n",
      "(('E', 'H'), 1)\n",
      "(('A', 'B', 'C'), 1)\n",
      "(('A', 'B', 'F'), 1)\n",
      "(('A', 'B', 'G'), 1)\n",
      "(('A', 'C', 'F'), 1)\n",
      "(('A', 'C', 'G'), 1)\n",
      "(('A', 'F', 'G'), 1)\n",
      "(('A', 'C', 'H'), 1)\n",
      "(('A', 'D', 'H'), 1)\n",
      "(('A', 'E', 'H'), 1)\n",
      "(('C', 'D', 'H'), 1)\n",
      "(('C', 'E', 'H'), 1)\n",
      "(('D', 'E', 'H'), 1)\n",
      "(('A', 'B', 'C', 'F'), 1)\n",
      "(('A', 'B', 'C', 'G'), 1)\n",
      "(('A', 'B', 'F', 'G'), 1)\n",
      "(('A', 'C', 'F', 'G'), 1)\n",
      "(('A', 'C', 'D', 'H'), 1)\n",
      "(('A', 'C', 'E', 'H'), 1)\n",
      "(('A', 'D', 'E', 'H'), 1)\n",
      "(('C', 'D', 'E', 'H'), 1)\n"
     ]
    },
    {
     "data": {
      "text/plain": [
       "[]"
      ]
     },
     "execution_count": 31,
     "metadata": {},
     "output_type": "execute_result"
    }
   ],
   "source": [
    "solution([\"ABCFG\", \"AC\", \"CDE\", \"ACDE\", \"BCFG\", \"ACDEH\"], [2,3,4])"
   ]
  },
  {
   "cell_type": "code",
   "execution_count": 20,
   "metadata": {},
   "outputs": [],
   "source": [
    "import collections\n",
    "from itertools import combinations\n",
    "\n",
    "def solution(orders, course):\n",
    "    result = []\n",
    "    for size in course:\n",
    "        order_menus = []\n",
    "        for order in orders:\n",
    "            if len(order) >= size: pass\n",
    "            order_menus += combinations(sorted(order), size)\n",
    "        most_ordered = collections.Counter(order_menus).most_common()\n",
    "        print(most_ordered)\n",
    "        result += [k for k, v in most_ordered if v > 1 and v == most_ordered[0][1]]\n",
    "    return [''.join(v) for v in sorted(result)]"
   ]
  },
  {
   "cell_type": "code",
   "execution_count": 21,
   "metadata": {
    "scrolled": true
   },
   "outputs": [
    {
     "name": "stdout",
     "output_type": "stream",
     "text": [
      "[(('A', 'C'), 4), (('C', 'D'), 3), (('C', 'E'), 3), (('D', 'E'), 3), (('B', 'C'), 2), (('B', 'F'), 2), (('B', 'G'), 2), (('C', 'F'), 2), (('C', 'G'), 2), (('F', 'G'), 2), (('A', 'D'), 2), (('A', 'E'), 2), (('A', 'B'), 1), (('A', 'F'), 1), (('A', 'G'), 1), (('A', 'H'), 1), (('C', 'H'), 1), (('D', 'H'), 1), (('E', 'H'), 1)]\n",
      "[(('C', 'D', 'E'), 3), (('B', 'C', 'F'), 2), (('B', 'C', 'G'), 2), (('B', 'F', 'G'), 2), (('C', 'F', 'G'), 2), (('A', 'C', 'D'), 2), (('A', 'C', 'E'), 2), (('A', 'D', 'E'), 2), (('A', 'B', 'C'), 1), (('A', 'B', 'F'), 1), (('A', 'B', 'G'), 1), (('A', 'C', 'F'), 1), (('A', 'C', 'G'), 1), (('A', 'F', 'G'), 1), (('A', 'C', 'H'), 1), (('A', 'D', 'H'), 1), (('A', 'E', 'H'), 1), (('C', 'D', 'H'), 1), (('C', 'E', 'H'), 1), (('D', 'E', 'H'), 1)]\n",
      "[(('B', 'C', 'F', 'G'), 2), (('A', 'C', 'D', 'E'), 2), (('A', 'B', 'C', 'F'), 1), (('A', 'B', 'C', 'G'), 1), (('A', 'B', 'F', 'G'), 1), (('A', 'C', 'F', 'G'), 1), (('A', 'C', 'D', 'H'), 1), (('A', 'C', 'E', 'H'), 1), (('A', 'D', 'E', 'H'), 1), (('C', 'D', 'E', 'H'), 1)]\n"
     ]
    },
    {
     "data": {
      "text/plain": [
       "['AC', 'ACDE', 'BCFG', 'CDE']"
      ]
     },
     "execution_count": 21,
     "metadata": {},
     "output_type": "execute_result"
    }
   ],
   "source": [
    "solution([\"ABCFG\", \"AC\", \"CDE\", \"ACDE\", \"BCFG\", \"ACDEH\"], [2,3,4])"
   ]
  },
  {
   "cell_type": "code",
   "execution_count": null,
   "metadata": {},
   "outputs": [],
   "source": [
    "''.join"
   ]
  }
 ],
 "metadata": {
  "kernelspec": {
   "display_name": "Python 3",
   "language": "python",
   "name": "python3"
  },
  "language_info": {
   "codemirror_mode": {
    "name": "ipython",
    "version": 3
   },
   "file_extension": ".py",
   "mimetype": "text/x-python",
   "name": "python",
   "nbconvert_exporter": "python",
   "pygments_lexer": "ipython3",
   "version": "3.7.6"
  }
 },
 "nbformat": 4,
 "nbformat_minor": 4
}
