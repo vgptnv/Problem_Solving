{
 "cells": [
  {
   "cell_type": "code",
   "execution_count": 3,
   "id": "a3af3ca0",
   "metadata": {},
   "outputs": [
    {
     "name": "stdout",
     "output_type": "stream",
     "text": [
      "5\n",
      "*\n",
      "**\n",
      "***\n",
      "****\n",
      "*****\n"
     ]
    }
   ],
   "source": [
    "# 2438\n",
    "n = int(input())\n",
    "for i in range(1, n+1):\n",
    "    print(\"*\" * i)"
   ]
  },
  {
   "cell_type": "code",
   "execution_count": 12,
   "id": "a0df39a1",
   "metadata": {},
   "outputs": [
    {
     "name": "stdout",
     "output_type": "stream",
     "text": [
      "5\n",
      "    *\n",
      "   **\n",
      "  ***\n",
      " ****\n",
      "*****\n"
     ]
    }
   ],
   "source": [
    "# 2439\n",
    "n = int(input())\n",
    "for i in range(1, n+1):\n",
    "    print(\" \" * (n-i), \"*\" * i, sep=\"\")"
   ]
  },
  {
   "cell_type": "code",
   "execution_count": 17,
   "id": "074eb569",
   "metadata": {},
   "outputs": [
    {
     "name": "stdout",
     "output_type": "stream",
     "text": [
      "5\n",
      "*****\n",
      "****\n",
      "***\n",
      "**\n",
      "*\n"
     ]
    }
   ],
   "source": [
    "# 2440\n",
    "n = int(input())\n",
    "for i in range(n, 0, -1):\n",
    "    print(\"*\" * i)"
   ]
  },
  {
   "cell_type": "code",
   "execution_count": 19,
   "id": "98eb1451",
   "metadata": {},
   "outputs": [
    {
     "name": "stdout",
     "output_type": "stream",
     "text": [
      "5\n",
      "*****\n",
      " ****\n",
      "  ***\n",
      "   **\n",
      "    *\n"
     ]
    }
   ],
   "source": [
    "# 2441\n",
    "n = int(input())\n",
    "for i in range(n):\n",
    "    print(\" \" * i, \"*\" * (n-i), sep=\"\")"
   ]
  },
  {
   "cell_type": "code",
   "execution_count": 29,
   "id": "31258546",
   "metadata": {},
   "outputs": [
    {
     "name": "stdout",
     "output_type": "stream",
     "text": [
      "5\n",
      "    *\n",
      "   ***\n",
      "  *****\n",
      " *******\n",
      "*********\n"
     ]
    }
   ],
   "source": [
    "# 2442\n",
    "n = int(input())\n",
    "for i in range(1, n+1):\n",
    "    print(\" \"*(n-i) + \"*\" * (2*i-1))"
   ]
  },
  {
   "cell_type": "code",
   "execution_count": 33,
   "id": "eac03729",
   "metadata": {},
   "outputs": [
    {
     "name": "stdout",
     "output_type": "stream",
     "text": [
      "5\n",
      "*        *\n",
      "**      **\n",
      "***    ***\n",
      "****  ****\n",
      "**********\n",
      "****  ****\n",
      "***    ***\n",
      "**      **\n",
      "*        *\n"
     ]
    }
   ],
   "source": [
    "# 2445\n",
    "n = int(input())\n",
    "for i in range(1, 2*n):\n",
    "    if i < n:\n",
    "        j = i\n",
    "    else:\n",
    "        j = 2 * n - i      \n",
    "    print(\"*\" * j + \" \" * 2*(n-j) + \"*\" * j)"
   ]
  },
  {
   "cell_type": "code",
   "execution_count": 35,
   "id": "75605f45",
   "metadata": {},
   "outputs": [
    {
     "name": "stdout",
     "output_type": "stream",
     "text": [
      "3\n",
      "  *\n",
      " **\n",
      "***\n",
      " **\n",
      "  *\n"
     ]
    }
   ],
   "source": [
    "# 2522\n",
    "n = int(input())\n",
    "for i in range(1, n+1):\n",
    "    print(\" \" * (n-i) + \"*\" * i)\n",
    "for i in range(n-1, 0, -1):\n",
    "    print(\" \" * (n-i) + \"*\" * i)"
   ]
  },
  {
   "cell_type": "code",
   "execution_count": 44,
   "id": "094fff40",
   "metadata": {},
   "outputs": [
    {
     "name": "stdout",
     "output_type": "stream",
     "text": [
      "5\n",
      "*********\n",
      " *******\n",
      "  *****\n",
      "   ***\n",
      "    *\n",
      "   ***\n",
      "  *****\n",
      " *******\n",
      "*********\n"
     ]
    }
   ],
   "source": [
    "# 2446\n",
    "n = int(input())\n",
    "for i in range(n):\n",
    "    print(\" \" * i + \"*\" * (2*(n-i)-1))\n",
    "for i in range(n-2, -1, -1):\n",
    "    print(\" \" * i + \"*\" * (2*(n-i)-1))"
   ]
  },
  {
   "cell_type": "code",
   "execution_count": 58,
   "id": "67c00a8d",
   "metadata": {},
   "outputs": [
    {
     "name": "stdout",
     "output_type": "stream",
     "text": [
      "5\n",
      "    *\n",
      "   * *\n",
      "  * * *\n",
      " * * * *\n",
      "* * * * *\n"
     ]
    }
   ],
   "source": [
    "# 10991\n",
    "n = int(input())\n",
    "for i in range(1, n+1):\n",
    "    print(\" \" * (n-i), end=\"\")\n",
    "    for j in range(i):\n",
    "        if j < i-1:\n",
    "            print(\"*\", end=\" \")\n",
    "        else:\n",
    "            print(\"*\")\n",
    "        "
   ]
  },
  {
   "cell_type": "code",
   "execution_count": 59,
   "id": "8d64e7c1",
   "metadata": {},
   "outputs": [
    {
     "name": "stdout",
     "output_type": "stream",
     "text": [
      "5\n",
      "    * \n",
      "   * * \n",
      "  * * * \n",
      " * * * * \n",
      "* * * * * \n"
     ]
    }
   ],
   "source": [
    "n = int(input())\n",
    "for i in range(1,n+1):\n",
    "    print(' '*(n-i)+'* '*i)"
   ]
  },
  {
   "cell_type": "code",
   "execution_count": 80,
   "id": "5ef93079",
   "metadata": {},
   "outputs": [
    {
     "name": "stdout",
     "output_type": "stream",
     "text": [
      "3\n",
      "  *\n",
      " * *\n",
      "*****\n"
     ]
    }
   ],
   "source": [
    "# 10992\n",
    "n = int(input())\n",
    "for i in range(1, n+1):\n",
    "    if i == n:\n",
    "        print(\"*\" * (2 * i - 1))\n",
    "        break\n",
    "    print(\" \" * (n - i) + \"*\", end=\"\")\n",
    "    if i != 1:\n",
    "        print(\" \" * (2 * i - 3) + \"*\")\n",
    "    else:\n",
    "        print(\"\")\n"
   ]
  }
 ],
 "metadata": {
  "kernelspec": {
   "display_name": "Python 3",
   "language": "python",
   "name": "python3"
  },
  "language_info": {
   "codemirror_mode": {
    "name": "ipython",
    "version": 3
   },
   "file_extension": ".py",
   "mimetype": "text/x-python",
   "name": "python",
   "nbconvert_exporter": "python",
   "pygments_lexer": "ipython3",
   "version": "3.7.10"
  }
 },
 "nbformat": 4,
 "nbformat_minor": 5
}
