{
 "cells": [
  {
   "cell_type": "code",
   "execution_count": 5,
   "metadata": {},
   "outputs": [
    {
     "name": "stdout",
     "output_type": "stream",
     "text": [
      "3\n",
      "0 0 0\n",
      "0 0 0\n",
      "0 0 0\n"
     ]
    }
   ],
   "source": [
    "# 1913\n",
    "n = int(input())\n",
    "\n",
    "snail_lst = [[0 for j in range(n)] for i in range(n)]\n",
    "\n",
    "snail_lst[n//2][n//2] = 1\n",
    "for i in range(n**2):\n",
    "    \n",
    "for i in range(n):\n",
    "    print(\" \".join(map(str, snail_lst[i])))"
   ]
  },
  {
   "cell_type": "code",
   "execution_count": 2,
   "metadata": {},
   "outputs": [
    {
     "data": {
      "text/plain": [
       "[[0, 0, 0], [0, 0, 0], [0, 0, 0]]"
      ]
     },
     "execution_count": 2,
     "metadata": {},
     "output_type": "execute_result"
    }
   ],
   "source": [
    "snail_lst = [[0 for j in range(n)] for i in range(n)]\n",
    "snail_lst"
   ]
  },
  {
   "cell_type": "code",
   "execution_count": 6,
   "metadata": {},
   "outputs": [
    {
     "data": {
      "text/plain": [
       "1"
      ]
     },
     "execution_count": 6,
     "metadata": {},
     "output_type": "execute_result"
    }
   ],
   "source": [
    "3//2"
   ]
  },
  {
   "cell_type": "code",
   "execution_count": 13,
   "metadata": {},
   "outputs": [
    {
     "name": "stdout",
     "output_type": "stream",
     "text": [
      "7\n",
      "35\n",
      "49 26 27 28 29 30 31 \n",
      "48 25 10 11 12 13 32 \n",
      "47 24 9 2 3 14 33 \n",
      "46 23 8 1 4 15 34 \n",
      "45 22 7 6 5 16 35 \n",
      "44 21 20 19 18 17 36 \n",
      "43 42 41 40 39 38 37 \n",
      "5 7\n"
     ]
    }
   ],
   "source": [
    "import copy \n",
    "n = int(input()) \n",
    "m = int(input()) \n",
    "snail = [] \n",
    "temp = [] \n",
    "\n",
    "# snail = [0, 0, 0, 0, 0]\n",
    "for i in range(n): \n",
    "    temp.append(0) \n",
    "for i in range(n): \n",
    "    snail.append(copy.deepcopy(temp))\n",
    "    \n",
    "# [[0 for j in range(n)] for i in range(n)]\n",
    "        \n",
    "move = [[0,1],[1,0],[0,-1],[-1,0]]  # 방향 설정\n",
    "d = 0 \n",
    "now_x = 0 ; now_y = 0 ; now_num = n*n \n",
    "\n",
    "while(now_num > 0): \n",
    "    snail[now_y][now_x] = now_num \n",
    "    if (now_x + move[d][0] < 0 or now_x + move[d][0] >= n or now_y + move[d][1] < 0 or now_y + move[d][1] >= n \n",
    "           or snail[now_y+move[d][1]][now_x+move[d][0]] != 0):   # 처음 지나가는 셀이 아니거나 / n*n 밖으로 나간다면\n",
    "        d = (d + 1) % 4   # 0 -> 1 -> 2 -> 3 -> 0 \n",
    "    now_y = now_y + move[d][1] \n",
    "    now_x = now_x + move[d][0] \n",
    "    now_num = now_num - 1 \n",
    "    \n",
    "for i in range(n): \n",
    "    for j in range(n): \n",
    "        if(snail[i][j] == m): \n",
    "            find_x = j \n",
    "            find_y = i \n",
    "        print(snail[i][j] , end = ' ') \n",
    "    print() \n",
    "print(find_y + 1,find_x + 1)"
   ]
  },
  {
   "cell_type": "code",
   "execution_count": 14,
   "metadata": {},
   "outputs": [
    {
     "data": {
      "text/plain": [
       "[[49, 26, 27, 28, 29, 30, 31],\n",
       " [48, 25, 10, 11, 12, 13, 32],\n",
       " [47, 24, 9, 2, 3, 14, 33],\n",
       " [46, 23, 8, 1, 4, 15, 34],\n",
       " [45, 22, 7, 6, 5, 16, 35],\n",
       " [44, 21, 20, 19, 18, 17, 36],\n",
       " [43, 42, 41, 40, 39, 38, 37]]"
      ]
     },
     "execution_count": 14,
     "metadata": {},
     "output_type": "execute_result"
    }
   ],
   "source": [
    "snail"
   ]
  },
  {
   "cell_type": "code",
   "execution_count": 11,
   "metadata": {},
   "outputs": [
    {
     "data": {
      "text/plain": [
       "[1, 2, 3]"
      ]
     },
     "execution_count": 11,
     "metadata": {},
     "output_type": "execute_result"
    }
   ],
   "source": [
    "lst1 = [1,2,3]\n",
    "lst2 = lst1[:]\n",
    "lst2[1] = 5\n",
    "lst1"
   ]
  },
  {
   "cell_type": "code",
   "execution_count": 12,
   "metadata": {},
   "outputs": [
    {
     "data": {
      "text/plain": [
       "[[0, 0, 0, 0, 0, 0, 0],\n",
       " [0, 0, 0, 0, 0, 0, 0],\n",
       " [0, 0, 0, 0, 0, 0, 0],\n",
       " [0, 0, 0, 0, 0, 0, 0],\n",
       " [0, 0, 0, 0, 0, 0, 0],\n",
       " [0, 0, 0, 0, 0, 0, 0],\n",
       " [0, 0, 0, 0, 0, 0, 0]]"
      ]
     },
     "execution_count": 12,
     "metadata": {},
     "output_type": "execute_result"
    }
   ],
   "source": [
    "n = 7\n",
    "[[0 for j in range(n)] for i in range(n)]"
   ]
  },
  {
   "cell_type": "code",
   "execution_count": null,
   "metadata": {},
   "outputs": [],
   "source": []
  }
 ],
 "metadata": {
  "kernelspec": {
   "display_name": "Python 3",
   "language": "python",
   "name": "python3"
  },
  "language_info": {
   "codemirror_mode": {
    "name": "ipython",
    "version": 3
   },
   "file_extension": ".py",
   "mimetype": "text/x-python",
   "name": "python",
   "nbconvert_exporter": "python",
   "pygments_lexer": "ipython3",
   "version": "3.7.6"
  }
 },
 "nbformat": 4,
 "nbformat_minor": 4
}
