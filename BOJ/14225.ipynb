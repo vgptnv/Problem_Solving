{
 "cells": [
  {
   "cell_type": "code",
   "execution_count": null,
   "metadata": {},
   "outputs": [],
   "source": [
    "# Q. 14225\n",
    "from itertools import product\n",
    "\n",
    "n = int(input())\n",
    "num_lst = list(map(int, input().split()))\n",
    "\n",
    "items = [[0,1] for i in range(n)]\n",
    "cases = list(product(*items))\n",
    "cases.remove(tuple([0 for i in range(n)]))  # 0\n",
    "\n",
    "result = []\n",
    "for case in cases:\n",
    "    new_elem = sum([a * b for a, b in zip(num_lst, case)])\n",
    "    result.append(new_elem)\n",
    "    \n",
    "k = 1\n",
    "while True:\n",
    "    if k in result:\n",
    "        k += 1\n",
    "    else:\n",
    "        print(k)\n",
    "        break"
   ]
  },
  {
   "cell_type": "code",
   "execution_count": 1,
   "metadata": {},
   "outputs": [
    {
     "name": "stdout",
     "output_type": "stream",
     "text": [
      "1\n"
     ]
    }
   ],
   "source": [
    "# Q. 14225\n",
    "n = int(input())\n",
    "num_lst = list(map(int, input().split()))\n",
    "num_lst.sort()\n",
    "\n",
    "a = 0\n",
    "for i in num_lst:\n",
    "    if a + 1 < i: \n",
    "        break\n",
    "    a += i\n",
    "    \n",
    "print(a+1)"
   ]
  },
  {
   "cell_type": "code",
   "execution_count": null,
   "metadata": {},
   "outputs": [],
   "source": []
  }
 ],
 "metadata": {
  "interpreter": {
   "hash": "842d2169f82d7db1dfac7d91753e529f60f575232793c66531d2d283e0c0fc6d"
  },
  "kernelspec": {
   "display_name": "Python 3.9.4 ('py39': conda)",
   "language": "python",
   "name": "python3"
  },
  "language_info": {
   "codemirror_mode": {
    "name": "ipython",
    "version": 3
   },
   "file_extension": ".py",
   "mimetype": "text/x-python",
   "name": "python",
   "nbconvert_exporter": "python",
   "pygments_lexer": "ipython3",
   "version": "3.9.4"
  },
  "orig_nbformat": 4
 },
 "nbformat": 4,
 "nbformat_minor": 2
}
