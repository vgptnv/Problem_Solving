{
 "cells": [
  {
   "cell_type": "code",
   "execution_count": 41,
   "metadata": {},
   "outputs": [
    {
     "name": "stdout",
     "output_type": "stream",
     "text": [
      "4 6\n",
      "101111\n",
      "101010\n",
      "101011\n",
      "111011\n",
      "[[1, 0, 0, 0, 0, 0], [2, 0, 0, 0, 0, 0], [0, 0, 0, 0, 0, 0], [0, 0, 0, 0, 0, 0]]\n",
      "[[1, 0, 0, 0, 0, 0], [2, 0, 0, 0, 0, 0], [3, 0, 0, 0, 0, 0], [0, 0, 0, 0, 0, 0]]\n",
      "[[1, 0, 0, 0, 0, 0], [2, 0, 0, 0, 0, 0], [3, 0, 0, 0, 0, 0], [4, 0, 0, 0, 0, 0]]\n",
      "[[1, 0, 0, 0, 0, 0], [2, 0, 0, 0, 0, 0], [3, 0, 0, 0, 0, 0], [4, 5, 0, 0, 0, 0]]\n",
      "[[1, 0, 0, 0, 0, 0], [2, 0, 0, 0, 0, 0], [3, 0, 0, 0, 0, 0], [4, 5, 6, 0, 0, 0]]\n",
      "[[1, 0, 0, 0, 0, 0], [2, 0, 0, 0, 0, 0], [3, 0, 7, 0, 0, 0], [4, 5, 6, 0, 0, 0]]\n",
      "[[1, 0, 0, 0, 0, 0], [2, 0, 8, 0, 0, 0], [3, 0, 7, 0, 0, 0], [4, 5, 6, 0, 0, 0]]\n",
      "[[1, 0, 9, 0, 0, 0], [2, 0, 8, 0, 0, 0], [3, 0, 7, 0, 0, 0], [4, 5, 6, 0, 0, 0]]\n",
      "[[1, 0, 9, 10, 0, 0], [2, 0, 8, 0, 0, 0], [3, 0, 7, 0, 0, 0], [4, 5, 6, 0, 0, 0]]\n",
      "[[1, 0, 9, 10, 11, 0], [2, 0, 8, 0, 0, 0], [3, 0, 7, 0, 0, 0], [4, 5, 6, 0, 0, 0]]\n",
      "[[1, 0, 9, 10, 11, 0], [2, 0, 8, 0, 12, 0], [3, 0, 7, 0, 0, 0], [4, 5, 6, 0, 0, 0]]\n",
      "[[1, 0, 9, 10, 11, 12], [2, 0, 8, 0, 12, 0], [3, 0, 7, 0, 0, 0], [4, 5, 6, 0, 0, 0]]\n",
      "[[1, 0, 9, 10, 11, 12], [2, 0, 8, 0, 12, 0], [3, 0, 7, 0, 13, 0], [4, 5, 6, 0, 0, 0]]\n",
      "[[1, 0, 9, 10, 11, 12], [2, 0, 8, 0, 12, 0], [3, 0, 7, 0, 13, 0], [4, 5, 6, 0, 14, 0]]\n",
      "[[1, 0, 9, 10, 11, 12], [2, 0, 8, 0, 12, 0], [3, 0, 7, 0, 13, 14], [4, 5, 6, 0, 14, 0]]\n",
      "[[1, 0, 9, 10, 11, 12], [2, 0, 8, 0, 12, 0], [3, 0, 7, 0, 13, 14], [4, 5, 6, 0, 14, 15]]\n",
      "15\n"
     ]
    }
   ],
   "source": [
    "# Q. 2178\n",
    "from copy import deepcopy\n",
    "n, m = map(int, input().split())\n",
    "\n",
    "maze = [list(map(int, input())) for _ in range(n)]\n",
    "visited = [[False for _ in range(m)] for _ in range(n)]\n",
    "result = [[0 for _ in range(m)] for _ in range(n)]\n",
    "\n",
    "def bfs():  # FIFO rule\n",
    "    directions = [(-1, 0), (1, 0), (0, -1), (0, 1)]\n",
    "    queue = [[0,0]]\n",
    "    result[0][0] = 1\n",
    "    \n",
    "    while queue:\n",
    "        x, y = queue[0][0], queue[0][1]\n",
    "        visited[0][0] = True\n",
    "        del queue[0]\n",
    "        for dx, dy in directions:\n",
    "            nx = x + dx\n",
    "            ny = y + dy\n",
    "            if nx < 0 or nx >= n or ny < 0 or ny >= m:\n",
    "                continue\n",
    "            elif maze[nx][ny] == 1 and not visited[nx][ny]:\n",
    "                visited[nx][ny] = True\n",
    "                queue.append([nx, ny])\n",
    "                result[nx][ny] = result[x][y] + 1\n",
    "\n",
    "bfs()\n",
    "print(result[n-1][m-1])\n",
    "            "
   ]
  },
  {
   "cell_type": "code",
   "execution_count": 42,
   "metadata": {},
   "outputs": [
    {
     "data": {
      "text/plain": [
       "[[1, 0, 9, 10, 11, 12],\n",
       " [2, 0, 8, 0, 12, 0],\n",
       " [3, 0, 7, 0, 13, 14],\n",
       " [4, 5, 6, 0, 14, 15]]"
      ]
     },
     "execution_count": 42,
     "metadata": {},
     "output_type": "execute_result"
    }
   ],
   "source": [
    "result"
   ]
  },
  {
   "cell_type": "code",
   "execution_count": 37,
   "metadata": {},
   "outputs": [
    {
     "data": {
      "text/plain": [
       "[[1, 0, 1, 1, 1, 1],\n",
       " [1, 0, 1, 0, 1, 0],\n",
       " [1, 0, 1, 0, 1, 1],\n",
       " [1, 1, 1, 0, 1, 1]]"
      ]
     },
     "execution_count": 37,
     "metadata": {},
     "output_type": "execute_result"
    }
   ],
   "source": [
    "maze"
   ]
  },
  {
   "cell_type": "code",
   "execution_count": 39,
   "metadata": {},
   "outputs": [
    {
     "data": {
      "text/plain": [
       "[[True, False, True, True, True, True],\n",
       " [True, False, True, False, True, False],\n",
       " [True, False, True, False, True, True],\n",
       " [True, True, True, False, True, True]]"
      ]
     },
     "execution_count": 39,
     "metadata": {},
     "output_type": "execute_result"
    }
   ],
   "source": [
    "visited"
   ]
  },
  {
   "cell_type": "code",
   "execution_count": null,
   "metadata": {},
   "outputs": [],
   "source": []
  }
 ],
 "metadata": {
  "kernelspec": {
   "display_name": "Python 3",
   "language": "python",
   "name": "python3"
  },
  "language_info": {
   "codemirror_mode": {
    "name": "ipython",
    "version": 3
   },
   "file_extension": ".py",
   "mimetype": "text/x-python",
   "name": "python",
   "nbconvert_exporter": "python",
   "pygments_lexer": "ipython3",
   "version": "3.7.6"
  }
 },
 "nbformat": 4,
 "nbformat_minor": 4
}
