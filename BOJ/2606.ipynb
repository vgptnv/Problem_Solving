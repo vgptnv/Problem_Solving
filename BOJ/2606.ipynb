{
 "cells": [
  {
   "cell_type": "code",
   "execution_count": 1,
   "metadata": {},
   "outputs": [
    {
     "name": "stdout",
     "output_type": "stream",
     "text": [
      "4\n"
     ]
    }
   ],
   "source": [
    "# 2606. 바이러스\n",
    "from collections import deque, defaultdict\n",
    "\n",
    "n = int(input())\n",
    "m = int(input())\n",
    "\n",
    "def bfs(graph, start_node):\n",
    "    deq = deque([start_node])\n",
    "    visited = []\n",
    "    \n",
    "    while deq:\n",
    "#         print(visited)\n",
    "        node = deq.popleft()\n",
    "        if node not in visited:\n",
    "            visited.append(node)\n",
    "            deq.extend(graph[node])\n",
    "    return len(visited) - 1\n",
    "\n",
    "graph = defaultdict(list)\n",
    "\n",
    "for _ in range(m):\n",
    "    node1, node2 = map(int, input().split())\n",
    "    graph[node1].append(node2)\n",
    "    graph[node2].append(node1)\n",
    "\n",
    "print(bfs(graph, 1))"
   ]
  },
  {
   "cell_type": "code",
   "execution_count": 2,
   "metadata": {},
   "outputs": [
    {
     "data": {
      "text/plain": [
       "defaultdict(list,\n",
       "            {1: [2, 5],\n",
       "             2: [1, 3, 5],\n",
       "             3: [2],\n",
       "             5: [1, 2, 6],\n",
       "             6: [5],\n",
       "             4: [7],\n",
       "             7: [4]})"
      ]
     },
     "execution_count": 2,
     "metadata": {},
     "output_type": "execute_result"
    }
   ],
   "source": [
    "graph"
   ]
  },
  {
   "cell_type": "code",
   "execution_count": null,
   "metadata": {},
   "outputs": [],
   "source": []
  }
 ],
 "metadata": {
  "interpreter": {
   "hash": "842d2169f82d7db1dfac7d91753e529f60f575232793c66531d2d283e0c0fc6d"
  },
  "kernelspec": {
   "display_name": "Python 3.9.4 64-bit ('py39': conda)",
   "name": "python3"
  },
  "language_info": {
   "codemirror_mode": {
    "name": "ipython",
    "version": 3
   },
   "file_extension": ".py",
   "mimetype": "text/x-python",
   "name": "python",
   "nbconvert_exporter": "python",
   "pygments_lexer": "ipython3",
   "version": "3.9.4"
  },
  "orig_nbformat": 4
 },
 "nbformat": 4,
 "nbformat_minor": 2
}
