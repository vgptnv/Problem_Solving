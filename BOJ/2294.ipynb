{
 "cells": [
  {
   "cell_type": "code",
   "execution_count": null,
   "metadata": {},
   "outputs": [],
   "source": [
    "# Q. 2294\n",
    "n, k = map(int, input().split())\n",
    "coins = list({int(input()) for _ in range(n)})  # unique 한 coin 종류만 저장\n",
    "dp = [0 for i in range(k+1)]\n",
    "\n",
    "for i in range(1, k+1):\n",
    "    lst = []\n",
    "    for coin in coins:\n",
    "        if coin <= i and dp[i-coin] != -1:\n",
    "            lst.append(dp[i-coin])\n",
    "    if not lst:  # 빈 list\n",
    "        dp[i] = -1\n",
    "    else:\n",
    "        dp[i] = min(lst) + 1\n",
    "\n",
    "print(dp[k])\n",
    "            \n",
    "            "
   ]
  },
  {
   "cell_type": "code",
   "execution_count": null,
   "metadata": {},
   "outputs": [],
   "source": []
  }
 ],
 "metadata": {
  "interpreter": {
   "hash": "e7c2614996dc93601b39e7513826356290600029fcafdf3bba5f032caf10692a"
  },
  "kernelspec": {
   "display_name": "Python 3.7.6 64-bit ('base': conda)",
   "language": "python",
   "name": "python3"
  },
  "language_info": {
   "codemirror_mode": {
    "name": "ipython",
    "version": 3
   },
   "file_extension": ".py",
   "mimetype": "text/x-python",
   "name": "python",
   "nbconvert_exporter": "python",
   "pygments_lexer": "ipython3",
   "version": "3.7.6"
  },
  "orig_nbformat": 4
 },
 "nbformat": 4,
 "nbformat_minor": 2
}
