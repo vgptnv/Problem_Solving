{
 "cells": [
  {
   "cell_type": "code",
   "execution_count": 1,
   "metadata": {},
   "outputs": [
    {
     "name": "stdout",
     "output_type": "stream",
     "text": [
      "3\n",
      "..*\n",
      "*..\n",
      "...\n",
      "x..\n",
      "...\n",
      ".xx\n",
      "1..\n",
      "...\n",
      ".10\n"
     ]
    }
   ],
   "source": [
    "# 4396.\n",
    "n = int(input())\n",
    "# 원래 n*n보다 두 줄씩 더 크게 만들어주기!\n",
    "mine_map = [[0 for j in range(n+2)] for i in range(n+2)]\n",
    "count_map = [[0 for j in range(n+2)] for i in range(n+2)]\n",
    "for i in range(n):\n",
    "    loc = input()\n",
    "    for j in range(n):\n",
    "        if loc[j] == \"*\":\n",
    "            mine_map[i+1][j+1] = 1\n",
    "            for k in range(-1,2):  # 행 -1, 0 ,1\n",
    "                for l in range(-1,2):  # 열\n",
    "                    count_map[i+1+k][j+1+l] += 1\n",
    "\n",
    "result = []  # 2차원\n",
    "breaker = False\n",
    "clk_cell = \n",
    "for i in range(n):\n",
    "    clk_cell = input()\n",
    "    line = []\n",
    "    for j in range(n):\n",
    "        if clk_cell[j] == \"x\":\n",
    "            if mine_map[i+1][j+1] == 1:  # 지뢰일 떄\n",
    "                breaker = True  # 지뢰가 터졌다 안 터졌다! \n",
    "            line.append(count_map[i+1][j+1])\n",
    "        else:\n",
    "            line.append(\".\")\n",
    "    result.append(line)\n",
    "\n",
    "if breaker:\n",
    "    result = [[\"*\" for j in range(n)] for i in range(n)]\n",
    "    \n",
    "for i in range(n):\n",
    "    print(''.join(map(str, result[i])))"
   ]
  },
  {
   "cell_type": "code",
   "execution_count": 2,
   "metadata": {},
   "outputs": [
    {
     "data": {
      "text/plain": [
       "[[0, 0, 1, 1, 1],\n",
       " [1, 1, 2, 1, 1],\n",
       " [1, 1, 2, 1, 1],\n",
       " [1, 1, 1, 0, 0],\n",
       " [0, 0, 0, 0, 0]]"
      ]
     },
     "execution_count": 2,
     "metadata": {},
     "output_type": "execute_result"
    }
   ],
   "source": [
    "count_map"
   ]
  },
  {
   "cell_type": "code",
   "execution_count": null,
   "metadata": {},
   "outputs": [],
   "source": []
  },
  {
   "cell_type": "code",
   "execution_count": 14,
   "metadata": {},
   "outputs": [],
   "source": [
    "n = 4\n",
    "mine_map = [[1 for j in range(n+2)] for i in range(n+2)]"
   ]
  },
  {
   "cell_type": "code",
   "execution_count": 17,
   "metadata": {},
   "outputs": [
    {
     "data": {
      "text/plain": [
       "[[1, 1, 1, 1, 1, 1],\n",
       " [1, 1, 1, 1, 1, 1],\n",
       " [1, 1, 1, 1, 1, 1],\n",
       " [1, 1, 1, 1, 1, 1],\n",
       " [1, 1, 1, 1, 1, 1],\n",
       " [1, 1, 1, 1, 1, 1]]"
      ]
     },
     "execution_count": 17,
     "metadata": {},
     "output_type": "execute_result"
    }
   ],
   "source": [
    "mine_map"
   ]
  },
  {
   "cell_type": "code",
   "execution_count": 25,
   "metadata": {},
   "outputs": [
    {
     "data": {
      "text/plain": [
       "[[1, 1, 1, 1, 1, 1], [1, 1, 1, 1, 1, 1], [1, 1, 1, 1, 1, 1]]"
      ]
     },
     "execution_count": 25,
     "metadata": {},
     "output_type": "execute_result"
    }
   ],
   "source": [
    "i, j = 1, 1\n",
    "mine_map[i-1:i+2][j-1:j+2]"
   ]
  },
  {
   "cell_type": "code",
   "execution_count": 29,
   "metadata": {},
   "outputs": [],
   "source": [
    "result = [[0, 0, 1, '.', '.', '.', '.', '.'], [0, 0, 1, 3, '.', '.', '.', '.'], [0, 0, 0, 1, '.', '.', '.', '.'], [0, 0, 0, 1, 1, '.', '.', '.'], [0, 0, 0, 0, 1, '.', '.', '.'], [0, 0, 1, 2, 3, '.', '.', '.'], [0, 0, 1, '.', '.', '.', '.', '.'], [0, 0, 1, 2, 3, '.', '.', '.']]"
   ]
  },
  {
   "cell_type": "code",
   "execution_count": 30,
   "metadata": {},
   "outputs": [
    {
     "name": "stdout",
     "output_type": "stream",
     "text": [
      "001.....\n",
      "0013....\n",
      "0001....\n",
      "00011...\n",
      "00001...\n",
      "00123...\n",
      "001.....\n",
      "00123...\n"
     ]
    }
   ],
   "source": [
    "for i in range(n):\n",
    "    print(''.join(map(str, result[i])))"
   ]
  },
  {
   "cell_type": "code",
   "execution_count": 3,
   "metadata": {},
   "outputs": [
    {
     "name": "stdout",
     "output_type": "stream",
     "text": [
      "3\n",
      "..*\n",
      ".*.\n",
      "*..\n",
      "xx.\n",
      ".xx\n",
      "...\n",
      "12*\n",
      ".*2\n",
      "*..\n"
     ]
    }
   ],
   "source": [
    "n = int(input())\n",
    "mine = [list(input()) for _ in range(n)]\n",
    "board = [list(input()) for _ in range(n)]\n",
    "result = [['.'] * n for _ in range(n)]  \n",
    "dx = [-1, -1, -1, 0, 0, 1, 1, 1] \n",
    "dy = [-1, 0, 1, -1, 1, -1, 0, 1]\n",
    "\n",
    "for x in range(n):\n",
    "    for y in range(n):\n",
    "        if mine[x][y] == '.' and board[x][y] == 'x':    # 지뢰가 없으면서 열린 칸\n",
    "            cnt = 0\n",
    "            for i in range(8):\n",
    "                nx = x + dx[i]  # x-1, x+0, x+1\n",
    "                ny = y + dy[i]  # y-1, y+0, y+1\n",
    "                \n",
    "                if nx < 0 or ny < 0 or nx >= n or ny >= n:\n",
    "                    continue\n",
    "                    \n",
    "                if mine[nx][ny] == '*':\n",
    "                    cnt += 1\n",
    "            result[x][y] = cnt    # 19번의 조건 절을 통과하지 않아도 cnt 적용\n",
    "        \n",
    "        if mine[x][y] == '*' and board[x][y] == 'x':    # 지뢰가 있는 칸이 열렸다면 -> 전체 칸을 *로 출력\n",
    "            for a in range(n):\n",
    "                for b in range(n):\n",
    "#                     if mine[a][b] == '*':    # 첫번째 입력 중 지뢰가 있는 칸이면\n",
    "                        result[a][b] = '*'    # 지뢰가 있는 모든 칸을 별표로 표시\n",
    "                        \n",
    "for i in range(n):\n",
    "    for j in range(n):\n",
    "        print(result[i][j], end='')\n",
    "    print()"
   ]
  },
  {
   "cell_type": "code",
   "execution_count": 9,
   "metadata": {},
   "outputs": [],
   "source": [
    "n = 3\n",
    "result = [['.'] * n for _ in range(n)]  \n",
    "for a in range(n):\n",
    "    for b in range(n):\n",
    "#                     if mine[a][b] == '*':    # 첫번째 입력 중 지뢰가 있는 칸이면\n",
    "                    result[a][b] = '*'    # 지뢰가 있는 모든 칸을 별표로 표시"
   ]
  },
  {
   "cell_type": "code",
   "execution_count": 10,
   "metadata": {},
   "outputs": [
    {
     "data": {
      "text/plain": [
       "[['*', '*', '*'], ['*', '*', '*'], ['*', '*', '*']]"
      ]
     },
     "execution_count": 10,
     "metadata": {},
     "output_type": "execute_result"
    }
   ],
   "source": [
    "result"
   ]
  },
  {
   "cell_type": "code",
   "execution_count": 7,
   "metadata": {},
   "outputs": [
    {
     "data": {
      "text/plain": [
       "[['.', '.', '.'], ['.', '.', '.'], ['.', '.', '.']]"
      ]
     },
     "execution_count": 7,
     "metadata": {},
     "output_type": "execute_result"
    }
   ],
   "source": [
    "n = 3\n",
    "[['.'] * n for _ in range(n)]"
   ]
  },
  {
   "cell_type": "code",
   "execution_count": null,
   "metadata": {},
   "outputs": [],
   "source": []
  }
 ],
 "metadata": {
  "kernelspec": {
   "display_name": "Python 3",
   "language": "python",
   "name": "python3"
  },
  "language_info": {
   "codemirror_mode": {
    "name": "ipython",
    "version": 3
   },
   "file_extension": ".py",
   "mimetype": "text/x-python",
   "name": "python",
   "nbconvert_exporter": "python",
   "pygments_lexer": "ipython3",
   "version": "3.7.6"
  }
 },
 "nbformat": 4,
 "nbformat_minor": 4
}
