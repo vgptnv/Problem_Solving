{
 "cells": [
  {
   "cell_type": "code",
   "execution_count": 1,
   "metadata": {},
   "outputs": [
    {
     "name": "stdout",
     "output_type": "stream",
     "text": [
      "3 2 2\n",
      "2 3.0 1 0.2 3 0.1\n",
      "0 1\n",
      "2 3\n",
      "4 5\n",
      "3 1.0 2 0.5 1 0.2\n",
      "0 1\n",
      "2 3\n",
      "4 5\n",
      "1.2\n"
     ]
    }
   ],
   "source": [
    "# Q. 2865\n",
    "n, m, k = map(int, input().split())\n",
    "entry = {i+1:0 for i in range(n)}\n",
    "\n",
    "for i in range(m):  # genre\n",
    "    lst = list(map(float, input().split()))\n",
    "    for j in range(n):\n",
    "        if entry[int(lst[j*2])] < lst[j*2+1]:  # 이전 장르 능력보다 이 장르 능력이 높으면\n",
    "            entry[int(lst[j*2])] = lst[j*2+1]\n",
    "\n",
    "candidate = [entry[p] for p in entry]\n",
    "candidate.sort(reverse=True)\n",
    "\n",
    "print(round(sum(candidate[:k]), 1))"
   ]
  },
  {
   "cell_type": "code",
   "execution_count": 2,
   "metadata": {},
   "outputs": [
    {
     "data": {
      "text/plain": [
       "{1: 0, 2: 0.2, 3: 1.0}"
      ]
     },
     "execution_count": 2,
     "metadata": {},
     "output_type": "execute_result"
    }
   ],
   "source": [
    "entry"
   ]
  },
  {
   "cell_type": "code",
   "execution_count": 13,
   "metadata": {},
   "outputs": [
    {
     "data": {
      "text/plain": [
       "[1.0, 0.5, 0.2]"
      ]
     },
     "execution_count": 13,
     "metadata": {},
     "output_type": "execute_result"
    }
   ],
   "source": [
    "candidate"
   ]
  },
  {
   "cell_type": "code",
   "execution_count": 22,
   "metadata": {},
   "outputs": [
    {
     "data": {
      "text/plain": [
       "[3.0, 1.0, 2.0, 0.5, 1.0, 0.2]"
      ]
     },
     "execution_count": 22,
     "metadata": {},
     "output_type": "execute_result"
    }
   ],
   "source": [
    "lst"
   ]
  },
  {
   "cell_type": "code",
   "execution_count": null,
   "metadata": {},
   "outputs": [],
   "source": []
  }
 ],
 "metadata": {
  "kernelspec": {
   "display_name": "Python 3",
   "language": "python",
   "name": "python3"
  },
  "language_info": {
   "codemirror_mode": {
    "name": "ipython",
    "version": 3
   },
   "file_extension": ".py",
   "mimetype": "text/x-python",
   "name": "python",
   "nbconvert_exporter": "python",
   "pygments_lexer": "ipython3",
   "version": "3.7.6"
  }
 },
 "nbformat": 4,
 "nbformat_minor": 4
}
