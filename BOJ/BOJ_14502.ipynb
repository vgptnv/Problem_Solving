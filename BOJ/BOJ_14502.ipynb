{
 "cells": [
  {
   "cell_type": "code",
   "execution_count": 2,
   "metadata": {},
   "outputs": [
    {
     "name": "stdout",
     "output_type": "stream",
     "text": [
      "7 7\n",
      "2 0 0 0 1 1 0\n"
     ]
    },
    {
     "ename": "NameError",
     "evalue": "name 'lab' is not defined",
     "output_type": "error",
     "traceback": [
      "\u001b[1;31m---------------------------------------------------------------------------\u001b[0m",
      "\u001b[1;31mNameError\u001b[0m                                 Traceback (most recent call last)",
      "\u001b[1;32m<ipython-input-2-9cd020ac0723>\u001b[0m in \u001b[0;36m<module>\u001b[1;34m\u001b[0m\n\u001b[0;32m     30\u001b[0m \u001b[1;32mfor\u001b[0m \u001b[0mi\u001b[0m \u001b[1;32min\u001b[0m \u001b[0mrange\u001b[0m\u001b[1;33m(\u001b[0m\u001b[0mn\u001b[0m\u001b[1;33m)\u001b[0m\u001b[1;33m:\u001b[0m\u001b[1;33m\u001b[0m\u001b[1;33m\u001b[0m\u001b[0m\n\u001b[0;32m     31\u001b[0m     \u001b[0mdata\u001b[0m \u001b[1;33m=\u001b[0m \u001b[0mmap\u001b[0m\u001b[1;33m(\u001b[0m\u001b[0mint\u001b[0m\u001b[1;33m,\u001b[0m \u001b[0minput\u001b[0m\u001b[1;33m(\u001b[0m\u001b[1;33m)\u001b[0m\u001b[1;33m.\u001b[0m\u001b[0msplit\u001b[0m\u001b[1;33m(\u001b[0m\u001b[1;33m)\u001b[0m\u001b[1;33m)\u001b[0m\u001b[1;33m\u001b[0m\u001b[1;33m\u001b[0m\u001b[0m\n\u001b[1;32m---> 32\u001b[1;33m     \u001b[0mlab\u001b[0m\u001b[1;33m.\u001b[0m\u001b[0mappend\u001b[0m\u001b[1;33m(\u001b[0m\u001b[0mdata\u001b[0m\u001b[1;33m)\u001b[0m\u001b[1;33m\u001b[0m\u001b[1;33m\u001b[0m\u001b[0m\n\u001b[0m\u001b[0;32m     33\u001b[0m     \u001b[1;32mfor\u001b[0m \u001b[0mj\u001b[0m\u001b[1;33m,\u001b[0m \u001b[0me\u001b[0m \u001b[1;32min\u001b[0m \u001b[0menumerate\u001b[0m\u001b[1;33m(\u001b[0m\u001b[0mdata\u001b[0m\u001b[1;33m)\u001b[0m\u001b[1;33m:\u001b[0m\u001b[1;33m\u001b[0m\u001b[1;33m\u001b[0m\u001b[0m\n\u001b[0;32m     34\u001b[0m         \u001b[1;32mif\u001b[0m \u001b[0me\u001b[0m \u001b[1;33m==\u001b[0m \u001b[1;36m0\u001b[0m\u001b[1;33m:\u001b[0m\u001b[1;33m\u001b[0m\u001b[1;33m\u001b[0m\u001b[0m\n",
      "\u001b[1;31mNameError\u001b[0m: name 'lab' is not defined"
     ]
    }
   ],
   "source": [
    "# Q. 14502\n",
    "from collections import deque\n",
    "from itertools import combinations\n",
    "from copy import deepcopy\n",
    "# bfs, 완전탐색!\n",
    "\n",
    "def bfs(virus):\n",
    "    directions = [(1, 0), (-1, 0), (0, 1), (0, -1)]\n",
    "    queue = deque(virus)  # [[1, 0] [0, 2] [0, 3]]\n",
    "    cnt = 0\n",
    "    \n",
    "    while queue:\n",
    "        x, y = queue.popleft()  # bfs\n",
    "        for dx, dy in directions:\n",
    "            nx = x + dx\n",
    "            ny = y + dy\n",
    "            if nx < 0 or nx >= n or y < 0 or ny >= m:\n",
    "                continue\n",
    "            elif lab[nx][ny] == 0:\n",
    "                lab[nx][ny] = 2\n",
    "                cnt += 1  \n",
    "                queue.append([nx, ny])\n",
    "    return cnt  # 빈칸 -> 바이러스 감염된 공간 개수\n",
    "\n",
    "n, m = map(int, input().split())\n",
    "lab = []\n",
    "wall_pos = []  # 0\n",
    "virus_pos = []  # 2\n",
    "safety_area = 0\n",
    "area = 0\n",
    "\n",
    "for i in range(n):\n",
    "    data = list(map(int, input().split()))\n",
    "    lab.append(data)  # input!\n",
    "    for j, e in enumerate(data):\n",
    "        if e == 0:\n",
    "            wall_pos.append([i, j])\n",
    "            area += 1  # 초기 빈 칸 개수 세기 // -> 바이러스 감염된 0의 개수 빼주고 - 3 -> 안전지대의 개수\n",
    "        elif e == 2:\n",
    "            virus_pos.append([i, j])\n",
    "\n",
    "# 완전탐색 \n",
    "for comb_pos in combinations(wall_pos, 3):\n",
    "    copy_lab = deepcopy(lab)\n",
    "    for pos in comb_pos:\n",
    "        copy_lab[pos[0]][pos[1]] = 1  # 선택된 pos에 벽 설치\n",
    "    result = area - 3  # 추가된 벽 개수 빼기\n",
    "    result -= bfs(virus_pos)\n",
    "    \n",
    "    if result > safety_area:\n",
    "        safety_area = result  # 최대 안전영역 크기 업데이트\n",
    "\n",
    "print(safety_area)"
   ]
  },
  {
   "cell_type": "code",
   "execution_count": 3,
   "metadata": {},
   "outputs": [
    {
     "name": "stdout",
     "output_type": "stream",
     "text": [
      "0 1\n",
      "1 2\n",
      "2 3\n",
      "3 4\n"
     ]
    }
   ],
   "source": [
    "lst = [1,2, 3, 4]\n",
    "for i, d in enumerate(lst):\n",
    "    print(i, d)"
   ]
  },
  {
   "cell_type": "code",
   "execution_count": null,
   "metadata": {},
   "outputs": [],
   "source": []
  }
 ],
 "metadata": {
  "kernelspec": {
   "display_name": "Python 3",
   "language": "python",
   "name": "python3"
  },
  "language_info": {
   "codemirror_mode": {
    "name": "ipython",
    "version": 3
   },
   "file_extension": ".py",
   "mimetype": "text/x-python",
   "name": "python",
   "nbconvert_exporter": "python",
   "pygments_lexer": "ipython3",
   "version": "3.7.6"
  }
 },
 "nbformat": 4,
 "nbformat_minor": 4
}
