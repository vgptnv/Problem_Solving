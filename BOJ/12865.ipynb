{
 "cells": [
  {
   "cell_type": "code",
   "execution_count": 8,
   "metadata": {},
   "outputs": [
    {
     "name": "stdout",
     "output_type": "stream",
     "text": [
      "14\n"
     ]
    }
   ],
   "source": [
    "# Q. 12865\n",
    "n, k = map(int, input().split())\n",
    "items = [tuple(map(int, input().split())) for _ in range(n)]\n",
    "items = [(0, 0)] + items\n",
    "\n",
    "dp = [[0 for _ in range(k+1)] for _ in range(n+1)]\n",
    "\n",
    "for i in range(1, n+1):\n",
    "    for j in range(1, k+1):\n",
    "        if j >= items[i][0]:  # j가 item 무게 이상이라면!\n",
    "            dp[i][j] = max(dp[i-1][j], dp[i-1][j - items[i][0]] + items[i][1])  # i번째 item 안 넣었을 때 값과, 넣었을 때 값 계산!\n",
    "        else:\n",
    "            dp[i][j] = dp[i-1][j]\n",
    "        \n",
    "print(dp[n][k])"
   ]
  },
  {
   "cell_type": "code",
   "execution_count": null,
   "metadata": {},
   "outputs": [],
   "source": []
  }
 ],
 "metadata": {
  "interpreter": {
   "hash": "842d2169f82d7db1dfac7d91753e529f60f575232793c66531d2d283e0c0fc6d"
  },
  "kernelspec": {
   "display_name": "Python 3.9.4 64-bit ('py39': conda)",
   "language": "python",
   "name": "python3"
  },
  "language_info": {
   "codemirror_mode": {
    "name": "ipython",
    "version": 3
   },
   "file_extension": ".py",
   "mimetype": "text/x-python",
   "name": "python",
   "nbconvert_exporter": "python",
   "pygments_lexer": "ipython3",
   "version": "3.9.4"
  },
  "orig_nbformat": 4
 },
 "nbformat": 4,
 "nbformat_minor": 2
}
