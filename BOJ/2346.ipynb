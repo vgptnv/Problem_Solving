{
 "cells": [
  {
   "cell_type": "code",
   "execution_count": 62,
   "metadata": {},
   "outputs": [
    {
     "name": "stdout",
     "output_type": "stream",
     "text": [
      "5\n",
      "3 2 1 -3 -1\n",
      "3 0 [2, 1, -3, -1]\n",
      "-3 2 [2, 1, -1]\n",
      "-1 2 [2, 1]\n",
      "1 1 [2]\n",
      "1 4 5 3 2\n"
     ]
    }
   ],
   "source": [
    "# Q. 2346\n",
    "n = int(input())\n",
    "balloons = list(map(int, input().split()))\n",
    "\n",
    "indices = [i for i in range(1, n+1)]\n",
    "result = []\n",
    "idx = 0\n",
    "\n",
    "temp = balloons.pop(idx)  # 다음 값 알려줌\n",
    "result.append(indices.pop(idx))\n",
    "\n",
    "while balloons:\n",
    "    print(temp, idx, balloons)\n",
    "    if temp > 0:  # 오른쪽으로\n",
    "        idx = (idx + (temp-1)) % len(balloons)\n",
    "    else:  # 왼쪽으로\n",
    "        idx = (idx + temp) % len(balloons)\n",
    "    temp = balloons.pop(idx)\n",
    "    result.append(indices.pop(idx))\n",
    "print(' '.join(map(str, result)))"
   ]
  },
  {
   "cell_type": "code",
   "execution_count": 65,
   "metadata": {},
   "outputs": [
    {
     "data": {
      "text/plain": [
       "1"
      ]
     },
     "execution_count": 65,
     "metadata": {},
     "output_type": "execute_result"
    }
   ],
   "source": [
    "-3 % 4"
   ]
  },
  {
   "cell_type": "code",
   "execution_count": null,
   "metadata": {},
   "outputs": [],
   "source": []
  }
 ],
 "metadata": {
  "kernelspec": {
   "display_name": "Python 3",
   "language": "python",
   "name": "python3"
  },
  "language_info": {
   "codemirror_mode": {
    "name": "ipython",
    "version": 3
   },
   "file_extension": ".py",
   "mimetype": "text/x-python",
   "name": "python",
   "nbconvert_exporter": "python",
   "pygments_lexer": "ipython3",
   "version": "3.7.6"
  }
 },
 "nbformat": 4,
 "nbformat_minor": 4
}
