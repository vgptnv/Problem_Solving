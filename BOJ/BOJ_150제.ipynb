{
 "cells": [
  {
   "cell_type": "code",
   "execution_count": 1,
   "metadata": {},
   "outputs": [
    {
     "name": "stdout",
     "output_type": "stream",
     "text": [
      "Hello World!\n"
     ]
    }
   ],
   "source": [
    "# Q. 2557\n",
    "print('Hello World!')"
   ]
  },
  {
   "cell_type": "code",
   "execution_count": 2,
   "metadata": {},
   "outputs": [
    {
     "name": "stdout",
     "output_type": "stream",
     "text": [
      "1 2\n",
      "3\n"
     ]
    }
   ],
   "source": [
    "# Q. 1000\n",
    "a, b = map(int, input().split())\n",
    "print(a+b)"
   ]
  },
  {
   "cell_type": "code",
   "execution_count": 3,
   "metadata": {},
   "outputs": [
    {
     "name": "stdout",
     "output_type": "stream",
     "text": [
      "1 2\n",
      "2\n"
     ]
    }
   ],
   "source": [
    "# Q. 10998\n",
    "a, b = map(int, input().split())\n",
    "print(a*b)"
   ]
  },
  {
   "cell_type": "code",
   "execution_count": 4,
   "metadata": {},
   "outputs": [
    {
     "name": "stdout",
     "output_type": "stream",
     "text": [
      "1 2\n",
      "-1\n"
     ]
    }
   ],
   "source": [
    "# Q. 1001\n",
    "a, b = map(int, input().split())\n",
    "print(a-b)"
   ]
  },
  {
   "cell_type": "code",
   "execution_count": 5,
   "metadata": {},
   "outputs": [
    {
     "name": "stdout",
     "output_type": "stream",
     "text": [
      "1 3\n",
      "0.3333333333333333\n"
     ]
    }
   ],
   "source": [
    "# Q. 1008\n",
    "a, b = map(int, input().split())\n",
    "print(a/b)"
   ]
  },
  {
   "cell_type": "code",
   "execution_count": 8,
   "metadata": {},
   "outputs": [
    {
     "name": "stdout",
     "output_type": "stream",
     "text": [
      "7 3\n",
      "10\n",
      "4\n",
      "21\n",
      "2\n",
      "1\n"
     ]
    }
   ],
   "source": [
    "# Q. 10869\n",
    "a, b = map(int, input().split())\n",
    "print(a+b, a-b, a*b, a//b, a%b, sep=\"\\n\")"
   ]
  },
  {
   "cell_type": "code",
   "execution_count": 10,
   "metadata": {},
   "outputs": [
    {
     "name": "stdout",
     "output_type": "stream",
     "text": [
      "5 8 4\n",
      "1\n",
      "1\n",
      "0\n",
      "0\n"
     ]
    }
   ],
   "source": [
    "# Q. 10430\n",
    "a, b, c = map(int, input().split())\n",
    "print((a+b)%c, ((a%c)+(b%c))%c, (a*b)%c, ((a%c)*(b%c))%c, sep=\"\\n\")"
   ]
  },
  {
   "cell_type": "code",
   "execution_count": 11,
   "metadata": {},
   "outputs": [
    {
     "name": "stdout",
     "output_type": "stream",
     "text": [
      "1\n",
      "2\n",
      "3\n"
     ]
    }
   ],
   "source": [
    "# Q. 2558\n",
    "a = int(input())\n",
    "b = int(input())\n",
    "print(a+b)"
   ]
  },
  {
   "cell_type": "code",
   "execution_count": 14,
   "metadata": {},
   "outputs": [
    {
     "name": "stdout",
     "output_type": "stream",
     "text": [
      "472\n",
      "385\n",
      "2360\n",
      "3776\n",
      "1416\n",
      "181720\n"
     ]
    }
   ],
   "source": [
    "# Q. 2588\n",
    "a = int(input())\n",
    "b = input()\n",
    "print(a*int(b[2]))\n",
    "print(a*int(b[1]))\n",
    "print(a*int(b[0]))\n",
    "print(a*int(b))"
   ]
  },
  {
   "cell_type": "code",
   "execution_count": 15,
   "metadata": {},
   "outputs": [
    {
     "name": "stdout",
     "output_type": "stream",
     "text": [
      "11 15\n",
      "19\n"
     ]
    }
   ],
   "source": [
    "# Q. 3046\n",
    "r1, s = map(int, input().split())\n",
    "r2 = 2 * s - r1\n",
    "print(r2)"
   ]
  },
  {
   "cell_type": "code",
   "execution_count": null,
   "metadata": {},
   "outputs": [],
   "source": [
    "# Q. 2163\n",
    "n, m = map(int, input().split())\n",
    "print(n*m - 1)"
   ]
  },
  {
   "cell_type": "code",
   "execution_count": null,
   "metadata": {},
   "outputs": [],
   "source": [
    "# Q. 11021\n",
    "import sys\n",
    "T = int(input())\n",
    "for i in range(T):\n",
    "    a, b = map(int, sys.stdin.readline().split())\n",
    "    print(f\"Case #{i+1}: {a+b}\")"
   ]
  },
  {
   "cell_type": "code",
   "execution_count": 9,
   "metadata": {},
   "outputs": [
    {
     "data": {
      "text/plain": [
       "'2021-07-08'"
      ]
     },
     "execution_count": 9,
     "metadata": {},
     "output_type": "execute_result"
    }
   ],
   "source": [
    "# Q. 10699\n",
    "import datetime as dt\n",
    "today = dt.datetime.today()\n",
    "print(today.strftime(\"%Y-%m-%d\"))9"
   ]
  },
  {
   "cell_type": "code",
   "execution_count": 12,
   "metadata": {},
   "outputs": [
    {
     "name": "stdout",
     "output_type": "stream",
     "text": [
      "71\n",
      "vgptnv\n"
     ]
    }
   ],
   "source": [
    "# Q. 7287\n",
    "print(71)\n",
    "print(\"vgptnv\")"
   ]
  },
  {
   "cell_type": "code",
   "execution_count": 23,
   "metadata": {},
   "outputs": [
    {
     "name": "stdout",
     "output_type": "stream",
     "text": [
      "17 40\n",
      "80\n",
      "19 0\n"
     ]
    }
   ],
   "source": [
    "# Q. 2525\n",
    "a, b = map(int, input().split())\n",
    "c = int(input())\n",
    "\n",
    "total = a*60 + b + c\n",
    "\n",
    "if total >= 1440:\n",
    "    total -= 1440\n",
    "\n",
    "print(total//60, total%60)"
   ]
  },
  {
   "cell_type": "code",
   "execution_count": 33,
   "metadata": {},
   "outputs": [
    {
     "name": "stdout",
     "output_type": "stream",
     "text": [
      "23 48 59\n",
      "2515\n",
      "0 30 54\n"
     ]
    }
   ],
   "source": [
    "# Q. 2530\n",
    "a, b, c = map(int, input().split())\n",
    "d = int(input())\n",
    "\n",
    "total = a*3600 + b*60 + c + d\n",
    "\n",
    "while total >= 86400:\n",
    "    total -= 86400\n",
    "\n",
    "print(total//3600, (total%3600)//60, (total%60))"
   ]
  },
  {
   "cell_type": "code",
   "execution_count": 39,
   "metadata": {},
   "outputs": [
    {
     "name": "stdout",
     "output_type": "stream",
     "text": [
      "10 10\n",
      "91\n"
     ]
    }
   ],
   "source": [
    "# Q. 2914\n",
    "a, l = map(int, input().split())\n",
    "print(a*(l-1) + 1)"
   ]
  },
  {
   "cell_type": "code",
   "execution_count": 47,
   "metadata": {},
   "outputs": [
    {
     "name": "stdout",
     "output_type": "stream",
     "text": [
      "2\n",
      "10.4 # % @\n",
      "25.20\n",
      "8 #\n",
      "1.00\n"
     ]
    }
   ],
   "source": [
    "# Q. 5355\n",
    "T = int(input())\n",
    "\n",
    "for _ in range(T):\n",
    "    enter = input().split()\n",
    "    result = float(enter.pop(0))\n",
    "    for op in enter:\n",
    "        if op == \"@\":\n",
    "            result *= 3\n",
    "        elif op == \"%\":\n",
    "            result += 5\n",
    "        elif op == \"#\":\n",
    "            result -= 7\n",
    "    print(f\"{result:.2f}\")"
   ]
  },
  {
   "cell_type": "code",
   "execution_count": 52,
   "metadata": {},
   "outputs": [
    {
     "name": "stdout",
     "output_type": "stream",
     "text": [
      "2\n",
      "3 ABC\n",
      "AAABBBCCC\n",
      "5 /HTP\n",
      "/////HHHHHTTTTTPPPPP\n"
     ]
    }
   ],
   "source": [
    "# Q. 2675\n",
    "T = int(input())\n",
    "for _ in range(T):\n",
    "    R, S = input().split()\n",
    "    R = int(R)\n",
    "    for i in range(len(S)):\n",
    "        print(S[i]*R, end=\"\")\n",
    "    print()"
   ]
  },
  {
   "cell_type": "code",
   "execution_count": null,
   "metadata": {},
   "outputs": [],
   "source": [
    "# Q. 2935\n",
    "a = int(input())\n",
    "op = input()\n",
    "b = int(input())\n",
    "if op == \"+\":\n",
    "    print(a+b)\n",
    "elif op == \"*\":\n",
    "    print(a*b)"
   ]
  },
  {
   "cell_type": "code",
   "execution_count": 53,
   "metadata": {},
   "outputs": [
    {
     "name": "stdout",
     "output_type": "stream",
     "text": [
      "100\n",
      "A\n"
     ]
    }
   ],
   "source": [
    "# Q. 9498\n",
    "score = int(input())\n",
    "if score >= 90:\n",
    "    print(\"A\")\n",
    "elif score >=80:\n",
    "    print(\"B\")\n",
    "elif score >=70:\n",
    "    print(\"C\")\n",
    "elif score >=60:\n",
    "    print(\"D\")\n",
    "else:\n",
    "    print(\"F\")"
   ]
  },
  {
   "cell_type": "code",
   "execution_count": 54,
   "metadata": {},
   "outputs": [
    {
     "name": "stdout",
     "output_type": "stream",
     "text": [
      "20 30 10\n",
      "20\n"
     ]
    }
   ],
   "source": [
    "# Q. 10817\n",
    "lst = list(map(int, input().split()))\n",
    "lst.sort()\n",
    "print(lst[1])"
   ]
  },
  {
   "cell_type": "code",
   "execution_count": 67,
   "metadata": {},
   "outputs": [
    {
     "name": "stdout",
     "output_type": "stream",
     "text": [
      "200\n",
      "2\n",
      "2\n",
      "2\n",
      "5\n",
      "5\n"
     ]
    }
   ],
   "source": [
    "# Q. 11653\n",
    "n = int(input())\n",
    "result = []\n",
    "p = 2\n",
    "while n > 1:\n",
    "    if n % p == 0:\n",
    "        result.append(p)\n",
    "        n /= p\n",
    "    else:\n",
    "        p += 1\n",
    "print('\\n'.join(map(str, result)))"
   ]
  },
  {
   "cell_type": "code",
   "execution_count": 71,
   "metadata": {},
   "outputs": [
    {
     "name": "stdout",
     "output_type": "stream",
     "text": [
      "200\n",
      "19\n"
     ]
    }
   ],
   "source": [
    "# Q. 1789\n",
    "s = int(input())\n",
    "sum = 0\n",
    "n = 0\n",
    "while True:\n",
    "    n += 1 \n",
    "    sum += n\n",
    "    if sum > s:\n",
    "        break\n",
    "print(n - 1)"
   ]
  },
  {
   "cell_type": "code",
   "execution_count": 72,
   "metadata": {},
   "outputs": [
    {
     "name": "stdout",
     "output_type": "stream",
     "text": [
      "200\n",
      "19\n"
     ]
    }
   ],
   "source": [
    "# Q. 1789\n",
    "s = int(input())\n",
    "sum = 0\n",
    "n = 0\n",
    "while sum <= s:\n",
    "    n += 1 \n",
    "    sum += n\n",
    "\n",
    "print(n - 1)"
   ]
  },
  {
   "cell_type": "code",
   "execution_count": 4,
   "metadata": {},
   "outputs": [
    {
     "name": "stdout",
     "output_type": "stream",
     "text": [
      "1900\n",
      "0\n"
     ]
    }
   ],
   "source": [
    "# Q. 2753\n",
    "year = int(input())\n",
    "if (year % 4 == 0 and year % 100 != 0) or (year % 400 == 0):\n",
    "    print(1)\n",
    "else:\n",
    "    print(0)"
   ]
  },
  {
   "cell_type": "code",
   "execution_count": 11,
   "metadata": {},
   "outputs": [
    {
     "name": "stdout",
     "output_type": "stream",
     "text": [
      "10\n",
      "65\n",
      "100\n",
      "30\n",
      "95\n",
      "68\n"
     ]
    }
   ],
   "source": [
    "# Q. 10039\n",
    "result = []\n",
    "for _ in range(5):\n",
    "    score = int(input())\n",
    "    if score < 40:\n",
    "        result.append(40)\n",
    "    else:\n",
    "        result.append(score)\n",
    "        \n",
    "print(f\"{sum(result) / 5:.0f}\")"
   ]
  },
  {
   "cell_type": "code",
   "execution_count": 1,
   "metadata": {},
   "outputs": [
    {
     "name": "stdout",
     "output_type": "stream",
     "text": [
      "3\n",
      "1 45000\n",
      "45000\n",
      "6 10\n",
      "30\n",
      "13 17\n",
      "221\n"
     ]
    }
   ],
   "source": [
    "# Q. 1934\n",
    "T = int(input())\n",
    "\n",
    "def gcd(a, b):\n",
    "    if a % b == 0:\n",
    "        return b\n",
    "    else:\n",
    "        return gcd(b, a % b)\n",
    "        \n",
    "for _ in range(T):\n",
    "    lst = list(map(int, input().split()))\n",
    "    a = lst[0]\n",
    "    b = lst[1]\n",
    "    print(a * b // gcd(a, b))\n",
    "    "
   ]
  },
  {
   "cell_type": "code",
   "execution_count": 7,
   "metadata": {},
   "outputs": [
    {
     "name": "stdout",
     "output_type": "stream",
     "text": [
      "6 2 5\n",
      "600\n"
     ]
    }
   ],
   "source": [
    "# Q. 2480\n",
    "lst = list(map(int, input().split()))\n",
    "lst.sort()\n",
    "if len(set(lst)) == 1:\n",
    "    prize = 10000 + lst[0] * 1000\n",
    "elif len(set(lst)) == 2:\n",
    "    for i in range(2):\n",
    "        if lst[i] == lst[i+1]:\n",
    "            prize = 1000 + lst[i] * 100\n",
    "elif len(set(lst)) == 3:\n",
    "    prize = lst[-1] * 100\n",
    "\n",
    "print(prize)"
   ]
  },
  {
   "cell_type": "code",
   "execution_count": 9,
   "metadata": {},
   "outputs": [
    {
     "name": "stdout",
     "output_type": "stream",
     "text": [
      "1 19\n",
      "No\n",
      "4 4\n",
      "No\n",
      "23 14\n",
      "Yes\n",
      "0 0\n"
     ]
    }
   ],
   "source": [
    "# Q. 4101\n",
    "while True:\n",
    "    n, m = map(int, input().split())\n",
    "    if (n, m) == (0, 0) :\n",
    "        break\n",
    "    if n > m:\n",
    "        print(\"Yes\")\n",
    "    else:\n",
    "        print(\"No\")"
   ]
  },
  {
   "cell_type": "code",
   "execution_count": 13,
   "metadata": {},
   "outputs": [
    {
     "name": "stdout",
     "output_type": "stream",
     "text": [
      "20 10 320\n",
      "0\n"
     ]
    }
   ],
   "source": [
    "# Q. 10156\n",
    "k, n, m = map(int, input().split())\n",
    "result = k*n - m\n",
    "if result > 0:\n",
    "    print(result)\n",
    "else:\n",
    "    print(0)"
   ]
  },
  {
   "cell_type": "code",
   "execution_count": 22,
   "metadata": {},
   "outputs": [
    {
     "name": "stdout",
     "output_type": "stream",
     "text": [
      "30 20\n",
      "10 10 \n",
      "10 20\n",
      "30 10\n"
     ]
    }
   ],
   "source": [
    "# Q. 3009\n",
    "X, Y = [], []\n",
    "for _ in range(3):\n",
    "    x, y = map(int, input().split())\n",
    "    if x in X:\n",
    "        X.remove(x)\n",
    "    else:\n",
    "        X.append(x)\n",
    "    if y in Y:\n",
    "        Y.remove(y)\n",
    "    else:\n",
    "        Y.append(y)\n",
    "        \n",
    "print(X[0], Y[0])"
   ]
  },
  {
   "cell_type": "code",
   "execution_count": 24,
   "metadata": {},
   "outputs": [
    {
     "name": "stdout",
     "output_type": "stream",
     "text": [
      "3\n",
      "3 3 6\n",
      "2 2 2\n",
      "6 2 5\n",
      "12000\n"
     ]
    }
   ],
   "source": [
    "# Q. 2476\n",
    "n = int(input())\n",
    "prizes = []\n",
    "for _ in range(n):\n",
    "    lst = list(map(int, input().split()))\n",
    "    lst.sort()\n",
    "    if len(set(lst)) == 1:\n",
    "        prize = 10000 + lst[0] * 1000\n",
    "    elif len(set(lst)) == 2:\n",
    "        for i in range(2):\n",
    "            if lst[i] == lst[i+1]:\n",
    "                prize = 1000 + lst[i] * 100\n",
    "    elif len(set(lst)) == 3:\n",
    "        prize = lst[-1] * 100\n",
    "    prizes.append(prize)\n",
    "\n",
    "prizes.sort()\n",
    "print(prizes[-1])"
   ]
  },
  {
   "cell_type": "code",
   "execution_count": 29,
   "metadata": {},
   "outputs": [
    {
     "name": "stdout",
     "output_type": "stream",
     "text": [
      "C+\n",
      "2.3\n"
     ]
    }
   ],
   "source": [
    "# Q. 2754\n",
    "grade = input()\n",
    "scores = {\"A\": [4.3, 4.0, 3.7],\n",
    "            \"B\": [3.3, 3.0, 2.7],\n",
    "            \"C\": [2.3, 2.0, 1.7],\n",
    "            \"D\": [1.3, 1.0, 0.7],\n",
    "            \"F\": 0.0\n",
    "         }\n",
    "if grade == \"F\":\n",
    "    print(scores[grade])\n",
    "else:\n",
    "    if grade[-1] == \"+\":\n",
    "        print(scores[grade[0]][0])\n",
    "    elif grade[-1] == \"0\":\n",
    "        print(scores[grade[0]][1])\n",
    "    elif grade[-1] == \"-\":\n",
    "        print(scores[grade[0]][2])"
   ]
  },
  {
   "cell_type": "code",
   "execution_count": 36,
   "metadata": {},
   "outputs": [
    {
     "name": "stdout",
     "output_type": "stream",
     "text": [
      "23 40\n",
      "22 55\n"
     ]
    }
   ],
   "source": [
    "# Q. 2884\n",
    "h, m = map(int, input().split())\n",
    "total = h*60 + m - 45\n",
    "if total < 0:\n",
    "    total += 24 * 60\n",
    "print(total // 60, total % 60)"
   ]
  },
  {
   "cell_type": "code",
   "execution_count": 39,
   "metadata": {},
   "outputs": [
    {
     "name": "stdout",
     "output_type": "stream",
     "text": [
      "()()()))(\n",
      "80\n"
     ]
    }
   ],
   "source": [
    "# Q. 7567\n",
    "enter = input()\n",
    "height = 10\n",
    "for i in range(1, len(enter)):\n",
    "    if enter[i] == enter[i-1]:\n",
    "        height += 5\n",
    "    else:\n",
    "        height += 10\n",
    "print(height)"
   ]
  },
  {
   "cell_type": "code",
   "execution_count": 41,
   "metadata": {},
   "outputs": [
    {
     "name": "stdout",
     "output_type": "stream",
     "text": [
      "3\n",
      "0 100 70\n",
      "advertise\n",
      "100 130 30\n",
      "does not matter\n",
      "-100 -70 40\n",
      "do not advertise\n"
     ]
    }
   ],
   "source": [
    "# Q. 5063\n",
    "N  = int(input())\n",
    "for _ in range(N):\n",
    "    r, e, c = map(int, input().split())\n",
    "    if r > e - c:\n",
    "        print(\"do not advertise\")\n",
    "    elif r == e - c:\n",
    "        print(\"does not matter\")\n",
    "    else:\n",
    "        print(\"advertise\")"
   ]
  },
  {
   "cell_type": "code",
   "execution_count": 54,
   "metadata": {},
   "outputs": [
    {
     "name": "stdout",
     "output_type": "stream",
     "text": [
      "3\n",
      "AAB\n",
      "['A', 'A', 'B']\n",
      "A\n"
     ]
    }
   ],
   "source": [
    "# Q. 10102 --> 이게 왜 틀려? 대문자 틀려서^^..\n",
    "V = int(input())\n",
    "votes = list(str(input()))\n",
    "print(votes)\n",
    "\n",
    "A, B = 0, 0\n",
    "for v in votes:\n",
    "    if v == \"A\":\n",
    "        A += 1\n",
    "    else:\n",
    "        B += 1\n",
    "        \n",
    "if A > B:\n",
    "    print(\"A\")\n",
    "elif A == B:\n",
    "    print(\"Tie\")\n",
    "else:\n",
    "    print(\"B\")"
   ]
  },
  {
   "cell_type": "code",
   "execution_count": 58,
   "metadata": {},
   "outputs": [
    {
     "name": "stdout",
     "output_type": "stream",
     "text": [
      "5\n",
      "1\n",
      "1\n",
      "1\n",
      "0\n",
      "0\n",
      "Junhee is cute!\n"
     ]
    }
   ],
   "source": [
    "# Q. 10886\n",
    "n = int(input())\n",
    "answer = [int(input()) for i in range(n)]\n",
    "if sum(answer) > (n//2):\n",
    "    print(\"Junhee is cute!\")\n",
    "else:\n",
    "    print(\"Junhee is not cute!\")\n",
    "    "
   ]
  },
  {
   "cell_type": "code",
   "execution_count": 60,
   "metadata": {},
   "outputs": [
    {
     "name": "stdout",
     "output_type": "stream",
     "text": [
      "baekjoon\n",
      "0\n"
     ]
    }
   ],
   "source": [
    "# Q. 10988\n",
    "string = input()\n",
    "if string[:] == string[::-1]:\n",
    "    print(1)\n",
    "else:\n",
    "    print(0)"
   ]
  },
  {
   "cell_type": "code",
   "execution_count": 61,
   "metadata": {},
   "outputs": [
    {
     "name": "stdout",
     "output_type": "stream",
     "text": [
      "8 16\n",
      "factor\n",
      "32 4\n",
      "multiple\n",
      "17 5\n",
      "neither\n",
      "0 0\n"
     ]
    }
   ],
   "source": [
    "# Q. 5086\n",
    "while True:\n",
    "    n, m = map(int, input().split())\n",
    "    if (n, m) == (0, 0): break\n",
    "        \n",
    "    if m % n == 0:\n",
    "        print(\"factor\")\n",
    "    elif n % m == 0:\n",
    "        print(\"multiple\")\n",
    "    else:\n",
    "        print(\"neither\")"
   ]
  },
  {
   "cell_type": "code",
   "execution_count": 1,
   "metadata": {},
   "outputs": [
    {
     "name": "stdout",
     "output_type": "stream",
     "text": [
      "2 2\n",
      "4\n",
      "2 3\n",
      "5\n",
      "0 0\n"
     ]
    }
   ],
   "source": [
    "# Q. 5717\n",
    "while True:\n",
    "    m, n = map(int, input().split())\n",
    "    if (m, n) == (0, 0):\n",
    "        break\n",
    "    print(m+n)"
   ]
  },
  {
   "cell_type": "code",
   "execution_count": 2,
   "metadata": {},
   "outputs": [
    {
     "name": "stdout",
     "output_type": "stream",
     "text": [
      "5\n",
      "0 0\n",
      "0 1\n",
      "1 1\n",
      "3 -3\n",
      "2 2\n",
      "Q1: 2\n",
      "Q2: 0\n",
      "Q3: 0\n",
      "Q4: 1\n",
      "AXIS: 2\n"
     ]
    }
   ],
   "source": [
    "# Q. 9610\n",
    "n = int(input())\n",
    "result = [0] * 5  # Q1, Q2, Q3, Q4, axis\n",
    "for _ in range(n):\n",
    "    x, y = map(int, input().split())\n",
    "    if x > 0 and y > 0:  # Q1\n",
    "        result[0] += 1\n",
    "    elif x < 0 and y > 0:  # Q2\n",
    "        result[1] += 1\n",
    "    elif x < 0 and y < 0:  # Q3\n",
    "        result[2] += 1\n",
    "    elif x > 0 and y < 0:  # Q4\n",
    "        result[3] += 1\n",
    "    elif x == 0 or y == 0:  # axis\n",
    "        result[4] += 1\n",
    "\n",
    "print(f\"Q1: {result[0]}\")\n",
    "print(f\"Q2: {result[1]}\")\n",
    "print(f\"Q3: {result[2]}\")\n",
    "print(f\"Q4: {result[3]}\")\n",
    "print(f\"AXIS: {result[4]}\")"
   ]
  },
  {
   "cell_type": "code",
   "execution_count": 4,
   "metadata": {},
   "outputs": [
    {
     "name": "stdout",
     "output_type": "stream",
     "text": [
      "5\n",
      "OOXXOXXOOO\n",
      "10\n",
      "OOXXOOXXOO\n",
      "9\n",
      "OXOXOXOXOXOXOX\n",
      "7\n",
      "OOOOOOOOOO\n",
      "55\n",
      "OOOOXOOOOXOOOOX\n",
      "30\n"
     ]
    }
   ],
   "source": [
    "# Q. 8958\n",
    "T = int(input())\n",
    "for _ in range(T):\n",
    "    enter = input()\n",
    "    count = 0\n",
    "    result = 0\n",
    "    for i in enter:\n",
    "        if i == \"O\":\n",
    "            count += 1\n",
    "            result += count\n",
    "        elif i == \"X\":\n",
    "            count = 0        \n",
    "    print(result)"
   ]
  },
  {
   "cell_type": "code",
   "execution_count": 6,
   "metadata": {},
   "outputs": [
    {
     "name": "stdout",
     "output_type": "stream",
     "text": [
      "6\n",
      "6 = 1 + 2 + 3\n",
      "12\n",
      "12 is NOT perfect.\n",
      "28\n",
      "28 = 1 + 2 + 4 + 7 + 14\n",
      "-1\n"
     ]
    }
   ],
   "source": [
    "# Q. 9506\n",
    "while True:\n",
    "    n = int(input())\n",
    "    if n == -1:\n",
    "        break\n",
    "    divisor = []\n",
    "    for i in range(1, n):\n",
    "        if n % i == 0:\n",
    "            divisor.append(i)\n",
    "    if n == sum(divisor):\n",
    "        print(f\"{n} =\", \" + \".join(map(str, divisor)))\n",
    "    else:\n",
    "        print(f\"{n} is NOT perfect.\")"
   ]
  },
  {
   "cell_type": "code",
   "execution_count": 14,
   "metadata": {},
   "outputs": [
    {
     "name": "stdout",
     "output_type": "stream",
     "text": [
      "189\n",
      "-1\n"
     ]
    }
   ],
   "source": [
    "# Q. 10162\n",
    "t = int(input())\n",
    "a, b, c = 0, 0, 0\n",
    "if t // 300 > 0:\n",
    "    a = t // 300\n",
    "    t = t % 300\n",
    "if t // 60 > 0:\n",
    "    b = t // 60\n",
    "    t = t % 60\n",
    "if t // 10 > 0:\n",
    "    c = t // 10\n",
    "    t = t % 10\n",
    "if t == 0:\n",
    "    print(a, b, c)\n",
    "else:\n",
    "    print(-1)"
   ]
  },
  {
   "cell_type": "code",
   "execution_count": 15,
   "metadata": {},
   "outputs": [
    {
     "name": "stdout",
     "output_type": "stream",
     "text": [
      "4\n",
      "5 6\n",
      "6 6\n",
      "4 3\n",
      "5 2\n",
      "94 91\n"
     ]
    }
   ],
   "source": [
    "# Q. 10103\n",
    "n = int(input())\n",
    "cy, sd = 100, 100\n",
    "for _ in range(n):\n",
    "    a, b = map(int, input().split())\n",
    "    if a < b:\n",
    "        cy -= b\n",
    "    elif a > b:\n",
    "        sd -= a\n",
    "    else:\n",
    "        continue\n",
    "print(cy)\n",
    "print(sd)"
   ]
  },
  {
   "cell_type": "code",
   "execution_count": 16,
   "metadata": {},
   "outputs": [
    {
     "name": "stdout",
     "output_type": "stream",
     "text": [
      "1\n",
      "1 0\n",
      "0 0\n",
      "0 0\n",
      "0 0\n",
      "0 \n"
     ]
    },
    {
     "ename": "ValueError",
     "evalue": "not enough values to unpack (expected 2, got 1)",
     "output_type": "error",
     "traceback": [
      "\u001b[1;31m---------------------------------------------------------------------------\u001b[0m",
      "\u001b[1;31mValueError\u001b[0m                                Traceback (most recent call last)",
      "\u001b[1;32m<ipython-input-16-dbde80f73c71>\u001b[0m in \u001b[0;36m<module>\u001b[1;34m\u001b[0m\n\u001b[0;32m      4\u001b[0m     \u001b[0mY\u001b[0m\u001b[1;33m,\u001b[0m \u001b[0mK\u001b[0m \u001b[1;33m=\u001b[0m \u001b[1;36m0\u001b[0m\u001b[1;33m,\u001b[0m \u001b[1;36m0\u001b[0m\u001b[1;33m\u001b[0m\u001b[1;33m\u001b[0m\u001b[0m\n\u001b[0;32m      5\u001b[0m     \u001b[1;32mfor\u001b[0m \u001b[0mi\u001b[0m \u001b[1;32min\u001b[0m \u001b[0mrange\u001b[0m\u001b[1;33m(\u001b[0m\u001b[1;36m9\u001b[0m\u001b[1;33m)\u001b[0m\u001b[1;33m:\u001b[0m\u001b[1;33m\u001b[0m\u001b[1;33m\u001b[0m\u001b[0m\n\u001b[1;32m----> 6\u001b[1;33m         \u001b[0my\u001b[0m\u001b[1;33m,\u001b[0m \u001b[0mk\u001b[0m \u001b[1;33m=\u001b[0m \u001b[0mmap\u001b[0m\u001b[1;33m(\u001b[0m\u001b[0mint\u001b[0m\u001b[1;33m,\u001b[0m \u001b[0minput\u001b[0m\u001b[1;33m(\u001b[0m\u001b[1;33m)\u001b[0m\u001b[1;33m.\u001b[0m\u001b[0msplit\u001b[0m\u001b[1;33m(\u001b[0m\u001b[1;33m)\u001b[0m\u001b[1;33m)\u001b[0m\u001b[1;33m\u001b[0m\u001b[1;33m\u001b[0m\u001b[0m\n\u001b[0m\u001b[0;32m      7\u001b[0m         \u001b[0mY\u001b[0m \u001b[1;33m+=\u001b[0m \u001b[0my\u001b[0m\u001b[1;33m\u001b[0m\u001b[1;33m\u001b[0m\u001b[0m\n\u001b[0;32m      8\u001b[0m         \u001b[0mK\u001b[0m \u001b[1;33m+=\u001b[0m \u001b[0mk\u001b[0m\u001b[1;33m\u001b[0m\u001b[1;33m\u001b[0m\u001b[0m\n",
      "\u001b[1;31mValueError\u001b[0m: not enough values to unpack (expected 2, got 1)"
     ]
    }
   ],
   "source": [
    "# Q. 10214\n",
    "T = int(input())\n",
    "for _ in range(T):\n",
    "    Y, K = 0, 0\n",
    "    for i in range(9):\n",
    "        y, k = map(int, input().split())\n",
    "        Y += y\n",
    "        K += k\n",
    "    if Y > K:\n",
    "        print(\"Yonsei\")\n",
    "    elif Y < K:\n",
    "        print(\"Korea\")\n",
    "    else:\n",
    "        print(\"Draw\")"
   ]
  },
  {
   "cell_type": "code",
   "execution_count": 18,
   "metadata": {},
   "outputs": [
    {
     "name": "stdout",
     "output_type": "stream",
     "text": [
      "2\n",
      "3\n",
      "Y 10\n",
      "K 100\n",
      "E 20\n",
      "K\n",
      "2\n",
      "Y 1\n",
      "K 100\n",
      "K\n"
     ]
    }
   ],
   "source": [
    "# Q. 11557\n",
    "T = int(input())\n",
    "dic = dict()\n",
    "for _ in range(T):\n",
    "    n = int(input())\n",
    "    for i in range(n):\n",
    "        S, L = input().split()\n",
    "        dic[S] = int(L)\n",
    "    lst = sorted(dic.items(), key=lambda x: -x[1])\n",
    "    print(lst[0][0])  "
   ]
  },
  {
   "cell_type": "code",
   "execution_count": null,
   "metadata": {},
   "outputs": [],
   "source": [
    "# Q. 10757\n",
    "a, b = map(int, input().split())\n",
    "print(a+b)"
   ]
  },
  {
   "cell_type": "code",
   "execution_count": 22,
   "metadata": {},
   "outputs": [
    {
     "name": "stdout",
     "output_type": "stream",
     "text": [
      "75\n",
      "80\n",
      "-1\n"
     ]
    }
   ],
   "source": [
    "# Q. 1977\n",
    "m = int(input())\n",
    "n = int(input())\n",
    "lst = []\n",
    "dp = [i**2 for i in range(1, 101)]\n",
    "for i in range(m, n+1):\n",
    "    if i in dp:\n",
    "        lst.append(i)\n",
    "if len(lst) > 0:\n",
    "    print(sum(lst))\n",
    "    print(lst[0])\n",
    "else:\n",
    "    print(-1)"
   ]
  },
  {
   "cell_type": "code",
   "execution_count": 24,
   "metadata": {},
   "outputs": [
    {
     "name": "stdout",
     "output_type": "stream",
     "text": [
      "2\n",
      "3\n",
      "10 A\n",
      "1000 B\n",
      "2000 C\n",
      "C\n",
      "1\n",
      "1\n"
     ]
    },
    {
     "ename": "ValueError",
     "evalue": "not enough values to unpack (expected 2, got 1)",
     "output_type": "error",
     "traceback": [
      "\u001b[1;31m---------------------------------------------------------------------------\u001b[0m",
      "\u001b[1;31mValueError\u001b[0m                                Traceback (most recent call last)",
      "\u001b[1;32m<ipython-input-24-e4c983c1c9f1>\u001b[0m in \u001b[0;36m<module>\u001b[1;34m\u001b[0m\n\u001b[0;32m      5\u001b[0m     \u001b[0mp\u001b[0m \u001b[1;33m=\u001b[0m \u001b[0mint\u001b[0m\u001b[1;33m(\u001b[0m\u001b[0minput\u001b[0m\u001b[1;33m(\u001b[0m\u001b[1;33m)\u001b[0m\u001b[1;33m)\u001b[0m\u001b[1;33m\u001b[0m\u001b[1;33m\u001b[0m\u001b[0m\n\u001b[0;32m      6\u001b[0m     \u001b[1;32mfor\u001b[0m \u001b[0mi\u001b[0m \u001b[1;32min\u001b[0m \u001b[0mrange\u001b[0m\u001b[1;33m(\u001b[0m\u001b[0mp\u001b[0m\u001b[1;33m)\u001b[0m\u001b[1;33m:\u001b[0m\u001b[1;33m\u001b[0m\u001b[1;33m\u001b[0m\u001b[0m\n\u001b[1;32m----> 7\u001b[1;33m         \u001b[0mc\u001b[0m\u001b[1;33m,\u001b[0m \u001b[0mname\u001b[0m \u001b[1;33m=\u001b[0m \u001b[0minput\u001b[0m\u001b[1;33m(\u001b[0m\u001b[1;33m)\u001b[0m\u001b[1;33m.\u001b[0m\u001b[0msplit\u001b[0m\u001b[1;33m(\u001b[0m\u001b[1;33m)\u001b[0m\u001b[1;33m\u001b[0m\u001b[1;33m\u001b[0m\u001b[0m\n\u001b[0m\u001b[0;32m      8\u001b[0m         \u001b[0mdic\u001b[0m\u001b[1;33m[\u001b[0m\u001b[0mname\u001b[0m\u001b[1;33m]\u001b[0m \u001b[1;33m=\u001b[0m \u001b[0mint\u001b[0m\u001b[1;33m(\u001b[0m\u001b[0mc\u001b[0m\u001b[1;33m)\u001b[0m\u001b[1;33m\u001b[0m\u001b[1;33m\u001b[0m\u001b[0m\n\u001b[0;32m      9\u001b[0m     \u001b[0mlst\u001b[0m \u001b[1;33m=\u001b[0m \u001b[0msorted\u001b[0m\u001b[1;33m(\u001b[0m\u001b[0mdic\u001b[0m\u001b[1;33m.\u001b[0m\u001b[0mitems\u001b[0m\u001b[1;33m(\u001b[0m\u001b[1;33m)\u001b[0m\u001b[1;33m,\u001b[0m \u001b[0mkey\u001b[0m\u001b[1;33m=\u001b[0m\u001b[1;32mlambda\u001b[0m \u001b[0mx\u001b[0m\u001b[1;33m:\u001b[0m\u001b[1;33m-\u001b[0m\u001b[0mx\u001b[0m\u001b[1;33m[\u001b[0m\u001b[1;36m1\u001b[0m\u001b[1;33m]\u001b[0m\u001b[1;33m)\u001b[0m\u001b[1;33m\u001b[0m\u001b[1;33m\u001b[0m\u001b[0m\n",
      "\u001b[1;31mValueError\u001b[0m: not enough values to unpack (expected 2, got 1)"
     ]
    }
   ],
   "source": [
    "# Q. 11098\n",
    "n = int(input())\n",
    "for _ in range(n):\n",
    "    dic = {}\n",
    "    p = int(input())\n",
    "    for i in range(p):\n",
    "        c, name = input().split()\n",
    "        dic[name] = int(c)\n",
    "    lst = sorted(dic.items(), key=lambda x:-x[1])\n",
    "    print(lst[0][0])"
   ]
  },
  {
   "cell_type": "code",
   "execution_count": 30,
   "metadata": {},
   "outputs": [
    {
     "name": "stdout",
     "output_type": "stream",
     "text": [
      "0\n",
      "{}\n"
     ]
    }
   ],
   "source": [
    "# Q. 5635\n",
    "n = int(input())\n",
    "dic = {}\n",
    "for _ in range(n):\n",
    "    name, d, m, y = input().split()\n",
    "    dic[name] = tuple(map(int, (y, m, d)))\n",
    "    \n",
    "lst = sorted(dic.items(), key=(lambda x: (x[1][0], x[1][1], x[1][2])))  # 나이 많은 순으로 정렬\n",
    "print(lst[-1][0])\n",
    "print(lst[0][0])"
   ]
  },
  {
   "cell_type": "code",
   "execution_count": 87,
   "metadata": {},
   "outputs": [
    {
     "name": "stdout",
     "output_type": "stream",
     "text": [
      "13:52:30\n",
      "14:00:00\n",
      "00:07:30\n"
     ]
    }
   ],
   "source": [
    "# Q. 1408\n",
    "from datetime import datetime\n",
    "now = datetime.strptime(input(), \"%H:%M:%S\")\n",
    "target = datetime.strptime(input(), \"%H:%M:%S\")\n",
    "time_diff = target - now\n",
    "h = time_diff.seconds // 3600\n",
    "m = (time_diff.seconds % 3600) // 60\n",
    "s = ((time_diff.seconds % 3600) % 60) % 60\n",
    "print(f\"{h:02}:{m:02}:{s:02}\")"
   ]
  },
  {
   "cell_type": "code",
   "execution_count": 90,
   "metadata": {},
   "outputs": [
    {
     "name": "stdout",
     "output_type": "stream",
     "text": [
      "24 18\n",
      "6\n",
      "72\n"
     ]
    }
   ],
   "source": [
    "# Q. 2609\n",
    "n, m = map(int, input().split())\n",
    "def gcd(n, m):\n",
    "    if m >= n:\n",
    "        if m % n == 0:\n",
    "            return n\n",
    "        else:\n",
    "            return gcd(n, m % n)\n",
    "    else:\n",
    "        if n % m == 0:\n",
    "            return m  # 작은 수\n",
    "        else:\n",
    "            return gcd(m, n % m)\n",
    "\n",
    "print(gcd(n, m))\n",
    "print(int(n * m / gcd(n, m)))"
   ]
  },
  {
   "cell_type": "code",
   "execution_count": 97,
   "metadata": {},
   "outputs": [
    {
     "name": "stdout",
     "output_type": "stream",
     "text": [
      "10\n",
      "[0, 1, 1, 2, 3, 5, 8, 13, 21, 34, 55, 0, 0, 0, 0, 0, 0, 0, 0, 0, 0, 0, 0, 0, 0, 0, 0, 0, 0, 0, 0, 0, 0, 0, 0, 0, 0, 0, 0, 0, 0, 0, 0, 0, 0, 0, 0, 0, 0, 0, 0, 0, 0, 0, 0, 0, 0, 0, 0, 0, 0, 0, 0, 0, 0, 0, 0, 0, 0, 0, 0, 0, 0, 0, 0, 0, 0, 0, 0, 0, 0, 0, 0, 0, 0, 0, 0, 0, 0, 0, 0]\n",
      "55\n"
     ]
    }
   ],
   "source": [
    "# Q. 2748\n",
    "n = int(input())\n",
    "fibo = [0 for i in range(91)]\n",
    "fibo[0] = 0\n",
    "fibo[1] = 1\n",
    "for i in range(2, n+1):\n",
    "    fibo[i] = fibo[i-1] + fibo[i-2]\n",
    "# print(fibo)\n",
    "print(fibo[n])"
   ]
  },
  {
   "cell_type": "code",
   "execution_count": 98,
   "metadata": {},
   "outputs": [
    {
     "name": "stdout",
     "output_type": "stream",
     "text": [
      "9850\n",
      "1050\n",
      "800\n",
      "420\n",
      "380\n",
      "600\n",
      "820\n",
      "2400\n",
      "1800\n",
      "980\n",
      "600\n"
     ]
    }
   ],
   "source": [
    "# Q. 5565\n",
    "total = int(input())\n",
    "for _ in range(9):\n",
    "    total -= int(input())\n",
    "print(total)"
   ]
  },
  {
   "cell_type": "code",
   "execution_count": 2,
   "metadata": {},
   "outputs": [
    {
     "name": "stdout",
     "output_type": "stream",
     "text": [
      "1\n",
      "1\n",
      "0.0\n"
     ]
    },
    {
     "ename": "ValueError",
     "evalue": "not enough values to unpack (expected 2, got 1)",
     "output_type": "error",
     "traceback": [
      "\u001b[1;31m---------------------------------------------------------------------------\u001b[0m",
      "\u001b[1;31mValueError\u001b[0m                                Traceback (most recent call last)",
      "\u001b[1;32m<ipython-input-2-0de73639dd32>\u001b[0m in \u001b[0;36m<module>\u001b[1;34m\u001b[0m\n\u001b[0;32m      6\u001b[0m     \u001b[0mc_total\u001b[0m \u001b[1;33m=\u001b[0m \u001b[1;36m0\u001b[0m\u001b[1;33m\u001b[0m\u001b[1;33m\u001b[0m\u001b[0m\n\u001b[0;32m      7\u001b[0m     \u001b[1;32mfor\u001b[0m \u001b[0mi\u001b[0m \u001b[1;32min\u001b[0m \u001b[0mrange\u001b[0m\u001b[1;33m(\u001b[0m\u001b[0mn\u001b[0m\u001b[1;33m)\u001b[0m\u001b[1;33m:\u001b[0m\u001b[1;33m\u001b[0m\u001b[1;33m\u001b[0m\u001b[0m\n\u001b[1;32m----> 8\u001b[1;33m         \u001b[0mc\u001b[0m\u001b[1;33m,\u001b[0m \u001b[0mg\u001b[0m \u001b[1;33m=\u001b[0m \u001b[0mmap\u001b[0m\u001b[1;33m(\u001b[0m\u001b[0mfloat\u001b[0m\u001b[1;33m,\u001b[0m \u001b[0minput\u001b[0m\u001b[1;33m(\u001b[0m\u001b[1;33m)\u001b[0m\u001b[1;33m.\u001b[0m\u001b[0msplit\u001b[0m\u001b[1;33m(\u001b[0m\u001b[1;33m)\u001b[0m\u001b[1;33m)\u001b[0m\u001b[1;33m\u001b[0m\u001b[1;33m\u001b[0m\u001b[0m\n\u001b[0m\u001b[0;32m      9\u001b[0m         \u001b[0mavg_total\u001b[0m \u001b[1;33m+=\u001b[0m \u001b[0mc\u001b[0m\u001b[1;33m*\u001b[0m\u001b[0mg\u001b[0m\u001b[1;33m\u001b[0m\u001b[1;33m\u001b[0m\u001b[0m\n\u001b[0;32m     10\u001b[0m         \u001b[0mc_total\u001b[0m \u001b[1;33m+=\u001b[0m \u001b[0mint\u001b[0m\u001b[1;33m(\u001b[0m\u001b[0mc\u001b[0m\u001b[1;33m)\u001b[0m\u001b[1;33m\u001b[0m\u001b[1;33m\u001b[0m\u001b[0m\n",
      "\u001b[1;31mValueError\u001b[0m: not enough values to unpack (expected 2, got 1)"
     ]
    }
   ],
   "source": [
    "# Q. 10984\n",
    "T = int(input())\n",
    "for _ in range(T):\n",
    "    n = int(input())\n",
    "    avg_total = 0\n",
    "    c_total = 0\n",
    "    for i in range(n):\n",
    "        c, g = map(float, input().split())\n",
    "        avg_total += c*g\n",
    "        c_total += int(c)\n",
    "    print(f\"{c_total} {avg_total / c_total:.1f}\")"
   ]
  },
  {
   "cell_type": "code",
   "execution_count": 3,
   "metadata": {},
   "outputs": [
    {
     "name": "stdout",
     "output_type": "stream",
     "text": [
      "5\n",
      "24 52\n",
      "13 22\n",
      "5 53\n",
      "23 10\n",
      "7 70\n",
      "26\n"
     ]
    }
   ],
   "source": [
    "# Q. 10833\n",
    "n = int(input())\n",
    "total = 0\n",
    "for _ in range(n):\n",
    "    n, apple = map(int, input().split())\n",
    "    total += apple % n\n",
    "print(total)"
   ]
  },
  {
   "cell_type": "code",
   "execution_count": 19,
   "metadata": {},
   "outputs": [
    {
     "name": "stdout",
     "output_type": "stream",
     "text": [
      "8\n",
      "***************\n",
      " ************* \n",
      "  ***********  \n",
      "   *********   \n",
      "    *******    \n",
      "     *****     \n",
      "      ***      \n",
      "       *       \n"
     ]
    }
   ],
   "source": [
    "# Q. 2443\n",
    "n = int(input())\n",
    "for i in range(1, 2 * n, 2):\n",
    "    string = \"*\" * (2 * n - i)\n",
    "    print(\" \" * (i//2), string, sep=\"\")"
   ]
  },
  {
   "cell_type": "code",
   "execution_count": null,
   "metadata": {},
   "outputs": [],
   "source": []
  }
 ],
 "metadata": {
  "kernelspec": {
   "display_name": "Python 3",
   "language": "python",
   "name": "python3"
  },
  "language_info": {
   "codemirror_mode": {
    "name": "ipython",
    "version": 3
   },
   "file_extension": ".py",
   "mimetype": "text/x-python",
   "name": "python",
   "nbconvert_exporter": "python",
   "pygments_lexer": "ipython3",
   "version": "3.7.6"
  }
 },
 "nbformat": 4,
 "nbformat_minor": 4
}
