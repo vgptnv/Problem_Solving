{
 "cells": [
  {
   "cell_type": "code",
   "execution_count": 3,
   "metadata": {},
   "outputs": [
    {
     "name": "stdout",
     "output_type": "stream",
     "text": [
      "[3, 4, 5, 4, 5, 6]\n",
      "27\n",
      "[6]\n",
      "6\n",
      "[1, 2, 3, 4, 2, 3, 4, 5, 3, 4, 5, 6, 4, 5, 6, 7]\n",
      "64\n"
     ]
    }
   ],
   "source": [
    "# Q. 11660\n",
    "n, m = map(int, input().split())\n",
    "table = [list(map(int, input().split())) for _ in range(n)]  # n*n 2차원배열\n",
    "\n",
    "for _ in range(m):\n",
    "    x1, y1, x2, y2 = map(int, input().split())\n",
    "    lst = []\n",
    "    # for i in range(x1-1, x2):\n",
    "    #     for j in range(y1-1, y2):\n",
    "    #        lst.append(table[i][j])\n",
    "    # print(lst)\n",
    "    lst = [table[i][j] for j in range(y1-1, y2) for i in range(x1-1, x2)]\n",
    "    print(sum(lst)) "
   ]
  },
  {
   "cell_type": "code",
   "execution_count": 21,
   "metadata": {},
   "outputs": [
    {
     "data": {
      "text/plain": [
       "[3, 4, 4, 5, 5, 6]"
      ]
     },
     "execution_count": 21,
     "metadata": {},
     "output_type": "execute_result"
    }
   ],
   "source": [
    "lst = [ table[i][j] for j in range(1, 4) for i in range(1, 3) ]\n",
    "lst"
   ]
  },
  {
   "cell_type": "code",
   "execution_count": 19,
   "metadata": {},
   "outputs": [
    {
     "data": {
      "text/plain": [
       "[[1, 2, 3, 4], [2, 3, 4, 5], [3, 4, 5, 6], [4, 5, 6, 7]]"
      ]
     },
     "execution_count": 19,
     "metadata": {},
     "output_type": "execute_result"
    }
   ],
   "source": [
    "table"
   ]
  },
  {
   "cell_type": "code",
   "execution_count": null,
   "metadata": {},
   "outputs": [],
   "source": [
    "# https://hangjo-o.tistory.com/44?category=846825\n",
    "\n",
    "# import sys\n",
    "n, m = map(int, input().split())\n",
    "nums = [list(map(int, input().split())) for _ in range(n)]  # n*n 2차원 배열 생성\n",
    "nums_sum = [[0 for _ in range(n + 1)] for _ in range(n + 1)]  # (n+1)*(n+1) 구간합 배열 생성\n",
    "\n",
    "# 합 만들어주는 테이블                             \n",
    "for x in range(1, n + 1):\n",
    "    for y in range(1, n + 1):\n",
    "        nums_sum[x][y] = nums[x - 1][y - 1] + nums_sum[x - 1][y] + nums_sum[x][y - 1] - nums_sum[x - 1][y - 1]\n",
    "\n",
    "for _ in range(m):\n",
    "    x1, y1, x2, y2 = map(int, sys.stdin.readline().split())\n",
    "    ret = nums_sum[x2][y2] - nums_sum[x1 - 1][y2] - nums_sum[x2][y1 - 1] + nums_sum[x1 - 1][y1 - 1]\n",
    "    sys.stdout.write(str(ret) + \"\\n\")"
   ]
  }
 ],
 "metadata": {
  "interpreter": {
   "hash": "842d2169f82d7db1dfac7d91753e529f60f575232793c66531d2d283e0c0fc6d"
  },
  "kernelspec": {
   "display_name": "Python 3.9.4 64-bit ('py39': conda)",
   "language": "python",
   "name": "python3"
  },
  "language_info": {
   "codemirror_mode": {
    "name": "ipython",
    "version": 3
   },
   "file_extension": ".py",
   "mimetype": "text/x-python",
   "name": "python",
   "nbconvert_exporter": "python",
   "pygments_lexer": "ipython3",
   "version": "3.9.4"
  },
  "orig_nbformat": 4
 },
 "nbformat": 4,
 "nbformat_minor": 2
}
