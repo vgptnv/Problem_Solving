{
 "cells": [
  {
   "cell_type": "code",
   "execution_count": 34,
   "metadata": {},
   "outputs": [
    {
     "name": "stdout",
     "output_type": "stream",
     "text": [
      "Abcd\n",
      "0\n"
     ]
    }
   ],
   "source": [
    "# Q. 2929\n",
    "import re\n",
    "upper_pos = [m.start(0) for m in re.finditer(r'[A-Z]', input())]\n",
    "\n",
    "cnt = 0\n",
    "for i in upper_pos:\n",
    "    if (i + cnt) % 4 != 0:\n",
    "        temp = 0\n",
    "        while (i + cnt + temp) % 4 !=0:\n",
    "            temp += 1\n",
    "        cnt += temp\n",
    "        \n",
    "print(cnt)"
   ]
  }
 ],
 "metadata": {
  "kernelspec": {
   "display_name": "Python 3",
   "language": "python",
   "name": "python3"
  },
  "language_info": {
   "codemirror_mode": {
    "name": "ipython",
    "version": 3
   },
   "file_extension": ".py",
   "mimetype": "text/x-python",
   "name": "python",
   "nbconvert_exporter": "python",
   "pygments_lexer": "ipython3",
   "version": "3.7.6"
  }
 },
 "nbformat": 4,
 "nbformat_minor": 4
}
