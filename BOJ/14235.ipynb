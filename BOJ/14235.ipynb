{
 "cells": [
  {
   "cell_type": "code",
   "execution_count": 1,
   "metadata": {},
   "outputs": [
    {
     "name": "stdout",
     "output_type": "stream",
     "text": [
      "-1\n",
      "3\n",
      "2\n",
      "-1\n"
     ]
    }
   ],
   "source": [
    "# Q. 14235\n",
    "import heapq\n",
    "\n",
    "n = int(input())\n",
    "present = []\n",
    "\n",
    "for _ in range(n):\n",
    "    inp = list(map(int, input().split()))\n",
    "    a = inp[0]\n",
    "    if a == 0:\n",
    "        if present:\n",
    "            print(heapq.heappop(present)[1])\n",
    "        else:\n",
    "            print(-1)\n",
    "    else:\n",
    "        for j in range(1, a+1):\n",
    "            heapq.heappush(present, (-inp[j], inp[j]))\n"
   ]
  }
 ],
 "metadata": {
  "interpreter": {
   "hash": "842d2169f82d7db1dfac7d91753e529f60f575232793c66531d2d283e0c0fc6d"
  },
  "kernelspec": {
   "display_name": "Python 3.9.4 64-bit ('py39': conda)",
   "language": "python",
   "name": "python3"
  },
  "language_info": {
   "codemirror_mode": {
    "name": "ipython",
    "version": 3
   },
   "file_extension": ".py",
   "mimetype": "text/x-python",
   "name": "python",
   "nbconvert_exporter": "python",
   "pygments_lexer": "ipython3",
   "version": "3.9.4"
  },
  "orig_nbformat": 4
 },
 "nbformat": 4,
 "nbformat_minor": 2
}
