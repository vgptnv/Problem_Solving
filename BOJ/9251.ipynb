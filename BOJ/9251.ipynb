{
 "cells": [
  {
   "cell_type": "code",
   "execution_count": 1,
   "metadata": {},
   "outputs": [
    {
     "name": "stdout",
     "output_type": "stream",
     "text": [
      "4\n"
     ]
    }
   ],
   "source": [
    "# Q. 9251\n",
    "'''\n",
    "ACAYKP\n",
    "CAPCAK\n",
    "'''\n",
    "# import sys\n",
    "\n",
    "string_a = ' ' + input().rstrip()\n",
    "string_b = ' ' + input().rstrip()\n",
    "dp = [[0] * len(string_b) for _ in range(len(string_a))]  # len(a)*len(b)\n",
    "\n",
    "for i in range(1, len(string_a)):\n",
    "    for j in range(1, len(string_b)):\n",
    "        if string_a[i] == string_b[j]:\n",
    "            dp[i][j] = dp[i - 1][j - 1] + 1\n",
    "        else:\n",
    "            dp[i][j] = max(dp[i - 1][j], dp[i][j - 1])\n",
    "            \n",
    "print(dp[-1][-1])\n"
   ]
  },
  {
   "cell_type": "code",
   "execution_count": 2,
   "metadata": {},
   "outputs": [
    {
     "data": {
      "text/plain": [
       "[[0, 0, 0, 0, 0, 0, 0],\n",
       " [0, 0, 1, 1, 1, 1, 1],\n",
       " [0, 1, 1, 1, 2, 2, 2],\n",
       " [0, 1, 2, 2, 2, 3, 3],\n",
       " [0, 1, 2, 2, 2, 3, 3],\n",
       " [0, 1, 2, 2, 2, 3, 4],\n",
       " [0, 1, 2, 3, 3, 3, 4]]"
      ]
     },
     "execution_count": 2,
     "metadata": {},
     "output_type": "execute_result"
    }
   ],
   "source": [
    "dp"
   ]
  },
  {
   "cell_type": "code",
   "execution_count": null,
   "metadata": {},
   "outputs": [],
   "source": [
    "\" ACAYKP\""
   ]
  }
 ],
 "metadata": {
  "interpreter": {
   "hash": "842d2169f82d7db1dfac7d91753e529f60f575232793c66531d2d283e0c0fc6d"
  },
  "kernelspec": {
   "display_name": "Python 3.9.4 64-bit ('py39': conda)",
   "language": "python",
   "name": "python3"
  },
  "language_info": {
   "codemirror_mode": {
    "name": "ipython",
    "version": 3
   },
   "file_extension": ".py",
   "mimetype": "text/x-python",
   "name": "python",
   "nbconvert_exporter": "python",
   "pygments_lexer": "ipython3",
   "version": "3.9.4"
  },
  "orig_nbformat": 4
 },
 "nbformat": 4,
 "nbformat_minor": 2
}
