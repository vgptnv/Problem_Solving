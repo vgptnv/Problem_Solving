{
 "cells": [
  {
   "cell_type": "code",
   "execution_count": 7,
   "metadata": {},
   "outputs": [
    {
     "name": "stdout",
     "output_type": "stream",
     "text": [
      "2.0\n"
     ]
    }
   ],
   "source": [
    "# Q. 1166\n",
    "n, l, w, h = map(int, input().split())\n",
    "lower, upper = 0, min(l, w, h)\n",
    "\n",
    "for _ in range(10000):\n",
    "    if upper == lower: break\n",
    "    mid = (lower + upper) / 2  # 정수일 필요 X\n",
    "    count = (l//mid) * (w//mid) * (h//mid)\n",
    "    if count >= n:  # n개와 같거나 많은 box 들어감\n",
    "        lower = mid  # lower 키워야\n",
    "    else:  # n개 보다 적은 box 들어감\n",
    "        upper = mid  # upper 줄여야\n",
    "\n",
    "print(f\"{upper:.10f}\")"
   ]
  },
  {
   "cell_type": "code",
   "execution_count": null,
   "metadata": {},
   "outputs": [],
   "source": []
  }
 ],
 "metadata": {
  "interpreter": {
   "hash": "842d2169f82d7db1dfac7d91753e529f60f575232793c66531d2d283e0c0fc6d"
  },
  "kernelspec": {
   "display_name": "Python 3.9.4 64-bit ('py39': conda)",
   "name": "python3"
  },
  "language_info": {
   "codemirror_mode": {
    "name": "ipython",
    "version": 3
   },
   "file_extension": ".py",
   "mimetype": "text/x-python",
   "name": "python",
   "nbconvert_exporter": "python",
   "pygments_lexer": "ipython3",
   "version": "3.9.4"
  },
  "orig_nbformat": 4
 },
 "nbformat": 4,
 "nbformat_minor": 2
}
