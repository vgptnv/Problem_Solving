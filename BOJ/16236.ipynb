{
 "cells": [
  {
   "cell_type": "code",
   "execution_count": 11,
   "metadata": {},
   "outputs": [],
   "source": [
    "from pprint import pprint"
   ]
  },
  {
   "cell_type": "code",
   "execution_count": 7,
   "metadata": {},
   "outputs": [
    {
     "name": "stdout",
     "output_type": "stream",
     "text": [
      "[[-1, -1, -1, -1, -1], [-1, -1, -1, -1, -1], [-1, -1, -1, -1, -1], [-1, -1, -1, -1, -1], [-1, -1, -1, -1, -1]]\n",
      "[[-1, -1, -1, -1, -1],\n",
      " [-1, -1, -1, -1, -1],\n",
      " [-1, -1, -1, -1, -1],\n",
      " [-1, -1, -1, -1, -1],\n",
      " [-1, -1, -1, -1, -1]]\n"
     ]
    }
   ],
   "source": [
    "c = [[-1]*5 for _ in range(5)]\n",
    "print(c)\n",
    "pprint.pprint(c)"
   ]
  },
  {
   "cell_type": "code",
   "execution_count": 13,
   "metadata": {},
   "outputs": [
    {
     "name": "stdout",
     "output_type": "stream",
     "text": [
      "4\n",
      "4 3 2 1\n",
      "0 0 0 0\n",
      "0 0 9 0\n",
      "1 2 3 4\n",
      "array [[4, 3, 2, 1], [0, 0, 0, 0], [0, 0, 0, 0], [1, 2, 3, 4]]\n",
      "c [[-1, -1, -1, -1], [-1, -1, 1, -1], [-1, 1, 0, 1], [-1, -1, -1, -1]]\n",
      "--------------------\n",
      "array [[4, 3, 2, 1], [0, 0, 0, 0], [0, 0, 0, 0], [1, 2, 3, 4]]\n",
      "c [[-1, -1, 2, -1], [-1, 2, 1, 2], [2, 1, 0, 1], [-1, 2, -1, -1]]\n",
      "--------------------\n",
      "array [[4, 3, 2, 0], [0, 0, 0, 0], [0, 0, 0, 0], [1, 2, 3, 4]]\n",
      "c [[-1, -1, 4, 3], [-1, -1, -1, 4], [-1, -1, -1, -1], [-1, -1, -1, -1]]\n",
      "--------------------\n",
      "array [[4, 3, 2, 0], [0, 0, 0, 0], [0, 0, 0, 0], [1, 2, 3, 4]]\n",
      "c [[-1, -1, 4, 3], [-1, -1, 5, 4], [-1, -1, -1, 5], [-1, -1, -1, -1]]\n",
      "--------------------\n",
      "array [[4, 3, 2, 0], [0, 0, 0, 0], [0, 0, 0, 0], [1, 2, 3, 4]]\n",
      "c [[-1, -1, 4, 3], [-1, 6, 5, 4], [-1, -1, 6, 5], [-1, -1, -1, -1]]\n",
      "--------------------\n",
      "array [[4, 3, 2, 0], [0, 0, 0, 0], [0, 0, 0, 0], [1, 2, 3, 4]]\n",
      "c [[-1, -1, 4, 3], [7, 6, 5, 4], [-1, 7, 6, 5], [-1, -1, -1, -1]]\n",
      "--------------------\n",
      "array [[4, 3, 2, 0], [0, 0, 0, 0], [0, 0, 0, 0], [1, 2, 3, 4]]\n",
      "c [[-1, -1, 4, 3], [7, 6, 5, 4], [8, 7, 6, 5], [-1, 8, -1, -1]]\n",
      "--------------------\n",
      "array [[4, 3, 2, 0], [0, 0, 0, 0], [0, 0, 0, 0], [0, 0, 3, 4]]\n",
      "c [[-1, -1, -1, -1], [-1, -1, -1, -1], [-1, 11, -1, -1], [11, 10, 11, -1]]\n",
      "--------------------\n",
      "array [[4, 3, 2, 0], [0, 0, 0, 0], [0, 0, 0, 0], [0, 0, 3, 4]]\n",
      "c [[-1, -1, -1, -1], [-1, 12, -1, -1], [12, 11, 12, -1], [11, 10, 11, -1]]\n",
      "--------------------\n",
      "array [[4, 3, 2, 0], [0, 0, 0, 0], [0, 0, 0, 0], [0, 0, 3, 4]]\n",
      "c [[-1, 13, -1, -1], [13, 12, 13, -1], [12, 11, 12, 13], [11, 10, 11, -1]]\n",
      "--------------------\n",
      "array [[4, 3, 0, 0], [0, 0, 0, 0], [0, 0, 0, 0], [0, 0, 3, 4]]\n",
      "c [[-1, 15, 14, 15], [-1, -1, 15, -1], [-1, -1, -1, -1], [-1, -1, -1, -1]]\n",
      "--------------------\n",
      "array [[4, 3, 0, 0], [0, 0, 0, 0], [0, 0, 0, 0], [0, 0, 3, 4]]\n",
      "c [[-1, 15, 14, 15], [-1, 16, 15, 16], [-1, -1, 16, -1], [-1, -1, -1, -1]]\n",
      "--------------------\n",
      "array [[4, 3, 0, 0], [0, 0, 0, 0], [0, 0, 0, 0], [0, 0, 3, 4]]\n",
      "c [[-1, 15, 14, 15], [17, 16, 15, 16], [-1, 17, 16, 17], [-1, -1, 17, -1]]\n",
      "--------------------\n",
      "array [[4, 3, 0, 0], [0, 0, 0, 0], [0, 0, 0, 0], [0, 0, 3, 4]]\n",
      "c [[-1, 15, 14, 15], [17, 16, 15, 16], [18, 17, 16, 17], [-1, 18, 17, -1]]\n",
      "--------------------\n",
      "array [[4, 3, 0, 0], [0, 0, 0, 0], [0, 0, 0, 0], [0, 0, 3, 4]]\n",
      "c [[-1, 15, 14, 15], [17, 16, 15, 16], [18, 17, 16, 17], [19, 18, 17, -1]]\n",
      "--------------------\n",
      "array [[4, 3, 0, 0], [0, 0, 0, 0], [0, 0, 0, 0], [0, 0, 3, 4]]\n",
      "c [[-1, 15, 14, 15], [17, 16, 15, 16], [18, 17, 16, 17], [19, 18, 17, -1]]\n",
      "--------------------\n",
      "14\n"
     ]
    },
    {
     "ename": "SystemExit",
     "evalue": "",
     "output_type": "error",
     "traceback": [
      "An exception has occurred, use %tb to see the full traceback.\n",
      "\u001b[1;31mSystemExit\u001b[0m\n"
     ]
    }
   ],
   "source": [
    "# Q. 16236\n",
    "#백준 아기상어\n",
    "from collections import deque\n",
    "import sys\n",
    "\n",
    "# input = sys.stdin.readline\n",
    "dx = [-1, 0, 0, 1]\n",
    "dy = [0, -1, 1, 0]\n",
    "\n",
    "def bfs(x, y, weight, time, eat):\n",
    "    q, can_eat = deque(), []\n",
    "    q.append([x, y])\n",
    "    c = [[-1]*n for _ in range(n)]  # -1로 채워진 N*N 2차원 배열\n",
    "    c[x][y] = time  # 초기값 0\n",
    "    while q:\n",
    "        qlen = len(q)\n",
    "        while qlen:  # q의 길이 만큼 while 문 반복\n",
    "            x, y = q.popleft()\n",
    "            for i in range(4):\n",
    "                nx = x + dx[i]\n",
    "                ny = y + dy[i]\n",
    "                if 0 <= nx < n and 0 <= ny < n:\n",
    "                    if c[nx][ny] == -1:  # not visited!\n",
    "                        if a[nx][ny] == 0 or a[nx][ny] == weight:  # 지나만 갈 수 있는 칸!\n",
    "                            c[nx][ny] = c[x][y] + 1  # 이동하는 데 1초 걸려서 -> +1초\n",
    "                            q.append([nx, ny])  # 이동한 칸\n",
    "                        elif 0 < a[nx][ny] < weight:  # 먹을 수 있는!\n",
    "                            can_eat.append([nx, ny])\n",
    "            qlen -= 1\n",
    "\n",
    "        if can_eat:\n",
    "            nx, ny = min(can_eat)\n",
    "            eat += 1\n",
    "            if eat == weight:  # 상어 레벨업\n",
    "                eat = 0\n",
    "                weight += 1  # 상어 크기 + 1\n",
    "            a[nx][ny] = 0\n",
    "            return nx, ny, weight, c[x][y] + 1, eat\n",
    "        \n",
    "        print(\"array\", a)\n",
    "        print(\"c\", c)\n",
    "        print('--------------------')\n",
    "\n",
    "    print(time)\n",
    "    sys.exit()\n",
    "\n",
    "n = int(input())\n",
    "a = [list(map(int, input().split())) for _ in range(n)]\n",
    "\n",
    "for i in range(n):\n",
    "    for j in range(n):\n",
    "        if a[i][j] == 9:\n",
    "            x, y = i, j\n",
    "            a[i][j] = 0\n",
    "\n",
    "weight, time, eat = 2, 0, 0\n",
    "while True:\n",
    "    x, y, weight, time, eat = bfs(x, y, weight, time, eat)"
   ]
  },
  {
   "cell_type": "code",
   "execution_count": 2,
   "metadata": {},
   "outputs": [
    {
     "name": "stdout",
     "output_type": "stream",
     "text": [
      "[0, 0]\n"
     ]
    }
   ],
   "source": [
    "lst = [[0, 1], [0, 2], [3, 4], [3, 0], [2, 0], [0, 0]]\n",
    "print(min(lst))"
   ]
  },
  {
   "cell_type": "code",
   "execution_count": null,
   "metadata": {},
   "outputs": [],
   "source": [
    "import sys\n",
    "from collections import deque\n",
    "import heapq\n",
    "n = int(sys.stdin.readline())\n",
    "maps = []\n",
    "for y in range(n):\n",
    "    arr = list(map(int, sys.stdin.readline().split()))\n",
    "    for x in range(len(arr)):\n",
    "        if arr[x] == 9:\n",
    "            start = (y, x, 0)\n",
    "    maps.append(arr)\n",
    "\n",
    "    \n",
    "def find_min_dist(start, maps, current_size):\n",
    "    dirs = [(0,1),(0,-1),(1,0),(-1,0)]\n",
    "    queue = deque()\n",
    "    queue.append(start)\n",
    "    \n",
    "    y, x, cnt = start\n",
    "    # 시작 위치 값을 0으로 변경.\n",
    "    maps[y][x] = 0\n",
    "    # min_dist는 heapq구조. (cnt, y, x) 형태로 저장한다.\n",
    "    min_dist = []\n",
    "    visited = set()\n",
    "    while queue:\n",
    "        y, x, cnt = queue.popleft()\n",
    "        visited.add((y, x))\n",
    "        for dy, dx in dirs:\n",
    "            ny, nx = y + dy, x + dx\n",
    "            if 0 <= ny < len(maps) and 0 <= nx < len(maps) and (ny, nx) not in visited:\n",
    "                visited.add((ny, nx))\n",
    "                # 다음 칸으로 이동할 수 있는 경우\n",
    "                if maps[ny][nx] == 0 or maps[ny][nx] == current_size:\n",
    "                    queue.append((ny, nx, cnt + 1))\n",
    "                    continue\n"
   ]
  }
 ],
 "metadata": {
  "kernelspec": {
   "display_name": "Python 3",
   "language": "python",
   "name": "python3"
  },
  "language_info": {
   "codemirror_mode": {
    "name": "ipython",
    "version": 3
   },
   "file_extension": ".py",
   "mimetype": "text/x-python",
   "name": "python",
   "nbconvert_exporter": "python",
   "pygments_lexer": "ipython3",
   "version": "3.7.6"
  }
 },
 "nbformat": 4,
 "nbformat_minor": 4
}
