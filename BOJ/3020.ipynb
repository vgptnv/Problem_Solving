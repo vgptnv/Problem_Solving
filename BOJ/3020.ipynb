{
 "cells": [
  {
   "cell_type": "code",
   "execution_count": 5,
   "metadata": {},
   "outputs": [
    {
     "name": "stdout",
     "output_type": "stream",
     "text": [
      "[0, 1, 0, 1, 0, 1, 0, 0] [0, 0, 0, 1, 0, 1, 0, 1]\n",
      "2 3\n"
     ]
    }
   ],
   "source": [
    "# Q. 3020\n",
    "\n",
    "n, h = map(int, input().split())\n",
    "\n",
    "data = []  # 석순, 종유석, 석순, 종유석, ...\n",
    "for i in range(n):\n",
    "  data.append(int(input()))\n",
    "\n",
    "answer = [0] * (h + 1)\n",
    "top = [0] * (h + 1)\n",
    "bottom = [0] * (h + 1)\n",
    "\n",
    "count = 0\n",
    "for length in data:\n",
    "  if count % 2 == 0:  # 석순\n",
    "    count += 1\n",
    "    top[length] += 1\n",
    "  else:  # 종유석\n",
    "    count += 1\n",
    "    bottom[h-length+1] += 1\n",
    "    \n",
    "print(top, bottom)  # 종유석, 석순\n",
    "\n",
    "for i in range(h - 1, 0, -1):\n",
    "  top[i] += top[i + 1]\n",
    "\n",
    "for i in range(1, h + 1):\n",
    "  bottom[i] += bottom[i-1]\n",
    "\n",
    "for i in range(1, h + 1):\n",
    "  answer[i] = top[i] + bottom[i]\n",
    "\n",
    "answer = answer[1:]\n",
    "print(min(answer), answer.count(min(answer)))\n"
   ]
  },
  {
   "cell_type": "code",
   "execution_count": 7,
   "metadata": {},
   "outputs": [
    {
     "data": {
      "text/plain": [
       "[1, 5, 3, 3, 5, 1]"
      ]
     },
     "execution_count": 7,
     "metadata": {},
     "output_type": "execute_result"
    }
   ],
   "source": [
    "data"
   ]
  },
  {
   "cell_type": "code",
   "execution_count": 4,
   "metadata": {},
   "outputs": [
    {
     "name": "stdout",
     "output_type": "stream",
     "text": [
      "[0, 3, 2, 2, 1, 1, 0, 0]\n",
      "[0, 0, 0, 1, 1, 2, 2, 3]\n"
     ]
    }
   ],
   "source": [
    "print(top)\n",
    "print(bottom)"
   ]
  },
  {
   "cell_type": "code",
   "execution_count": 6,
   "metadata": {},
   "outputs": [
    {
     "data": {
      "text/plain": [
       "[3, 2, 3, 2, 3, 2, 3]"
      ]
     },
     "execution_count": 6,
     "metadata": {},
     "output_type": "execute_result"
    }
   ],
   "source": [
    "answer"
   ]
  },
  {
   "cell_type": "code",
   "execution_count": null,
   "metadata": {},
   "outputs": [],
   "source": []
  }
 ],
 "metadata": {
  "interpreter": {
   "hash": "e7c2614996dc93601b39e7513826356290600029fcafdf3bba5f032caf10692a"
  },
  "kernelspec": {
   "display_name": "Python 3.7.6 64-bit ('base': conda)",
   "language": "python",
   "name": "python3"
  },
  "language_info": {
   "codemirror_mode": {
    "name": "ipython",
    "version": 3
   },
   "file_extension": ".py",
   "mimetype": "text/x-python",
   "name": "python",
   "nbconvert_exporter": "python",
   "pygments_lexer": "ipython3",
   "version": "3.7.6"
  },
  "orig_nbformat": 4
 },
 "nbformat": 4,
 "nbformat_minor": 2
}
