{
 "cells": [
  {
   "cell_type": "code",
   "execution_count": 25,
   "metadata": {},
   "outputs": [
    {
     "name": "stdout",
     "output_type": "stream",
     "text": [
      "Possible\n"
     ]
    }
   ],
   "source": [
    "# Q. 14713\n",
    "n = int(input())\n",
    "spoken = []\n",
    "for _ in range(n):\n",
    "    spoken.append(list(input().split()))\n",
    "    \n",
    "written = input().split()\n",
    "# spoken -> 마지막에 아무것도 없게!\n",
    "flag = True  # Possible\n",
    "for word in written:\n",
    "    for i_parrot in spoken:\n",
    "        if not i_parrot: \n",
    "            continue\n",
    "        elif word == i_parrot[0]:\n",
    "            i_parrot.pop(0)\n",
    "            break\n",
    "    else:\n",
    "        flag = False\n",
    "    if not flag: break\n",
    "    \n",
    "spoken_len = [len(i_parrot) for i_parrot in spoken]\n",
    "\n",
    "if flag and sum(spoken_len) == 0:\n",
    "    print(\"Possible\")\n",
    "else:\n",
    "    print(\"Impossible\")\n",
    "        "
   ]
  },
  {
   "cell_type": "code",
   "execution_count": 17,
   "metadata": {},
   "outputs": [
    {
     "data": {
      "text/plain": [
       "['pen', 'pineapple', 'apple', 'pen']"
      ]
     },
     "execution_count": 17,
     "metadata": {},
     "output_type": "execute_result"
    }
   ],
   "source": [
    "written"
   ]
  },
  {
   "cell_type": "code",
   "execution_count": 23,
   "metadata": {},
   "outputs": [
    {
     "data": {
      "text/plain": [
       "[5, 2, 2]"
      ]
     },
     "execution_count": 23,
     "metadata": {},
     "output_type": "execute_result"
    }
   ],
   "source": [
    "spoken_len"
   ]
  },
  {
   "cell_type": "code",
   "execution_count": 26,
   "metadata": {},
   "outputs": [
    {
     "data": {
      "text/plain": [
       "[[], [], []]"
      ]
     },
     "execution_count": 26,
     "metadata": {},
     "output_type": "execute_result"
    }
   ],
   "source": [
    "spoken"
   ]
  },
  {
   "cell_type": "code",
   "execution_count": null,
   "metadata": {},
   "outputs": [],
   "source": []
  }
 ],
 "metadata": {
  "interpreter": {
   "hash": "842d2169f82d7db1dfac7d91753e529f60f575232793c66531d2d283e0c0fc6d"
  },
  "kernelspec": {
   "display_name": "Python 3.9.4 64-bit ('py39': conda)",
   "language": "python",
   "name": "python3"
  },
  "language_info": {
   "codemirror_mode": {
    "name": "ipython",
    "version": 3
   },
   "file_extension": ".py",
   "mimetype": "text/x-python",
   "name": "python",
   "nbconvert_exporter": "python",
   "pygments_lexer": "ipython3",
   "version": "3.9.4"
  },
  "orig_nbformat": 4
 },
 "nbformat": 4,
 "nbformat_minor": 2
}
