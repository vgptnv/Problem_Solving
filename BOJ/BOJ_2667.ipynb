{
 "cells": [
  {
   "cell_type": "code",
   "execution_count": 27,
   "metadata": {},
   "outputs": [
    {
     "name": "stdout",
     "output_type": "stream",
     "text": [
      "7\n",
      "0110100\n",
      "0110101\n",
      "1110101\n",
      "0000111\n",
      "0100000\n",
      "0111110\n",
      "0111000\n",
      "[7, 8, 9]\n"
     ]
    }
   ],
   "source": [
    "# Q. 2667\n",
    "n = int(input())\n",
    "town = [list(map(int, list(input()))) for _ in range(n)]\n",
    "visited = [[False for _ in range(n)] for _ in range(n)]  # n*n\n",
    "block = []  # \n",
    "\n",
    "def dfs(x, y):\n",
    "    visited[x][y] = True\n",
    "    directions = [(-1, 0), (1, 0), (0, -1), (0, 1)]  # 상하좌우\n",
    "    global cnt\n",
    "    \n",
    "    for dx, dy in directions:\n",
    "        nx, ny = x + dx, y + dy\n",
    "        if nx < 0 or nx >= n or ny < 0  or ny >= n:  # 지도 밖으로 나가면\n",
    "            continue\n",
    "        if town[nx][ny] == 1 and not visited[nx][ny]:\n",
    "            dfs(nx, ny)\n",
    "            cnt += 1\n",
    "\n",
    "for i in range(n):\n",
    "    for j in range(n):\n",
    "        if town[i][j] and not visited[i][j]:  # 처음 블락이 시작되는 집 \n",
    "            cnt = 1\n",
    "            dfs(i, j)\n",
    "            block.append(cnt)\n",
    "\n",
    "block.sort()\n",
    "print(len(block))\n",
    "print('\\n'.join(map(str, block)))\n",
    "            "
   ]
  },
  {
   "cell_type": "code",
   "execution_count": 4,
   "metadata": {},
   "outputs": [
    {
     "data": {
      "text/plain": [
       "[[False, False, False, False, False],\n",
       " [False, False, False, False, False],\n",
       " [False, False, False, False, False],\n",
       " [False, False, False, False, False],\n",
       " [False, False, False, False, False]]"
      ]
     },
     "execution_count": 4,
     "metadata": {},
     "output_type": "execute_result"
    }
   ],
   "source": [
    "n = 5\n",
    "visited = [[False for _ in range(n)] for _ in range(n)]\n",
    "visited"
   ]
  },
  {
   "cell_type": "code",
   "execution_count": 26,
   "metadata": {},
   "outputs": [
    {
     "name": "stdout",
     "output_type": "stream",
     "text": [
      "[7, 8, 9]\n"
     ]
    }
   ],
   "source": [
    "def dfs(x, y):\n",
    "    visited[x][y] = True\n",
    "    directions = [(-1, 0), (1, 0), (0, -1), (0, 1)]\n",
    "    global cnt\n",
    "    \n",
    "    for dx, dy in directions:\n",
    "        nx, ny = x + dx, y + dy\n",
    "        if nx < 0 or nx >= n or ny < 0  or ny >= n:\n",
    "            continue\n",
    "        if town[nx][ny] and not visited[nx][ny]:\n",
    "            dfs(nx, ny)\n",
    "            cnt += 1\n",
    "\n",
    "for i in range(n):\n",
    "    for j in range(n):\n",
    "        if town[i][j] and not visited[i][j]:\n",
    "            cnt = 1\n",
    "            dfs(i, j)\n",
    "            print(cnt, block)\n",
    "            block.append(cnt)\n",
    "            \n",
    "block.sort()\n",
    "print(len(block))\n",
    "print('\\n'.join(map(str, block)))"
   ]
  },
  {
   "cell_type": "code",
   "execution_count": 55,
   "metadata": {},
   "outputs": [
    {
     "name": "stdout",
     "output_type": "stream",
     "text": [
      "7\n",
      "0110100\n",
      "0110101\n",
      "1110101\n",
      "0000111\n",
      "0100000\n",
      "0111110\n",
      "0111000\n",
      "[[0, 1, 1, 0, 1, 0, 0], [0, 1, 1, 0, 1, 0, 1], [1, 1, 1, 0, 1, 0, 1], [0, 0, 0, 0, 1, 1, 1], [0, 1, 0, 0, 0, 0, 0], [0, 1, 1, 1, 1, 1, 0], [0, 1, 1, 1, 0, 0, 0]]\n",
      "[[0, 1, 1, 0, 1, 0, 0], [0, 1, 1, 0, 1, 0, 1], [1, 1, 1, 0, 1, 0, 1], [0, 0, 0, 0, 1, 1, 1], [0, 1, 0, 0, 0, 0, 0], [0, 1, 1, 1, 1, 1, 0], [0, 1, 1, 1, 0, 0, 0]]\n",
      "[[0, 1, 1, 0, 1, 0, 0], [0, 1, 1, 0, 1, 0, 1], [1, 1, 1, 0, 1, 0, 1], [0, 0, 0, 0, 1, 1, 1], [0, 1, 0, 0, 0, 0, 0], [0, 1, 1, 1, 1, 1, 0], [0, 1, 1, 1, 0, 0, 0]]\n",
      "3\n",
      "7\n",
      "8\n",
      "9\n"
     ]
    }
   ],
   "source": [
    "from collections import deque\n",
    "from collections import Counter\n",
    "from functools import reduce\n",
    "\n",
    "# 입력받기\n",
    "n = int(input())\n",
    "\n",
    "# 지도 입력받기 (2차원)\n",
    "a = [list(map(int,list(input()))) for _ in range(n)]  # n*n\n",
    "\n",
    "# 방문 체크용 리스트 (2차원)\n",
    "group = [ [0] * n for _ in range(n) ]\n",
    "\n",
    "# 위 아래 왼 오 방향이동용 리스트\n",
    "dx = [-1, 1, 0, 0]\n",
    "dy = [0, 0, -1, 1]\n",
    "\n",
    "# bfs\n",
    "def bfs(x, y, cnt):  # First In First Out / dfs는 LIFO\n",
    "    q = deque()   \n",
    "    q.append((x, y))\n",
    "    group[x][y] = cnt\n",
    "    while q:\n",
    "        x, y = q.popleft()\n",
    "        \n",
    "        # 위 아래 왼쪽 오른쪽 탐색\n",
    "        for k in range(4):\n",
    "            nx, ny = x+dx[k], y+dy[k]\n",
    "            # 지도 밖으로 안 나갔는지 확인\n",
    "            if 0 <= nx < n and 0 <= ny < n :\n",
    "                # 집이 있고, 아직 방문한 곳이 아니라면 꼬우\n",
    "                if a[nx][ny] == 1 and group[nx][ny] == 0:\n",
    "                    q.append((nx, ny))\n",
    "                    group[nx][ny] = cnt\n",
    "\n",
    "# 모든 정점을 시작점으로 해서 탐색\n",
    "cnt = 0\n",
    "for i in range(n):\n",
    "    for j in range(n):\n",
    "        if a[i][j] == 1 and group[i][j] == 0:\n",
    "            cnt += 1\n",
    "            bfs(i, j, cnt)\n",
    "\n",
    "# 단지수 출력\n",
    "print(cnt)\n",
    "# 각 단지마다 집 개수 출력\n",
    "# 2차원 배열을 1차원으로 쭈욱 펼치기 \n",
    "ans = reduce(lambda x,y : x+y, group)\n",
    "# 단지로 등록?된 집들만 ans 리스트에 남기기\n",
    "ans = [x for x in ans if x > 0]\n",
    "# cnt(단지번호) 별 개수(Counter.values()) 구하고 출력\n",
    "ans = sorted(list(Counter(ans).values()))\n",
    "print('\\n'.join(map(str,ans)))"
   ]
  },
  {
   "cell_type": "code",
   "execution_count": null,
   "metadata": {},
   "outputs": [],
   "source": []
  }
 ],
 "metadata": {
  "kernelspec": {
   "display_name": "Python 3",
   "language": "python",
   "name": "python3"
  },
  "language_info": {
   "codemirror_mode": {
    "name": "ipython",
    "version": 3
   },
   "file_extension": ".py",
   "mimetype": "text/x-python",
   "name": "python",
   "nbconvert_exporter": "python",
   "pygments_lexer": "ipython3",
   "version": "3.7.6"
  }
 },
 "nbformat": 4,
 "nbformat_minor": 4
}
