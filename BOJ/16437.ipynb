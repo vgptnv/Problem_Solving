{
 "cells": [
  {
   "cell_type": "code",
   "execution_count": 3,
   "metadata": {},
   "outputs": [
    {
     "name": "stdout",
     "output_type": "stream",
     "text": [
      "3 2 {1: 0, 2: 100, 3: 0, 4: 10} {1: 0, 2: 0, 3: 50, 4: 0} 100\n",
      "1 3 {1: 0, 2: 100, 3: 0, 4: 10} {1: 0, 2: 0, 3: 0, 4: 0} 50\n",
      "1 4 {1: 0, 2: 100, 3: 0, 4: 10} {1: 0, 2: 0, 3: 0, 4: 0} 60\n",
      "60\n"
     ]
    }
   ],
   "source": [
    "# Q. 16437\n",
    "import sys\n",
    "\n",
    "sys.setrecursionlimit(1000000)\n",
    "\n",
    "N = int(input())\n",
    "# wolves[i] : i번째 섬에 있는 늑대 수\n",
    "# wolves = [0 for _ in range(N+1)]  # 리스트로!\n",
    "wolves = {i:0 for i in range(1, N+1)}\n",
    "\n",
    "# sheeps[i] : i번쨰 섬에 있는 양의 수\n",
    "sheeps = {i:0 for i in range(1, N+1)}\n",
    "\n",
    "# 트리\n",
    "tree = {i:[] for i in range(1, N+1)}\n",
    "for i in range(2, N+1):\n",
    "    t, a, p = input().split()\n",
    "    a = int(a)\n",
    "    p = int(p)\n",
    "    if t == \"W\":\n",
    "        wolves[i] = a\n",
    "    else:\n",
    "        sheeps[i] = a\n",
    "\n",
    "    # tree[i].append(p)\n",
    "    tree[p].append(i)\n",
    "\n",
    "def dfs(here):\n",
    "    num_sheeps = sheeps[here]  # here 섬의 양의 수\n",
    "\n",
    "    for there in tree[here]:\n",
    "        num_sheeps += dfs(there) #서브트리의 양들을 모두 더해준다.\n",
    "        print(here, there, sheeps, wolves ,num_sheeps)\n",
    "\n",
    "    if wolves[here] != 0: #만약 현재 섬에 늑대가 있고\n",
    "        if num_sheeps < wolves[here]: #서브트리의 양보다 현재 섬의 늑대가 많다면\n",
    "            wolves[here] -= num_sheeps # 배고픈 늑대들이 줄어든다.\n",
    "            num_sheeps = 0 # 양들은 모두 먹힘\n",
    "        else: #양이 더 많다면\n",
    "            num_sheeps -= wolves[here] #양이 줄어들고\n",
    "            wolves[here] =0 #배부른 늑대는 0 이제부턴 이 섬은 동료들의 희생으로 그냥 지나갈 수 있다.\n",
    "\n",
    "    return num_sheeps\n",
    "\n",
    "print(dfs(1))\n"
   ]
  },
  {
   "cell_type": "code",
   "execution_count": 5,
   "metadata": {},
   "outputs": [
    {
     "data": {
      "text/plain": [
       "{1: [3, 4], 2: [], 3: [2], 4: []}"
      ]
     },
     "execution_count": 5,
     "metadata": {},
     "output_type": "execute_result"
    }
   ],
   "source": [
    "tree"
   ]
  },
  {
   "cell_type": "code",
   "execution_count": null,
   "metadata": {},
   "outputs": [],
   "source": []
  }
 ],
 "metadata": {
  "interpreter": {
   "hash": "842d2169f82d7db1dfac7d91753e529f60f575232793c66531d2d283e0c0fc6d"
  },
  "kernelspec": {
   "display_name": "Python 3.9.4 64-bit ('py39': conda)",
   "name": "python3"
  },
  "language_info": {
   "codemirror_mode": {
    "name": "ipython",
    "version": 3
   },
   "file_extension": ".py",
   "mimetype": "text/x-python",
   "name": "python",
   "nbconvert_exporter": "python",
   "pygments_lexer": "ipython3",
   "version": "3.9.4"
  },
  "orig_nbformat": 4
 },
 "nbformat": 4,
 "nbformat_minor": 2
}
