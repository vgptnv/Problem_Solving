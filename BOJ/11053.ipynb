{
 "cells": [
  {
   "cell_type": "code",
   "execution_count": 2,
   "metadata": {},
   "outputs": [
    {
     "name": "stdout",
     "output_type": "stream",
     "text": [
      "1 0 \n",
      " [1, 2, 1, 1, 1, 1]\n",
      "3 0 \n",
      " [1, 2, 1, 2, 1, 1]\n",
      "3 1 \n",
      " [1, 2, 1, 3, 1, 1]\n",
      "3 2 \n",
      " [1, 2, 1, 3, 1, 1]\n",
      "4 0 \n",
      " [1, 2, 1, 3, 2, 1]\n",
      "4 2 \n",
      " [1, 2, 1, 3, 2, 1]\n",
      "5 0 \n",
      " [1, 2, 1, 3, 2, 2]\n",
      "5 1 \n",
      " [1, 2, 1, 3, 2, 3]\n",
      "5 2 \n",
      " [1, 2, 1, 3, 2, 3]\n",
      "5 3 \n",
      " [1, 2, 1, 3, 2, 4]\n",
      "5 4 \n",
      " [1, 2, 1, 3, 2, 4]\n",
      "4\n"
     ]
    }
   ],
   "source": [
    "# Q. 11053\n",
    "n = int(input())\n",
    "array = list(map(int, input().split()))\n",
    "\n",
    "dp = [1] * n\n",
    "for i in range(1, n):\n",
    "    for j in range(0, i):\n",
    "        if array[j] < array[i]:\n",
    "            dp[i] = max(dp[i], dp[j] + 1)\n",
    "            print(i, j, \"\\n\", dp)\n",
    "\n",
    "print(max(dp))"
   ]
  },
  {
   "cell_type": "code",
   "execution_count": null,
   "metadata": {},
   "outputs": [],
   "source": []
  }
 ],
 "metadata": {
  "interpreter": {
   "hash": "e7c2614996dc93601b39e7513826356290600029fcafdf3bba5f032caf10692a"
  },
  "kernelspec": {
   "display_name": "Python 3.7.6 64-bit ('base': conda)",
   "language": "python",
   "name": "python3"
  },
  "language_info": {
   "codemirror_mode": {
    "name": "ipython",
    "version": 3
   },
   "file_extension": ".py",
   "mimetype": "text/x-python",
   "name": "python",
   "nbconvert_exporter": "python",
   "pygments_lexer": "ipython3",
   "version": "3.7.6"
  },
  "orig_nbformat": 4
 },
 "nbformat": 4,
 "nbformat_minor": 2
}
