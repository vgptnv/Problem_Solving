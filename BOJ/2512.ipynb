{
 "cells": [
  {
   "cell_type": "code",
   "execution_count": 33,
   "metadata": {},
   "outputs": [
    {
     "name": "stdout",
     "output_type": "stream",
     "text": [
      "4\n",
      "151 151 151 151\n",
      "600\n",
      "150\n"
     ]
    }
   ],
   "source": [
    "# Q. 2512\n",
    "# 이진탐색은 nlogn\n",
    "n = int(input())\n",
    "claims = list(map(int, input().split()))\n",
    "m = int(input())\n",
    "\n",
    "if m >= sum(claims):  # 모든 요청 수용 가능\n",
    "    print(max(claims))\n",
    "else: # 모든 요청 수용 불가\n",
    "    claims.sort(reverse=True)\n",
    "    bound_max = 0\n",
    "    i = 1\n",
    "    while i < len(claims):\n",
    "        if (claims[i]) * i + sum(claims[i:]) > m:\n",
    "            i += 1\n",
    "        else:\n",
    "            break\n",
    "    print((m - sum(claims[i:])) // i)"
   ]
  }
 ],
 "metadata": {
  "kernelspec": {
   "display_name": "Python 3",
   "language": "python",
   "name": "python3"
  },
  "language_info": {
   "codemirror_mode": {
    "name": "ipython",
    "version": 3
   },
   "file_extension": ".py",
   "mimetype": "text/x-python",
   "name": "python",
   "nbconvert_exporter": "python",
   "pygments_lexer": "ipython3",
   "version": "3.7.6"
  }
 },
 "nbformat": 4,
 "nbformat_minor": 4
}
