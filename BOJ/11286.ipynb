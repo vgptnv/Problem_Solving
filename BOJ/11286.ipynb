{
 "cells": [
  {
   "cell_type": "code",
   "execution_count": null,
   "metadata": {},
   "outputs": [],
   "source": [
    "# Q. 11286\n",
    "import heapq\n",
    "heap = []\n",
    "        \n",
    "n = int(input())\n",
    "for _ in range(n):\n",
    "    i = int(input())\n",
    "    if i != 0:\n",
    "        heapq.heappush(heap, (abs(i), i))\n",
    "    else:\n",
    "        if len(heap) > 0:\n",
    "            print(heapq.heappop(heap)[1])\n",
    "        else:\n",
    "            print(0)\n",
    "    "
   ]
  }
 ],
 "metadata": {
  "interpreter": {
   "hash": "842d2169f82d7db1dfac7d91753e529f60f575232793c66531d2d283e0c0fc6d"
  },
  "kernelspec": {
   "display_name": "Python 3.9.4 ('py39')",
   "language": "python",
   "name": "python3"
  },
  "language_info": {
   "codemirror_mode": {
    "name": "ipython",
    "version": 3
   },
   "file_extension": ".py",
   "mimetype": "text/x-python",
   "name": "python",
   "nbconvert_exporter": "python",
   "pygments_lexer": "ipython3",
   "version": "3.9.4"
  },
  "orig_nbformat": 4
 },
 "nbformat": 4,
 "nbformat_minor": 2
}
