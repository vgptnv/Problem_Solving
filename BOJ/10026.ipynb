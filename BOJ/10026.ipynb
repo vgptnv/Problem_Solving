{
 "cells": [
  {
   "cell_type": "code",
   "execution_count": 29,
   "metadata": {},
   "outputs": [
    {
     "name": "stdout",
     "output_type": "stream",
     "text": [
      "5\n",
      "RRRBB\n",
      "GGBBB\n",
      "BBBRR\n",
      "BBRRR\n",
      "RRRRR\n",
      "[[True, True, True, False, False], [True, True, False, False, False], [False, False, False, False, False], [False, False, False, False, False], [False, False, False, False, False]]\n",
      "[[True, True, True, False, False], [False, False, False, False, False], [False, False, False, False, False], [False, False, False, False, False], [False, False, False, False, False]]\n",
      "[[True, True, True, True, True], [True, True, True, True, True], [True, True, True, False, False], [True, True, False, False, False], [False, False, False, False, False]]\n",
      "[[True, True, True, True, True], [False, False, True, True, True], [True, True, True, False, False], [True, True, False, False, False], [False, False, False, False, False]]\n",
      "[[True, True, True, True, True], [True, True, True, True, True], [True, True, True, False, False], [True, True, False, False, False], [False, False, False, False, False]]\n",
      "[[True, True, True, True, True], [True, True, True, True, True], [True, True, True, True, True], [True, True, True, True, True], [True, True, True, True, True]]\n",
      "[[True, True, True, True, True], [True, True, True, True, True], [True, True, True, True, True], [True, True, True, True, True], [True, True, True, True, True]]\n",
      "4 3\n"
     ]
    }
   ],
   "source": [
    "# Q. 10026\n",
    "import sys\n",
    "sys.setrecursionlimit(10 ** 6)\n",
    "n = int(input())\n",
    "img = [list(input()) for _ in range(n)]  # n*n\n",
    "\n",
    "visited_True = [[False for _ in range(n)] for _ in range(n)]  # 적록색약\n",
    "visited_False = [[False for _ in range(n)] for _ in range(n)]  # 적록색약 X\n",
    "\n",
    "def dfs(x, y, flag):\n",
    "    directions = [(-1, 0), (1, 0), (0, -1), (0, 1)]  # 위 아래 좌 우\n",
    "    \n",
    "    if flag:  # 적록색약\n",
    "        visited_True[x][y] = True\n",
    "        if img[x][y] in (\"R\", \"G\"):\n",
    "            color = (\"R\", \"G\")  \n",
    "        else:\n",
    "            color = (\"B\")\n",
    "    else:  # 적록색약 X\n",
    "        visited_False[x][y] = True\n",
    "    \n",
    "    for dx, dy in directions:\n",
    "        nx, ny = x + dx, y + dy\n",
    "        if nx < 0 or nx >= n or ny < 0  or ny >= n:  # 지도 밖으로 나가면\n",
    "            continue\n",
    "        if flag:  # 적록색약\n",
    "            if img[nx][ny] in color and not visited_True[nx][ny]:\n",
    "                dfs(nx, ny, True)\n",
    "        else:  # 적록색약 X\n",
    "            if img[nx][ny] == img[x][y] and not visited_False[nx][ny]:\n",
    "                dfs(nx, ny, False)\n",
    "\n",
    "False_result, True_result = 0, 0\n",
    "for i in range(n):\n",
    "    for j in range(n):\n",
    "        if not visited_True[i][j]:  # 적록색약\n",
    "            dfs(i, j, True)\n",
    "            # print(visited_True)\n",
    "            True_result += 1\n",
    "        if not visited_False[i][j]:  # 적록색약 X\n",
    "            dfs(i, j, False)\n",
    "            # print(visited_False)\n",
    "            False_result += 1\n",
    "\n",
    "print(False_result, True_result)\n",
    "            "
   ]
  },
  {
   "cell_type": "code",
   "execution_count": 25,
   "metadata": {},
   "outputs": [],
   "source": [
    "n = 5\n",
    "visited = [[False for _ in range(n)] for _ in range(n)]"
   ]
  },
  {
   "cell_type": "code",
   "execution_count": 26,
   "metadata": {},
   "outputs": [
    {
     "data": {
      "text/plain": [
       "[[False, False, False, False, False],\n",
       " [False, True, False, False, False],\n",
       " [False, False, False, False, False],\n",
       " [False, False, False, False, False],\n",
       " [False, False, False, False, False]]"
      ]
     },
     "execution_count": 26,
     "metadata": {},
     "output_type": "execute_result"
    }
   ],
   "source": [
    "visited[1][1] = True\n",
    "visited"
   ]
  },
  {
   "cell_type": "code",
   "execution_count": 16,
   "metadata": {},
   "outputs": [
    {
     "data": {
      "text/plain": [
       "[['R', 'R', 'R', 'B', 'B'],\n",
       " ['G', 'G', 'B', 'B', 'B'],\n",
       " ['B', 'B', 'B', 'R', 'R'],\n",
       " ['B', 'B', 'R', 'R', 'R'],\n",
       " ['R', 'R', 'R', 'R', 'R']]"
      ]
     },
     "execution_count": 16,
     "metadata": {},
     "output_type": "execute_result"
    }
   ],
   "source": [
    "img"
   ]
  },
  {
   "cell_type": "code",
   "execution_count": 20,
   "metadata": {},
   "outputs": [
    {
     "name": "stdout",
     "output_type": "stream",
     "text": [
      "0 0 R 1 1\n",
      "0 3 B 2 2\n",
      "1 0 G 3 2\n",
      "2 3 R 4 3\n"
     ]
    }
   ],
   "source": [
    "visited_True = [[False for _ in range(n)] for _ in range(n)]\n",
    "visited_False = [[False for _ in range(n)] for _ in range(n)]\n",
    "\n",
    "def dfs(x, y, flag=False):\n",
    "    directions = [(-1, 0), (1, 0), (0, -1), (0, 1)]  # 위 아래 좌 우\n",
    "    \n",
    "    if flag:  # 적록색약\n",
    "        visited_True[x][y] = True\n",
    "        if img[x][y] in (\"R\", \"G\"):\n",
    "            color = (\"R\", \"G\")\n",
    "        else:\n",
    "            color = (\"B\")\n",
    "    else:  # 적록색약 X\n",
    "        visited_False[x][y] = True\n",
    "    \n",
    "    for dx, dy in directions:\n",
    "        nx, ny = x + dx, y + dy\n",
    "        if nx < 0 or nx >= n or ny < 0  or ny >= n:  # 지도 밖으로 나가면\n",
    "            continue\n",
    "        if flag:  # 적록색약\n",
    "            if img[nx][ny] in color and not visited_True[nx][ny]:\n",
    "                dfs(nx, ny, True)\n",
    "        else:  # 적록색약 X\n",
    "            if img[nx][ny] == img[x][y] and not visited_False[nx][ny]:\n",
    "                dfs(nx, ny, False)\n",
    "\n",
    "False_result, True_result = 0, 0\n",
    "for i in range(n):\n",
    "    for j in range(n):\n",
    "        if not visited_True[i][j]:  # 적록색약\n",
    "            dfs(i, j, True)\n",
    "            True_result += 1\n",
    "        if not visited_False[i][j]:  # 적록색약 X\n",
    "            dfs(i, j, False)\n",
    "            False_result += 1\n",
    "            print(i, j, img[i][j], False_result, True_result)"
   ]
  },
  {
   "cell_type": "code",
   "execution_count": 21,
   "metadata": {},
   "outputs": [
    {
     "name": "stdout",
     "output_type": "stream",
     "text": [
      "4 3\n"
     ]
    }
   ],
   "source": [
    "print(False_result, True_result)"
   ]
  },
  {
   "cell_type": "code",
   "execution_count": 11,
   "metadata": {},
   "outputs": [
    {
     "data": {
      "text/plain": [
       "[[True, True, True, True, True],\n",
       " [True, True, True, True, True],\n",
       " [True, True, True, True, True],\n",
       " [True, True, True, True, True],\n",
       " [True, True, True, True, True]]"
      ]
     },
     "execution_count": 11,
     "metadata": {},
     "output_type": "execute_result"
    }
   ],
   "source": [
    "visited"
   ]
  },
  {
   "cell_type": "code",
   "execution_count": 13,
   "metadata": {},
   "outputs": [
    {
     "data": {
      "text/plain": [
       "[['R', 'R', 'R', 'R', 'R'],\n",
       " ['G', 'G', 'B', 'B', 'B'],\n",
       " ['B', 'B', 'B', 'R', 'R'],\n",
       " ['B', 'B', 'R', 'R', 'R'],\n",
       " ['R', 'R', 'R', 'R', 'R']]"
      ]
     },
     "execution_count": 13,
     "metadata": {},
     "output_type": "execute_result"
    }
   ],
   "source": [
    "img"
   ]
  },
  {
   "cell_type": "code",
   "execution_count": null,
   "metadata": {},
   "outputs": [],
   "source": []
  }
 ],
 "metadata": {
  "kernelspec": {
   "display_name": "Python 3",
   "language": "python",
   "name": "python3"
  },
  "language_info": {
   "codemirror_mode": {
    "name": "ipython",
    "version": 3
   },
   "file_extension": ".py",
   "mimetype": "text/x-python",
   "name": "python",
   "nbconvert_exporter": "python",
   "pygments_lexer": "ipython3",
   "version": "3.7.6"
  }
 },
 "nbformat": 4,
 "nbformat_minor": 4
}
