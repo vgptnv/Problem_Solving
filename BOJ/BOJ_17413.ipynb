{
 "cells": [
  {
   "cell_type": "code",
   "execution_count": 25,
   "metadata": {},
   "outputs": [
    {
     "name": "stdout",
     "output_type": "stream",
     "text": [
      "<ab cd>ef gh<ij kl>\n",
      "<ab cd>fe hg<ij kl>\n"
     ]
    }
   ],
   "source": [
    "# Q. 17413\n",
    "string = input()\n",
    "\n",
    "result = []\n",
    "temp = []\n",
    "reverse = True\n",
    "\n",
    "for i in range(len(string)):\n",
    "    if string[i] == \"<\":\n",
    "        reverse = False\n",
    "    elif string[i] == \">\":\n",
    "        result.append(string[i])\n",
    "        reverse = True\n",
    "        continue\n",
    "        \n",
    "    if reverse:\n",
    "        if string[i] == \" \":\n",
    "            result += temp[::-1]\n",
    "            result.append(\" \")\n",
    "            temp = []\n",
    "            continue\n",
    "        temp.append(string[i])\n",
    "        if i == len(string) - 1 or string[i+1] == \"<\":\n",
    "            result += temp[::-1]\n",
    "            temp = []  # temp 비우기\n",
    "    else:\n",
    "        result.append(string[i])\n",
    "        \n",
    "#     print(string[i], temp, result)\n",
    "\n",
    "print(''.join(result))\n",
    "\n"
   ]
  },
  {
   "cell_type": "code",
   "execution_count": 20,
   "metadata": {},
   "outputs": [
    {
     "name": "stdout",
     "output_type": "stream",
     "text": [
      "< [] ['<']\n",
      "o [] ['<', 'o']\n",
      "p [] ['<', 'o', 'p']\n",
      "e [] ['<', 'o', 'p', 'e']\n",
      "n [] ['<', 'o', 'p', 'e', 'n']\n",
      "t ['t'] ['<', 'o', 'p', 'e', 'n', '>']\n",
      "a ['t', 'a'] ['<', 'o', 'p', 'e', 'n', '>']\n",
      "g ['t', 'a', 'g'] ['<', 'o', 'p', 'e', 'n', '>', 'g', 'a', 't']\n",
      "< [] ['<', 'o', 'p', 'e', 'n', '>', 'g', 'a', 't', '<']\n",
      "c [] ['<', 'o', 'p', 'e', 'n', '>', 'g', 'a', 't', '<', 'c']\n",
      "l [] ['<', 'o', 'p', 'e', 'n', '>', 'g', 'a', 't', '<', 'c', 'l']\n",
      "o [] ['<', 'o', 'p', 'e', 'n', '>', 'g', 'a', 't', '<', 'c', 'l', 'o']\n",
      "s [] ['<', 'o', 'p', 'e', 'n', '>', 'g', 'a', 't', '<', 'c', 'l', 'o', 's']\n",
      "e [] ['<', 'o', 'p', 'e', 'n', '>', 'g', 'a', 't', '<', 'c', 'l', 'o', 's', 'e']\n",
      "<open>gat<close>\n"
     ]
    }
   ],
   "source": [
    "string = input()\n",
    "\n",
    "result = []\n",
    "temp = []\n",
    "reverse = True\n",
    "\n",
    "for i in range(len(string)):\n",
    "    if string[i] == \"<\":\n",
    "        reverse = False\n",
    "        temp = []  # temp 비우기\n",
    "    elif string[i] == \">\":\n",
    "        result.append(string[i])\n",
    "        reverse = True\n",
    "        continue\n",
    "        \n",
    "    if reverse:\n",
    "        temp.append(string[i])\n",
    "        if i == len(string) - 1 or string[i+1] == \"<\":\n",
    "            result += temp[::-1]\n",
    "    else:\n",
    "        result.append(string[i])\n",
    "        \n",
    "    print(string[i], temp, result)\n",
    "\n",
    "print(''.join(result))"
   ]
  },
  {
   "cell_type": "code",
   "execution_count": 9,
   "metadata": {},
   "outputs": [
    {
     "data": {
      "text/plain": [
       "['e',\n",
       " 'g',\n",
       " 'd',\n",
       " 'u',\n",
       " 'j',\n",
       " ' ',\n",
       " 'e',\n",
       " 'n',\n",
       " 'i',\n",
       " 'l',\n",
       " 'n',\n",
       " 'o',\n",
       " ' ',\n",
       " 'n',\n",
       " 'o',\n",
       " 'o',\n",
       " 'j',\n",
       " 'k',\n",
       " 'e',\n",
       " 'a',\n",
       " 'b']"
      ]
     },
     "execution_count": 9,
     "metadata": {},
     "output_type": "execute_result"
    }
   ],
   "source": [
    "result"
   ]
  },
  {
   "cell_type": "code",
   "execution_count": 6,
   "metadata": {},
   "outputs": [
    {
     "data": {
      "text/plain": [
       "['e',\n",
       " 'g',\n",
       " 'd',\n",
       " 'u',\n",
       " 'j',\n",
       " ' ',\n",
       " 'e',\n",
       " 'n',\n",
       " 'i',\n",
       " 'l',\n",
       " 'n',\n",
       " 'o',\n",
       " ' ',\n",
       " 'n',\n",
       " 'o',\n",
       " 'o',\n",
       " 'j',\n",
       " 'k',\n",
       " 'e',\n",
       " 'a',\n",
       " 'b']"
      ]
     },
     "execution_count": 6,
     "metadata": {},
     "output_type": "execute_result"
    }
   ],
   "source": [
    "temp[::-1]"
   ]
  },
  {
   "cell_type": "code",
   "execution_count": null,
   "metadata": {},
   "outputs": [],
   "source": []
  }
 ],
 "metadata": {
  "kernelspec": {
   "display_name": "Python 3",
   "language": "python",
   "name": "python3"
  },
  "language_info": {
   "codemirror_mode": {
    "name": "ipython",
    "version": 3
   },
   "file_extension": ".py",
   "mimetype": "text/x-python",
   "name": "python",
   "nbconvert_exporter": "python",
   "pygments_lexer": "ipython3",
   "version": "3.7.6"
  }
 },
 "nbformat": 4,
 "nbformat_minor": 4
}
