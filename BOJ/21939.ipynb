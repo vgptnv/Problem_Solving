{
 "cells": [
  {
   "cell_type": "code",
   "execution_count": 7,
   "metadata": {},
   "outputs": [
    {
     "ename": "ValueError",
     "evalue": "not enough values to unpack (expected 2, got 0)",
     "output_type": "error",
     "traceback": [
      "\u001b[1;31m---------------------------------------------------------------------------\u001b[0m",
      "\u001b[1;31mValueError\u001b[0m                                Traceback (most recent call last)",
      "\u001b[1;32m<ipython-input-7-692a96154ea8>\u001b[0m in \u001b[0;36m<module>\u001b[1;34m\u001b[0m\n\u001b[0;32m      7\u001b[0m \u001b[1;33m\u001b[0m\u001b[0m\n\u001b[0;32m      8\u001b[0m \u001b[1;32mfor\u001b[0m \u001b[0m_\u001b[0m \u001b[1;32min\u001b[0m \u001b[0mrange\u001b[0m\u001b[1;33m(\u001b[0m\u001b[0mn\u001b[0m\u001b[1;33m)\u001b[0m\u001b[1;33m:\u001b[0m\u001b[1;33m\u001b[0m\u001b[1;33m\u001b[0m\u001b[0m\n\u001b[1;32m----> 9\u001b[1;33m     \u001b[0mP\u001b[0m\u001b[1;33m,\u001b[0m \u001b[0mL\u001b[0m \u001b[1;33m=\u001b[0m \u001b[0mmap\u001b[0m\u001b[1;33m(\u001b[0m\u001b[0mint\u001b[0m\u001b[1;33m,\u001b[0m \u001b[0minput\u001b[0m\u001b[1;33m(\u001b[0m\u001b[1;33m)\u001b[0m\u001b[1;33m.\u001b[0m\u001b[0msplit\u001b[0m\u001b[1;33m(\u001b[0m\u001b[1;33m)\u001b[0m\u001b[1;33m)\u001b[0m\u001b[1;33m\u001b[0m\u001b[1;33m\u001b[0m\u001b[0m\n\u001b[0m\u001b[0;32m     10\u001b[0m     \u001b[0mproblems\u001b[0m\u001b[1;33m.\u001b[0m\u001b[0mappend\u001b[0m\u001b[1;33m(\u001b[0m\u001b[1;33m(\u001b[0m\u001b[0mP\u001b[0m\u001b[1;33m,\u001b[0m \u001b[0mL\u001b[0m\u001b[1;33m)\u001b[0m\u001b[1;33m)\u001b[0m\u001b[1;33m\u001b[0m\u001b[1;33m\u001b[0m\u001b[0m\n\u001b[0;32m     11\u001b[0m     \u001b[0min_list\u001b[0m\u001b[1;33m[\u001b[0m\u001b[0mP\u001b[0m\u001b[1;33m]\u001b[0m \u001b[1;33m=\u001b[0m \u001b[1;32mTrue\u001b[0m\u001b[1;33m\u001b[0m\u001b[1;33m\u001b[0m\u001b[0m\n",
      "\u001b[1;31mValueError\u001b[0m: not enough values to unpack (expected 2, got 0)"
     ]
    }
   ],
   "source": [
    "# Q. 21939\n",
    "from collections import defaultdict\n",
    "n = int(input())\n",
    "\n",
    "problems = []\n",
    "in_list = defaultdict(bool)\n",
    "\n",
    "for _ in range(n):\n",
    "    P, L = map(int, input().split())\n",
    "    problems.append((P, L))\n",
    "    in_list[P] = True\n",
    "    \n",
    "m = int(input())\n",
    "\n",
    "for _ in range(m):\n",
    "    inp = input().split()\n",
    "    \n",
    "    problems.sort(key=lambda x: (x[1], x[0]))  # 가장 마지막이 가장 어려운, 문제 번호가 큰 문제\n",
    "    print('problems: ', problems)\n",
    "    \n",
    "    if inp[0] == 'add':\n",
    "        problems.append((int(inp[1]), int(inp[2])))\n",
    "        \n",
    "    elif inp[0] == 'recommend':\n",
    "        if int(inp[1]) == 1:\n",
    "            print(problems.pop()[0])\n",
    "        elif int(inp[1]) == -1:\n",
    "            print(problems.pop(0)[0])\n",
    "    else:  # solved\n",
    "        in_list[int(inp[1])] = False\n",
    "        "
   ]
  },
  {
   "cell_type": "code",
   "execution_count": 2,
   "metadata": {},
   "outputs": [
    {
     "data": {
      "text/plain": [
       "[(1000, 1), (1001, 2), (19998, 78), (2667, 37), (2042, 55)]"
      ]
     },
     "execution_count": 2,
     "metadata": {},
     "output_type": "execute_result"
    }
   ],
   "source": [
    "problems.sort()"
   ]
  },
  {
   "cell_type": "code",
   "execution_count": 6,
   "metadata": {},
   "outputs": [
    {
     "data": {
      "text/plain": [
       "[(1001, 2)]"
      ]
     },
     "execution_count": 6,
     "metadata": {},
     "output_type": "execute_result"
    }
   ],
   "source": []
  },
  {
   "cell_type": "code",
   "execution_count": 4,
   "metadata": {},
   "outputs": [
    {
     "data": {
      "text/plain": [
       "[(2667, 37), (2042, 55)]"
      ]
     },
     "execution_count": 4,
     "metadata": {},
     "output_type": "execute_result"
    }
   ],
   "source": [
    "problems"
   ]
  },
  {
   "cell_type": "code",
   "execution_count": 5,
   "metadata": {},
   "outputs": [
    {
     "data": {
      "text/plain": [
       "[(2667, 37), (2042, 55)]"
      ]
     },
     "execution_count": 5,
     "metadata": {},
     "output_type": "execute_result"
    }
   ],
   "source": [
    "problems.sort(key=lambda x: (x[1], x[0]))\n",
    "problems"
   ]
  },
  {
   "cell_type": "code",
   "execution_count": null,
   "metadata": {},
   "outputs": [],
   "source": [
    "# # Q. 21939\n",
    "# import sys\n",
    "# input = sys.stdin.readline\n",
    "# from heapq import heappop, heappush\n",
    "# from collections import defaultdict\n",
    "\n",
    "# n = int(input())\n",
    "# min_heap = []\n",
    "# max_heap = []\n",
    "# in_list = defaultdict(bool)\n",
    "\n",
    "# problems = []\n",
    "\n",
    "# for _ in range(n):\n",
    "#     P, L = map(int, input().split())\n",
    "#     heappush(min_heap, [L, P])\n",
    "#     heappush(max_heap, [-L, -P])\n",
    "    \n",
    "#     problems.append((P, L))\n",
    "    \n",
    "# m = int(input())\n",
    "\n",
    "# for _ in range(m):\n",
    "#     command = input().split()\n",
    "    \n",
    "#     problems.sort(by=lambda x: (x[1], ))\n",
    "    \n",
    "#     if command[0] == 'add':\n",
    "#         P, L = int(command[1]), int(command[2])\n",
    "        \n",
    "        \n",
    "#     elif command[0] == 'recommend':\n",
    "        \n",
    "#     else:  # solved\n",
    "#         problems.remove\n"
   ]
  }
 ],
 "metadata": {
  "interpreter": {
   "hash": "842d2169f82d7db1dfac7d91753e529f60f575232793c66531d2d283e0c0fc6d"
  },
  "kernelspec": {
   "display_name": "Python 3.9.4 ('py39': conda)",
   "language": "python",
   "name": "python3"
  },
  "language_info": {
   "codemirror_mode": {
    "name": "ipython",
    "version": 3
   },
   "file_extension": ".py",
   "mimetype": "text/x-python",
   "name": "python",
   "nbconvert_exporter": "python",
   "pygments_lexer": "ipython3",
   "version": "3.9.4"
  },
  "orig_nbformat": 4
 },
 "nbformat": 4,
 "nbformat_minor": 2
}
