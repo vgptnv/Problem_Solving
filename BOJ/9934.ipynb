{
 "cells": [
  {
   "cell_type": "code",
   "execution_count": null,
   "metadata": {},
   "outputs": [],
   "source": [
    "# Q.9934\n",
    "\n",
    "def make_tree(start, end, depth):\n",
    "    \n",
    "k = int(input())\n",
    "lst = list(map(int, input().split()))\n",
    "tree = [[] for _in range(k)]\n"
   ]
  }
 ],
 "metadata": {
  "language_info": {
   "name": "python"
  },
  "orig_nbformat": 4
 },
 "nbformat": 4,
 "nbformat_minor": 2
}
