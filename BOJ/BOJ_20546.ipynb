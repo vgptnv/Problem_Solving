{
 "cells": [
  {
   "cell_type": "code",
   "execution_count": 33,
   "metadata": {},
   "outputs": [
    {
     "name": "stdout",
     "output_type": "stream",
     "text": [
      "15\n",
      "20 20 33 98 15 6 4 1 1 1 2 3 6 14\n",
      "(0, 15) (0, 15)\n",
      "(0, 15) (0, 15)\n",
      "(0, 15) (0, 15)\n",
      "(0, 15) (0, 15)\n",
      "(1, 0) (0, 15)\n",
      "(1, 0) (0, 15)\n",
      "(1, 0) (3, 3)\n",
      "(1, 0) (6, 0)\n",
      "(1, 0) (6, 0)\n",
      "(1, 0) (6, 0)\n",
      "(1, 0) (6, 0)\n",
      "(1, 0) (6, 0)\n",
      "(1, 0) (0, 36)\n",
      "(1, 0) (0, 36)\n",
      "14 36\n"
     ]
    }
   ],
   "source": [
    "# 20546\n",
    "money = int(input())\n",
    "stock_value = list(map(int, input().split()))\n",
    "\n",
    "j_money, s_money = money, money\n",
    "j_stock, s_stock = 0, 0\n",
    "\n",
    "for i in range(len(stock_value)):\n",
    "    if j_money >= stock_value[i]:\n",
    "        j_stock += j_money // stock_value[i]\n",
    "        j_money = j_money % stock_value[i]\n",
    "    \n",
    "    if i >= 3:\n",
    "        if stock_value[i-3:i+1] == sorted(stock_value[i-3:i+1],reverse=False) and len(set(stock_value[i-3:i+1])) == 4:  # 3일 연속 상승주\n",
    "            s_money += s_stock * stock_value[i]\n",
    "            s_stock = 0\n",
    "        elif stock_value[i-3:i+1] == sorted(stock_value[i-3:i+1],reverse=True) and len(set(stock_value[i-3:i+1])) == 4:  # 3일 연속 하락주\n",
    "            s_stock += s_money // stock_value[i]\n",
    "            s_money = s_money % stock_value[i]\n",
    "#     print((j_stock, j_money), (s_stock, s_money))\n",
    "\n",
    "j_asset = j_money + j_stock * stock_value[-1]\n",
    "s_asset = s_money + s_stock * stock_value[-1]\n",
    "        \n",
    "if j_asset > s_asset:\n",
    "    print(\"BNP\")\n",
    "elif j_asset < s_asset:\n",
    "    print(\"TIMING\")\n",
    "else:\n",
    "    print(\"SAMESAME\")"
   ]
  },
  {
   "cell_type": "code",
   "execution_count": 4,
   "metadata": {},
   "outputs": [],
   "source": [
    "stock = \"10 20 23 34 55 30 22 19 12 45 23 44 34 38\".split()\n",
    "stock = list(map(int, stock))"
   ]
  },
  {
   "cell_type": "code",
   "execution_count": 14,
   "metadata": {},
   "outputs": [
    {
     "data": {
      "text/plain": [
       "True"
      ]
     },
     "execution_count": 14,
     "metadata": {},
     "output_type": "execute_result"
    }
   ],
   "source": [
    "i = 3  # 4일\n",
    "sorted(stock[i-3:i+1]) == stock[i-3:i+1] and len(set(stock[i-3:i+1])) == 4\n",
    "# [10, 11, 20, 30]"
   ]
  },
  {
   "cell_type": "code",
   "execution_count": 3,
   "metadata": {},
   "outputs": [
    {
     "data": {
      "text/plain": [
       "14"
      ]
     },
     "execution_count": 3,
     "metadata": {},
     "output_type": "execute_result"
    }
   ],
   "source": [
    "len(stock)"
   ]
  },
  {
   "cell_type": "code",
   "execution_count": 4,
   "metadata": {},
   "outputs": [
    {
     "data": {
      "text/plain": [
       "10"
      ]
     },
     "execution_count": 4,
     "metadata": {},
     "output_type": "execute_result"
    }
   ],
   "source": [
    "100 // 10"
   ]
  },
  {
   "cell_type": "code",
   "execution_count": 26,
   "metadata": {},
   "outputs": [
    {
     "data": {
      "text/plain": [
       "3"
      ]
     },
     "execution_count": 26,
     "metadata": {},
     "output_type": "execute_result"
    }
   ],
   "source": [
    "i = 5\n",
    "sorted(stock[i-2:i+1],reverse=False) == stock[i-2:i+1]\n",
    "len(set(stock[i-2:i+1]))"
   ]
  },
  {
   "cell_type": "code",
   "execution_count": null,
   "metadata": {},
   "outputs": [],
   "source": []
  }
 ],
 "metadata": {
  "kernelspec": {
   "display_name": "Python 3",
   "language": "python",
   "name": "python3"
  },
  "language_info": {
   "codemirror_mode": {
    "name": "ipython",
    "version": 3
   },
   "file_extension": ".py",
   "mimetype": "text/x-python",
   "name": "python",
   "nbconvert_exporter": "python",
   "pygments_lexer": "ipython3",
   "version": "3.7.6"
  }
 },
 "nbformat": 4,
 "nbformat_minor": 4
}
