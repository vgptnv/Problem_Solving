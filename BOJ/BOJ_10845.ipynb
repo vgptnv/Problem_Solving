{
 "cells": [
  {
   "cell_type": "code",
   "execution_count": 2,
   "metadata": {},
   "outputs": [
    {
     "name": "stdout",
     "output_type": "stream",
     "text": [
      "15\n",
      "push 1\n",
      "push 2\n",
      "front\n"
     ]
    },
    {
     "ename": "TypeError",
     "evalue": "'Queue' object is not subscriptable",
     "output_type": "error",
     "traceback": [
      "\u001b[1;31m---------------------------------------------------------------------------\u001b[0m",
      "\u001b[1;31mTypeError\u001b[0m                                 Traceback (most recent call last)",
      "\u001b[1;32m<ipython-input-2-15b352128213>\u001b[0m in \u001b[0;36m<module>\u001b[1;34m\u001b[0m\n\u001b[0;32m     22\u001b[0m     \u001b[1;32melif\u001b[0m \u001b[0mcommand\u001b[0m \u001b[1;33m==\u001b[0m \u001b[1;34m\"front\"\u001b[0m\u001b[1;33m:\u001b[0m\u001b[1;33m\u001b[0m\u001b[1;33m\u001b[0m\u001b[0m\n\u001b[0;32m     23\u001b[0m         \u001b[1;32mif\u001b[0m \u001b[0mqueue\u001b[0m\u001b[1;33m.\u001b[0m\u001b[0mqsize\u001b[0m\u001b[1;33m(\u001b[0m\u001b[1;33m)\u001b[0m \u001b[1;33m!=\u001b[0m \u001b[1;36m0\u001b[0m\u001b[1;33m:\u001b[0m\u001b[1;33m\u001b[0m\u001b[1;33m\u001b[0m\u001b[0m\n\u001b[1;32m---> 24\u001b[1;33m             \u001b[0mprint\u001b[0m\u001b[1;33m(\u001b[0m\u001b[0mqueue\u001b[0m\u001b[1;33m[\u001b[0m\u001b[1;36m0\u001b[0m\u001b[1;33m]\u001b[0m\u001b[1;33m)\u001b[0m\u001b[1;33m\u001b[0m\u001b[1;33m\u001b[0m\u001b[0m\n\u001b[0m\u001b[0;32m     25\u001b[0m         \u001b[1;32melse\u001b[0m\u001b[1;33m:\u001b[0m\u001b[1;33m\u001b[0m\u001b[1;33m\u001b[0m\u001b[0m\n\u001b[0;32m     26\u001b[0m             \u001b[0mprint\u001b[0m\u001b[1;33m(\u001b[0m\u001b[1;33m-\u001b[0m\u001b[1;36m1\u001b[0m\u001b[1;33m)\u001b[0m\u001b[1;33m\u001b[0m\u001b[1;33m\u001b[0m\u001b[0m\n",
      "\u001b[1;31mTypeError\u001b[0m: 'Queue' object is not subscriptable"
     ]
    }
   ],
   "source": [
    "# 10845. 큐\n",
    "import queue\n",
    "n = int(input())\n",
    "\n",
    "queue = queue.Queue()\n",
    "\n",
    "for _ in range(n):\n",
    "    enter = input().split()\n",
    "    command = enter[0]\n",
    "    \n",
    "    if command == \"push\":\n",
    "        queue.put(int(enter[1]))\n",
    "    elif command == \"pop\":\n",
    "        if queue.qsize() != 0:\n",
    "            print(queue.get())\n",
    "        else:\n",
    "            print(-1)\n",
    "    elif command == \"size\":\n",
    "        print(queue.qsize())\n",
    "    elif command == \"empty\":\n",
    "        print(queue.empty())\n",
    "    elif command == \"front\":\n",
    "        if queue.qsize() != 0:\n",
    "            print(queue[0])\n",
    "        else:\n",
    "            print(-1)\n",
    "    elif command == \"back\":\n",
    "        if queue.qsize() != 0:\n",
    "            print(queue[-1])\n",
    "        else:\n",
    "            print(-1)"
   ]
  },
  {
   "cell_type": "code",
   "execution_count": 4,
   "metadata": {},
   "outputs": [
    {
     "name": "stdout",
     "output_type": "stream",
     "text": [
      "5\n",
      "push 1\n",
      "push 2\n",
      "pop\n",
      "1\n",
      "pop\n",
      "2\n",
      "pop\n",
      "-1\n"
     ]
    }
   ],
   "source": [
    "# 10845. 큐\n",
    "import sys\n",
    "n = int(sys.stdin.readline())\n",
    "\n",
    "queue = []\n",
    "\n",
    "def push(x):\n",
    "    queue.append(x)\n",
    "    \n",
    "def pop():\n",
    "    if len(queue) > 0:\n",
    "        temp = queue[0]\n",
    "        del queue[0]\n",
    "        return temp\n",
    "    else:\n",
    "        return -1\n",
    "\n",
    "def size():\n",
    "    return len(queue)\n",
    "\n",
    "def empty():\n",
    "    if len(queue) == 0:\n",
    "        return 1\n",
    "    else:\n",
    "        return 0\n",
    "    \n",
    "def front():\n",
    "    if len(queue) != 0:\n",
    "        return queue[0]\n",
    "    else:\n",
    "        return -1\n",
    "\n",
    "def back():\n",
    "    if len(queue) != 0:\n",
    "        return queue[-1]\n",
    "    else:\n",
    "        return -1\n",
    "\n",
    "for _ in range(n):\n",
    "    enter = sys.stdin.readline().split()\n",
    "    command = enter[0]\n",
    "    \n",
    "    if command == \"push\":\n",
    "        push(enter[1])\n",
    "    elif command == \"pop\":\n",
    "        print(pop())\n",
    "    elif command == \"size\":\n",
    "        print(size())\n",
    "    elif command == \"empty\":\n",
    "        print(empty())\n",
    "    elif command == \"front\":\n",
    "        print(front())\n",
    "    elif command == \"back\":\n",
    "        print(back())"
   ]
  },
  {
   "cell_type": "code",
   "execution_count": null,
   "metadata": {},
   "outputs": [],
   "source": []
  }
 ],
 "metadata": {
  "kernelspec": {
   "display_name": "Python 3",
   "language": "python",
   "name": "python3"
  },
  "language_info": {
   "codemirror_mode": {
    "name": "ipython",
    "version": 3
   },
   "file_extension": ".py",
   "mimetype": "text/x-python",
   "name": "python",
   "nbconvert_exporter": "python",
   "pygments_lexer": "ipython3",
   "version": "3.7.6"
  }
 },
 "nbformat": 4,
 "nbformat_minor": 4
}
