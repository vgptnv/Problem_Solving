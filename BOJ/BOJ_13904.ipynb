{
 "cells": [
  {
   "cell_type": "code",
   "execution_count": 1,
   "metadata": {},
   "outputs": [
    {
     "name": "stdout",
     "output_type": "stream",
     "text": [
      "7\n",
      "4 60\n",
      "4 40\n",
      "1 20\n",
      "2 50\n",
      "3 30\n",
      "4 10\n",
      "6 5\n",
      "185\n"
     ]
    }
   ],
   "source": [
    "# Q. 13904\n",
    "n = int(input())\n",
    "works = {}\n",
    "for _ in range(n):\n",
    "    d, w = map(int, input().split())\n",
    "    if d not in works:\n",
    "        works[d] = [w]\n",
    "    else:\n",
    "        works[d].append(w)\n",
    "\n",
    "max_day = max(works)\n",
    "done_work = []\n",
    "for day in range(max_day-1, 0, -1):\n",
    "    possible_works = [ (work, d) for d in works for work in works[d] if d >= day ]\n",
    "    possible_works.sort(key=lambda x: (-x[0], x[1]))\n",
    "    doing_work, doing_work_due = possible_works[0]\n",
    "    done_work.append(possible_works[0][0])\n",
    "    works[doing_work_due].remove(doing_work)\n",
    "\n",
    "print(sum(done_work))"
   ]
  },
  {
   "cell_type": "code",
   "execution_count": 2,
   "metadata": {},
   "outputs": [],
   "source": [
    "works = {1: [20],\n",
    "        2: [50],\n",
    "        3: [30],\n",
    "        4: [10, 40, 60],\n",
    "        6: [5]}"
   ]
  },
  {
   "cell_type": "code",
   "execution_count": 4,
   "metadata": {},
   "outputs": [
    {
     "name": "stdout",
     "output_type": "stream",
     "text": [
      "[(5, 6)]\n",
      "{1: [20], 2: [50], 3: [30], 4: [10, 40, 60], 6: []}\n",
      "[5]\n",
      "[(60, 4), (40, 4), (10, 4)]\n",
      "{1: [20], 2: [50], 3: [30], 4: [10, 40], 6: []}\n",
      "[5, 60]\n",
      "[(40, 4), (30, 3), (10, 4)]\n",
      "{1: [20], 2: [50], 3: [30], 4: [10], 6: []}\n",
      "[5, 60, 40]\n",
      "[(50, 2), (30, 3), (10, 4)]\n",
      "{1: [20], 2: [], 3: [30], 4: [10], 6: []}\n",
      "[5, 60, 40, 50]\n",
      "[(30, 3), (20, 1), (10, 4)]\n",
      "{1: [20], 2: [], 3: [], 4: [10], 6: []}\n",
      "[5, 60, 40, 50, 30]\n"
     ]
    }
   ],
   "source": [
    "for day in range(5, 0, -1):\n",
    "    possible_works = [ (work, d) for d in works for work in works[d] if d >= day ]\n",
    "    possible_works.sort(key=lambda x: (-x[0], x[1]))\n",
    "    print(possible_works)\n",
    "    doing_work, doing_work_due = possible_works[0]\n",
    "    done_work.append(possible_works[0][0])\n",
    "    works[doing_work_due].remove(doing_work)\n",
    "    print(works)\n",
    "    print(done_work)"
   ]
  },
  {
   "cell_type": "code",
   "execution_count": 3,
   "metadata": {},
   "outputs": [],
   "source": [
    "done_work = []"
   ]
  },
  {
   "cell_type": "code",
   "execution_count": 65,
   "metadata": {},
   "outputs": [
    {
     "data": {
      "text/plain": [
       "[(40, 4), (50, 2), (60, 4)]"
      ]
     },
     "execution_count": 65,
     "metadata": {},
     "output_type": "execute_result"
    }
   ],
   "source": [
    "possible_works"
   ]
  },
  {
   "cell_type": "code",
   "execution_count": 73,
   "metadata": {},
   "outputs": [
    {
     "data": {
      "text/plain": [
       "{1: [20], 2: [50], 3: [], 4: [60], 6: []}"
      ]
     },
     "execution_count": 73,
     "metadata": {},
     "output_type": "execute_result"
    }
   ],
   "source": [
    "works"
   ]
  },
  {
   "cell_type": "code",
   "execution_count": 86,
   "metadata": {},
   "outputs": [],
   "source": [
    "a = [(10, 4), (40, 4), (60, 4)]"
   ]
  },
  {
   "cell_type": "code",
   "execution_count": null,
   "metadata": {},
   "outputs": [],
   "source": []
  }
 ],
 "metadata": {
  "kernelspec": {
   "display_name": "Python 3",
   "language": "python",
   "name": "python3"
  },
  "language_info": {
   "codemirror_mode": {
    "name": "ipython",
    "version": 3
   },
   "file_extension": ".py",
   "mimetype": "text/x-python",
   "name": "python",
   "nbconvert_exporter": "python",
   "pygments_lexer": "ipython3",
   "version": "3.7.6"
  }
 },
 "nbformat": 4,
 "nbformat_minor": 4
}
