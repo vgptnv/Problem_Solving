{
 "cells": [
  {
   "cell_type": "code",
   "execution_count": 14,
   "metadata": {},
   "outputs": [
    {
     "name": "stdout",
     "output_type": "stream",
     "text": [
      "4\n"
     ]
    }
   ],
   "source": [
    "# Q. 1987\n",
    "r, c = map(int, input().split())\n",
    "board = [list(input()) for _ in range(r)]\n",
    "visited = [[False for _ in range(c)] for _ in range(r)]\n",
    "visited_alp = []\n",
    "\n",
    "def dfs(x, y):\n",
    "    directions = [(-1, 0), (1, 0), (0, -1), (0, 1)]  # 위 아래 좌 우\n",
    "\n",
    "    visited[x][y] = True\n",
    "    visited_alp.append(board[x][y])\n",
    "    \n",
    "    for dx, dy in directions:\n",
    "        nx, ny = x + dx, y + dy\n",
    "        if nx < 0 or nx >= r or ny < 0  or ny >= c:  # 지도 밖으로 나가면\n",
    "            continue\n",
    "        if board[nx][ny] not in visited_alp and not visited[nx][ny]:\n",
    "            dfs(nx, ny)\n",
    "\n",
    "    return \n",
    "\n",
    "dfs(0, 0)\n",
    "print(len(visited_alp))\n",
    "    "
   ]
  },
  {
   "cell_type": "code",
   "execution_count": 24,
   "metadata": {},
   "outputs": [
    {
     "data": {
      "text/plain": [
       "['B']"
      ]
     },
     "execution_count": 24,
     "metadata": {},
     "output_type": "execute_result"
    }
   ],
   "source": [
    "lst = [\"A\", \"B\"]\n",
    "lst.remove(\"A\")\n",
    "lst"
   ]
  },
  {
   "cell_type": "code",
   "execution_count": 4,
   "metadata": {},
   "outputs": [
    {
     "name": "stdout",
     "output_type": "stream",
     "text": [
      "['H', 'F', 'D'] 3\n",
      "['H', 'F', 'J', 'G', 'A'] 5\n",
      "['H', 'F', 'J', 'G', 'D', 'A'] 6\n",
      "['H', 'F', 'J', 'G', 'D'] 6\n",
      "['H', 'F', 'J', 'G'] 6\n",
      "['H', 'F', 'J', 'A', 'D', 'G'] 6\n",
      "['H', 'F', 'J', 'A', 'D'] 6\n",
      "['H', 'F', 'J', 'A'] 6\n",
      "['H', 'F', 'J'] 6\n",
      "['H', 'F'] 6\n",
      "['H', 'A', 'J', 'F', 'D'] 6\n",
      "['H', 'A', 'J', 'F'] 6\n",
      "['H', 'A', 'J', 'G', 'D'] 6\n",
      "['H', 'A', 'J', 'G'] 6\n",
      "['H', 'A', 'J'] 6\n",
      "['H', 'A', 'D', 'G', 'J', 'F'] 6\n",
      "['H', 'A', 'D', 'G', 'J'] 6\n",
      "['H', 'A', 'D', 'G'] 6\n",
      "['H', 'A', 'D'] 6\n",
      "['H', 'A'] 6\n",
      "6\n"
     ]
    }
   ],
   "source": [
    "import sys\n",
    "# input = sys.stdin.readline\n",
    "\n",
    "n, m = map(int, input().split())\n",
    "graph = [list(input()) for _ in range(n)]\n",
    "# visited = [False]*26  # 대문자 A-Z까지! -> 이전에 방문했던 알파벳인지를 체크하는 리스트 \n",
    "visited_alp = []\n",
    "\n",
    "# 상하좌우\n",
    "dx = [-1, 0, 1, 0]\n",
    "dy = [0, 1, 0, -1]\n",
    "\n",
    "result = 0  # 최대 칸 구하는 변수\n",
    "def dfs(g, v, x, y, c):\n",
    "  global result\n",
    "  result = max(c, result)\n",
    "\n",
    "  for i in range(4):\n",
    "    nx = x + dx[i]\n",
    "    ny = y + dy[i]\n",
    "    if 0<=nx<n and 0<=ny<m and not g[nx][ny] in v:  # 가도 되는 칸이면\n",
    "      v.append(g[nx][ny])\n",
    "      dfs(g, v, nx, ny, c+1)\n",
    "      print(v, result)\n",
    "      v.remove(g[nx][ny])  # 백트래킹\n",
    "  return True\n",
    "\n",
    "visited_alp.append(graph[0][0])\n",
    "dfs(graph, visited_alp, 0, 0, 1)  # 시작점 포함해서 c=1로 시작\n",
    "print(result)\n"
   ]
  },
  {
   "cell_type": "code",
   "execution_count": null,
   "metadata": {},
   "outputs": [],
   "source": []
  }
 ],
 "metadata": {
  "interpreter": {
   "hash": "842d2169f82d7db1dfac7d91753e529f60f575232793c66531d2d283e0c0fc6d"
  },
  "kernelspec": {
   "display_name": "Python 3.9.4 64-bit ('py39': conda)",
   "name": "python3"
  },
  "language_info": {
   "codemirror_mode": {
    "name": "ipython",
    "version": 3
   },
   "file_extension": ".py",
   "mimetype": "text/x-python",
   "name": "python",
   "nbconvert_exporter": "python",
   "pygments_lexer": "ipython3",
   "version": "3.9.4"
  },
  "orig_nbformat": 4
 },
 "nbformat": 4,
 "nbformat_minor": 2
}
