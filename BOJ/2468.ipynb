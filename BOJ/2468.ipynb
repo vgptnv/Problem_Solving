{
 "cells": [
  {
   "cell_type": "code",
   "execution_count": null,
   "metadata": {},
   "outputs": [],
   "source": [
    "# Q. 2468\n",
    "n = int(input())\n",
    "area = [map(int, input().split()) for _ in range(n)]"
   ]
  },
  {
   "cell_type": "code",
   "execution_count": null,
   "metadata": {},
   "outputs": [],
   "source": [
    "from sys import setrecursionlimit\n",
    "setrecursionlimit(10000)\n",
    "n = int(input())\n",
    "\n",
    "grid = []\n",
    "cnt = 0  # 개수 \n",
    "visited = [[False for i in range(n)] for i in range(n)]  # 방문 여부\n",
    "for _ in range(n):\n",
    "    grid.append(list(map(int, input().split())))  # grid input (2차원 배열)\n",
    "\n",
    "\n",
    "\n",
    "def is_valid(x,y):  # grid 밖으로 넘어가는지 확인!\n",
    "    if x >= 0 and x < n and y < n and y >= 0:\n",
    "        return True\n",
    "    return False\n",
    "\n",
    "def dfs(x,y):\n",
    "    if not is_valid(x,y):\n",
    "        return False\n",
    "    if visited[x][y] == False and grid[x][y] != 0: # 전에 방문하지 않았고! + 안 잠기고 살아남았는지 확인 \n",
    "        visited[x][y] = True\n",
    "        dfs(x+1,y)\n",
    "        dfs(x-1,y)\n",
    "        dfs(x,y+1)\n",
    "        dfs(x,y-1)\n",
    "        return True\n",
    "    return False\n",
    "\n",
    "\n",
    "def rain(depth):\n",
    "    global visited\n",
    "    visited = [[False for i in range(n)] for i in range(n)]  # 초기화!\n",
    "    for x in range(n):\n",
    "        for y in range(n):\n",
    "            if grid[x][y] <= depth:  # 지점 높이 <= depth가 비의 높이 -> 잠길 것 \n",
    "                grid[x][y] = 0  # 잠긴 지점을 0으로 바꾸기 \n",
    "\n",
    "min_depth = min(min(grid))  # 가장 낮은 높이\n",
    "max_depth = max(max(grid))  # 가장 높은 높이\n",
    "depth = min_depth\n",
    "answers = [1]  # [depth 0일 때 영역 개수, depth 2일 때 영역 개수, depth 3일 때 영역 개수, ... ,max depth일 때 영역 개수]\n",
    " \n",
    "while (depth <= max_depth):\n",
    "    rain(depth) \n",
    "    cnt = 0  # 영역 개수 세는 변수\n",
    "    for x in range(n):\n",
    "        for y in range(n):\n",
    "            if dfs(x,y):\n",
    "                cnt += 1\n",
    "\n",
    "    answers.append(cnt)\n",
    "    depth += 1\n",
    "\n",
    "print(max(answers))\n"
   ]
  },
  {
   "cell_type": "code",
   "execution_count": 8,
   "metadata": {},
   "outputs": [],
   "source": [
    "lst = [[1, 2, 3], [4, 0, 5]]"
   ]
  },
  {
   "cell_type": "code",
   "execution_count": 9,
   "metadata": {},
   "outputs": [
    {
     "data": {
      "text/plain": [
       "[4, 0, 5]"
      ]
     },
     "execution_count": 9,
     "metadata": {},
     "output_type": "execute_result"
    }
   ],
   "source": [
    "max(lst)"
   ]
  },
  {
   "cell_type": "code",
   "execution_count": 11,
   "metadata": {},
   "outputs": [
    {
     "data": {
      "text/plain": [
       "[1, 2, 3]"
      ]
     },
     "execution_count": 11,
     "metadata": {},
     "output_type": "execute_result"
    }
   ],
   "source": [
    "min([1, 2, 3], [4, 0, 6])"
   ]
  },
  {
   "cell_type": "code",
   "execution_count": null,
   "metadata": {},
   "outputs": [],
   "source": []
  }
 ],
 "metadata": {
  "interpreter": {
   "hash": "842d2169f82d7db1dfac7d91753e529f60f575232793c66531d2d283e0c0fc6d"
  },
  "kernelspec": {
   "display_name": "Python 3.9.4 64-bit ('py39': conda)",
   "name": "python3"
  },
  "language_info": {
   "codemirror_mode": {
    "name": "ipython",
    "version": 3
   },
   "file_extension": ".py",
   "mimetype": "text/x-python",
   "name": "python",
   "nbconvert_exporter": "python",
   "pygments_lexer": "ipython3",
   "version": "3.9.4"
  }
 },
 "nbformat": 4,
 "nbformat_minor": 4
}
