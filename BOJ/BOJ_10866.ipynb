{
 "cells": [
  {
   "cell_type": "code",
   "execution_count": 14,
   "metadata": {},
   "outputs": [
    {
     "name": "stdout",
     "output_type": "stream",
     "text": [
      "15\n",
      "push_back 1\n",
      "push_front 2\n",
      "front\n",
      "2\n",
      "back\n",
      "1\n",
      "size\n",
      "2\n",
      "empty\n",
      "0\n",
      "pop_front\n",
      "2\n",
      "pop_back\n",
      "1\n",
      "pop_front\n",
      "-1\n",
      "size\n",
      "0\n",
      "empty\n",
      "1\n",
      "pop_back\n",
      "-1\n",
      "push_front\n"
     ]
    },
    {
     "ename": "IndexError",
     "evalue": "list index out of range",
     "output_type": "error",
     "traceback": [
      "\u001b[1;31m---------------------------------------------------------------------------\u001b[0m",
      "\u001b[1;31mIndexError\u001b[0m                                Traceback (most recent call last)",
      "\u001b[1;32m<ipython-input-14-520c6d0f2d0e>\u001b[0m in \u001b[0;36m<module>\u001b[1;34m\u001b[0m\n\u001b[0;32m     11\u001b[0m         \u001b[0mdeq\u001b[0m\u001b[1;33m.\u001b[0m\u001b[0mappend\u001b[0m\u001b[1;33m(\u001b[0m\u001b[0mint\u001b[0m\u001b[1;33m(\u001b[0m\u001b[0menter\u001b[0m\u001b[1;33m[\u001b[0m\u001b[1;36m1\u001b[0m\u001b[1;33m]\u001b[0m\u001b[1;33m)\u001b[0m\u001b[1;33m)\u001b[0m\u001b[1;33m\u001b[0m\u001b[1;33m\u001b[0m\u001b[0m\n\u001b[0;32m     12\u001b[0m     \u001b[1;32melif\u001b[0m \u001b[0mcmd\u001b[0m \u001b[1;33m==\u001b[0m \u001b[1;34m'push_front'\u001b[0m\u001b[1;33m:\u001b[0m\u001b[1;33m\u001b[0m\u001b[1;33m\u001b[0m\u001b[0m\n\u001b[1;32m---> 13\u001b[1;33m         \u001b[0mdeq\u001b[0m\u001b[1;33m.\u001b[0m\u001b[0mappendleft\u001b[0m\u001b[1;33m(\u001b[0m\u001b[0mint\u001b[0m\u001b[1;33m(\u001b[0m\u001b[0menter\u001b[0m\u001b[1;33m[\u001b[0m\u001b[1;36m1\u001b[0m\u001b[1;33m]\u001b[0m\u001b[1;33m)\u001b[0m\u001b[1;33m)\u001b[0m\u001b[1;33m\u001b[0m\u001b[1;33m\u001b[0m\u001b[0m\n\u001b[0m\u001b[0;32m     14\u001b[0m     \u001b[1;32melif\u001b[0m \u001b[0mcmd\u001b[0m \u001b[1;33m==\u001b[0m \u001b[1;34m'pop_front'\u001b[0m\u001b[1;33m:\u001b[0m\u001b[1;33m\u001b[0m\u001b[1;33m\u001b[0m\u001b[0m\n\u001b[0;32m     15\u001b[0m         \u001b[1;32mif\u001b[0m \u001b[0mlen\u001b[0m\u001b[1;33m(\u001b[0m\u001b[0mdeq\u001b[0m\u001b[1;33m)\u001b[0m \u001b[1;33m!=\u001b[0m \u001b[1;36m0\u001b[0m\u001b[1;33m:\u001b[0m\u001b[1;33m\u001b[0m\u001b[1;33m\u001b[0m\u001b[0m\n",
      "\u001b[1;31mIndexError\u001b[0m: list index out of range"
     ]
    }
   ],
   "source": [
    "# 10866. Deque\n",
    "from collections import deque\n",
    "deq = deque()\n",
    "n = int(input())\n",
    "\n",
    "for _ in range(n):\n",
    "    enter = input().split()\n",
    "    cmd = enter[0]\n",
    "    \n",
    "    if cmd == 'push_back':\n",
    "        deq.append(int(enter[1]))\n",
    "    elif cmd == 'push_front':\n",
    "        deq.appendleft(int(enter[1]))\n",
    "    elif cmd == 'pop_front':\n",
    "        if len(deq) != 0:\n",
    "            print(deq.popleft())\n",
    "        else:\n",
    "            print(-1)\n",
    "    elif cmd == 'pop_back':\n",
    "        if len(deq) != 0:\n",
    "            print(deq.pop())\n",
    "        else:\n",
    "            print(-1)\n",
    "    elif cmd == 'size':\n",
    "        print(len(deq))\n",
    "    elif cmd == 'empty':\n",
    "        if len(deq) != 0:\n",
    "            print(0)\n",
    "        else:\n",
    "            print(1)\n",
    "    elif cmd == 'front':\n",
    "        if len(deq) != 0:\n",
    "            print(deq[0])\n",
    "        else:\n",
    "            print(-1)\n",
    "    elif cmd == 'back':\n",
    "        if len(deq) != 0:\n",
    "            print(deq[-1])\n",
    "        else:\n",
    "            print(-1)"
   ]
  },
  {
   "cell_type": "code",
   "execution_count": 10,
   "metadata": {},
   "outputs": [
    {
     "ename": "AttributeError",
     "evalue": "'collections.deque' object has no attribute 'empty'",
     "output_type": "error",
     "traceback": [
      "\u001b[1;31m---------------------------------------------------------------------------\u001b[0m",
      "\u001b[1;31mAttributeError\u001b[0m                            Traceback (most recent call last)",
      "\u001b[1;32m<ipython-input-10-5ddd6723b8a3>\u001b[0m in \u001b[0;36m<module>\u001b[1;34m\u001b[0m\n\u001b[0;32m      4\u001b[0m \u001b[0mdeq\u001b[0m\u001b[1;33m[\u001b[0m\u001b[1;36m0\u001b[0m\u001b[1;33m]\u001b[0m\u001b[1;33m\u001b[0m\u001b[1;33m\u001b[0m\u001b[0m\n\u001b[0;32m      5\u001b[0m \u001b[0mlen\u001b[0m\u001b[1;33m(\u001b[0m\u001b[0mdeq\u001b[0m\u001b[1;33m)\u001b[0m\u001b[1;33m\u001b[0m\u001b[1;33m\u001b[0m\u001b[0m\n\u001b[1;32m----> 6\u001b[1;33m \u001b[0mdeq\u001b[0m\u001b[1;33m.\u001b[0m\u001b[0mempty\u001b[0m\u001b[1;33m(\u001b[0m\u001b[1;33m)\u001b[0m\u001b[1;33m\u001b[0m\u001b[1;33m\u001b[0m\u001b[0m\n\u001b[0m",
      "\u001b[1;31mAttributeError\u001b[0m: 'collections.deque' object has no attribute 'empty'"
     ]
    }
   ],
   "source": [
    "from collections import deque\n",
    "deq = deque()\n",
    "deq.append(1)\n",
    "deq[0]\n",
    "len(deq)\n",
    "deq"
   ]
  },
  {
   "cell_type": "code",
   "execution_count": null,
   "metadata": {},
   "outputs": [],
   "source": []
  }
 ],
 "metadata": {
  "kernelspec": {
   "display_name": "Python 3",
   "language": "python",
   "name": "python3"
  },
  "language_info": {
   "codemirror_mode": {
    "name": "ipython",
    "version": 3
   },
   "file_extension": ".py",
   "mimetype": "text/x-python",
   "name": "python",
   "nbconvert_exporter": "python",
   "pygments_lexer": "ipython3",
   "version": "3.7.6"
  }
 },
 "nbformat": 4,
 "nbformat_minor": 4
}
