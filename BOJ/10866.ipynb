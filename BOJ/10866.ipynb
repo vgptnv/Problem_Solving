{
 "cells": [
  {
   "cell_type": "code",
   "execution_count": 11,
   "metadata": {},
   "outputs": [
    {
     "name": "stdout",
     "output_type": "stream",
     "text": [
      "[1]\n",
      "[2, 1]\n",
      "2\n",
      "[2, 1]\n",
      "1\n",
      "[2, 1]\n",
      "2\n",
      "[2, 1]\n",
      "0\n",
      "[2, 1]\n",
      "2\n",
      "[1]\n",
      "1\n",
      "[]\n",
      "0\n",
      "[]\n",
      "1\n",
      "[]\n",
      "-1\n",
      "[]\n",
      "[3]\n",
      "0\n",
      "[3]\n",
      "3\n",
      "[3]\n",
      "1\n",
      "[3]\n"
     ]
    }
   ],
   "source": [
    "# Q. 10866\n",
    "n = int(input())\n",
    "deq = []\n",
    "for _ in range(n):\n",
    "    inp = input()\n",
    "    command = inp.split()[0]\n",
    "    if command == 'push_back':\n",
    "        deq.append(int(inp.split()[-1]))\n",
    "    elif command == 'push_front':\n",
    "        deq = [int(inp.split()[-1])] + deq\n",
    "    elif command == 'pop_front':\n",
    "        if len(deq) == 0 : print(-1)\n",
    "        else: print(deq.pop(0))\n",
    "    elif command == 'pop_back':\n",
    "        if len(deq) == 0 : print(-1)\n",
    "        else: print(deq.pop(-1))\n",
    "    elif command == 'size':\n",
    "        print(len(deq))\n",
    "    elif command == 'empty':\n",
    "        if len(deq) == 0 : print(1)\n",
    "        else: print(0)\n",
    "    elif command == 'front':\n",
    "        if len(deq) == 0 : print(-1)\n",
    "        else: print(deq[0])\n",
    "    elif command == 'back':\n",
    "        if len(deq) == 0 : print(-1)\n",
    "        else: print(deq[-1])"
   ]
  },
  {
   "cell_type": "code",
   "execution_count": 4,
   "metadata": {},
   "outputs": [
    {
     "data": {
      "text/plain": [
       "['1', '2']"
      ]
     },
     "execution_count": 4,
     "metadata": {},
     "output_type": "execute_result"
    }
   ],
   "source": [
    "input().split()"
   ]
  },
  {
   "cell_type": "code",
   "execution_count": 7,
   "metadata": {},
   "outputs": [
    {
     "data": {
      "text/plain": [
       "[1]"
      ]
     },
     "execution_count": 7,
     "metadata": {},
     "output_type": "execute_result"
    }
   ],
   "source": [
    "deq\n"
   ]
  },
  {
   "cell_type": "code",
   "execution_count": null,
   "metadata": {},
   "outputs": [],
   "source": []
  }
 ],
 "metadata": {
  "interpreter": {
   "hash": "842d2169f82d7db1dfac7d91753e529f60f575232793c66531d2d283e0c0fc6d"
  },
  "kernelspec": {
   "display_name": "Python 3.9.4 ('py39': conda)",
   "language": "python",
   "name": "python3"
  },
  "language_info": {
   "codemirror_mode": {
    "name": "ipython",
    "version": 3
   },
   "file_extension": ".py",
   "mimetype": "text/x-python",
   "name": "python",
   "nbconvert_exporter": "python",
   "pygments_lexer": "ipython3",
   "version": "3.9.4"
  },
  "orig_nbformat": 4
 },
 "nbformat": 4,
 "nbformat_minor": 2
}
