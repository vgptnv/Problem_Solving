{
 "cells": [
  {
   "cell_type": "code",
   "execution_count": 25,
   "metadata": {},
   "outputs": [
    {
     "name": "stdout",
     "output_type": "stream",
     "text": [
      "[('Aimy', 9778), ('Bob', 5887), ('Kelly', 7855), ('Mary', 10999), ('Michale', 27115), ('Sams', 2111), ('Tom', 20245)]\n"
     ]
    }
   ],
   "source": [
    "# TIL\n",
    "# sorted by values\n",
    "names = {'Mary':10999, \n",
    "         'Sams':2111, \n",
    "         'Aimy': 9778, \n",
    "         'Tom': 20245, \n",
    "        'Michale':27115, \n",
    "         'Bob':5887, \n",
    "         'Kelly':7855}\n",
    "\n",
    "# print(names.items())\n",
    "res = sorted(names.items(), key= lambda x: (x[0], x[1]))\n",
    "print(res)\n",
    "\n",
    "# def f2(x): return x[1]\n",
    "\n",
    "# res = sorted(names.items(), key=f2)\n",
    "# print(res)\n",
    "\n",
    "# res = sorted(names.items(), key=(lambda x: x[1]), reverse = True)  # -> lst로 바뀜!\n",
    "# print(res)\n",
    "# # [('Michale', 27115), ('Tom', 20245), ('Mary', 10999), ('Aimy', 9778), ('Kelly', 7855), ('Bob', 5887), ('Sams', 2111)]"
   ]
  },
  {
   "cell_type": "code",
   "execution_count": null,
   "metadata": {},
   "outputs": [],
   "source": [
    "sort(dic.items(), key=lambda x:x[0])"
   ]
  },
  {
   "cell_type": "code",
   "execution_count": 7,
   "metadata": {},
   "outputs": [
    {
     "data": {
      "text/plain": [
       "[[1, 4], [5, 6]]"
      ]
     },
     "execution_count": 7,
     "metadata": {},
     "output_type": "execute_result"
    }
   ],
   "source": [
    "# 56. merge-intervals\n",
    "intervals = [[1,3],[2,6],[8,10],[15,18]]\n",
    "lst = []\n",
    "intervals.sort(key = lambda x: x[0])\n",
    "if len(intervals) > 1:\n",
    "    for i in range(1, len(intervals)):\n",
    "        if intervals[i][0] <= intervals[i-1][1]:\n",
    "            lst.append([intervals[i-1][0], intervals[i][1]])\n",
    "        else:\n",
    "            if intervals[i-1][1] lst:\n",
    "                lst.append(intervals[i-1])\n",
    "            lst.append(intervals[i])\n",
    "else:\n",
    "    intervals\n",
    "\n",
    "lst"
   ]
  },
  {
   "cell_type": "code",
   "execution_count": 26,
   "metadata": {},
   "outputs": [
    {
     "data": {
      "text/plain": [
       "[[1, 3], [2, 6], [8, 10], [15, 18]]"
      ]
     },
     "execution_count": 26,
     "metadata": {},
     "output_type": "execute_result"
    }
   ],
   "source": [
    "intervals = [[1,3],[2,6],[8,10],[15,18]]\n",
    "intervals.sort()\n",
    "intervals"
   ]
  },
  {
   "cell_type": "code",
   "execution_count": 28,
   "metadata": {},
   "outputs": [
    {
     "name": "stdout",
     "output_type": "stream",
     "text": [
      "[[1, 6], [2, 6], [8, 10], [15, 18]]\n",
      "[1, 6]\n",
      "[]\n",
      "[2, 6]\n",
      "[[1, 6]]\n",
      "[8, 10]\n",
      "[[1, 6]]\n",
      "[15, 18]\n",
      "[[1, 6], [8, 10]]\n"
     ]
    },
    {
     "data": {
      "text/plain": [
       "[[1, 6], [8, 10], [15, 18]]"
      ]
     },
     "execution_count": 28,
     "metadata": {},
     "output_type": "execute_result"
    }
   ],
   "source": [
    "# 56. merge-intervals\n",
    "merged = []\n",
    "intervals.sort(key = lambda x:x[0])\n",
    "print(intervals)\n",
    "for i in intervals:\n",
    "    print(i)\n",
    "    print(merged)\n",
    "    if merged and i[0] <= merged[-1][1]:\n",
    "        merged[-1][1] = max(merged[-1][1], i[1])\n",
    "    else:\n",
    "        merged += i,\n",
    "        \n",
    "merged"
   ]
  },
  {
   "cell_type": "code",
   "execution_count": 10,
   "metadata": {},
   "outputs": [
    {
     "ename": "TypeError",
     "evalue": "'int' object is not subscriptable",
     "output_type": "error",
     "traceback": [
      "\u001b[1;31m---------------------------------------------------------------------------\u001b[0m",
      "\u001b[1;31mTypeError\u001b[0m                                 Traceback (most recent call last)",
      "\u001b[1;32m<ipython-input-10-151aae493523>\u001b[0m in \u001b[0;36m<module>\u001b[1;34m\u001b[0m\n\u001b[0;32m      3\u001b[0m \u001b[0mmax_num\u001b[0m \u001b[1;33m=\u001b[0m \u001b[1;36m0\u001b[0m\u001b[1;33m\u001b[0m\u001b[1;33m\u001b[0m\u001b[0m\n\u001b[0;32m      4\u001b[0m \u001b[0mnums\u001b[0m \u001b[1;33m=\u001b[0m \u001b[1;33m[\u001b[0m\u001b[1;36m3\u001b[0m\u001b[1;33m,\u001b[0m\u001b[1;36m30\u001b[0m\u001b[1;33m,\u001b[0m\u001b[1;36m34\u001b[0m\u001b[1;33m,\u001b[0m\u001b[1;36m5\u001b[0m\u001b[1;33m,\u001b[0m\u001b[1;36m9\u001b[0m\u001b[1;33m]\u001b[0m\u001b[1;33m\u001b[0m\u001b[1;33m\u001b[0m\u001b[0m\n\u001b[1;32m----> 5\u001b[1;33m \u001b[0mnums\u001b[0m\u001b[1;33m.\u001b[0m\u001b[0msort\u001b[0m\u001b[1;33m(\u001b[0m\u001b[0mkey\u001b[0m\u001b[1;33m=\u001b[0m\u001b[1;32mlambda\u001b[0m \u001b[0mx\u001b[0m\u001b[1;33m:\u001b[0m\u001b[0mx\u001b[0m\u001b[1;33m[\u001b[0m\u001b[1;36m0\u001b[0m\u001b[1;33m]\u001b[0m\u001b[1;33m)\u001b[0m\u001b[1;33m\u001b[0m\u001b[1;33m\u001b[0m\u001b[0m\n\u001b[0m\u001b[0;32m      6\u001b[0m \u001b[0mnums\u001b[0m\u001b[1;33m\u001b[0m\u001b[1;33m\u001b[0m\u001b[0m\n",
      "\u001b[1;32m<ipython-input-10-151aae493523>\u001b[0m in \u001b[0;36m<lambda>\u001b[1;34m(x)\u001b[0m\n\u001b[0;32m      3\u001b[0m \u001b[0mmax_num\u001b[0m \u001b[1;33m=\u001b[0m \u001b[1;36m0\u001b[0m\u001b[1;33m\u001b[0m\u001b[1;33m\u001b[0m\u001b[0m\n\u001b[0;32m      4\u001b[0m \u001b[0mnums\u001b[0m \u001b[1;33m=\u001b[0m \u001b[1;33m[\u001b[0m\u001b[1;36m3\u001b[0m\u001b[1;33m,\u001b[0m\u001b[1;36m30\u001b[0m\u001b[1;33m,\u001b[0m\u001b[1;36m34\u001b[0m\u001b[1;33m,\u001b[0m\u001b[1;36m5\u001b[0m\u001b[1;33m,\u001b[0m\u001b[1;36m9\u001b[0m\u001b[1;33m]\u001b[0m\u001b[1;33m\u001b[0m\u001b[1;33m\u001b[0m\u001b[0m\n\u001b[1;32m----> 5\u001b[1;33m \u001b[0mnums\u001b[0m\u001b[1;33m.\u001b[0m\u001b[0msort\u001b[0m\u001b[1;33m(\u001b[0m\u001b[0mkey\u001b[0m\u001b[1;33m=\u001b[0m\u001b[1;32mlambda\u001b[0m \u001b[0mx\u001b[0m\u001b[1;33m:\u001b[0m\u001b[0mx\u001b[0m\u001b[1;33m[\u001b[0m\u001b[1;36m0\u001b[0m\u001b[1;33m]\u001b[0m\u001b[1;33m)\u001b[0m\u001b[1;33m\u001b[0m\u001b[1;33m\u001b[0m\u001b[0m\n\u001b[0m\u001b[0;32m      6\u001b[0m \u001b[0mnums\u001b[0m\u001b[1;33m\u001b[0m\u001b[1;33m\u001b[0m\u001b[0m\n",
      "\u001b[1;31mTypeError\u001b[0m: 'int' object is not subscriptable"
     ]
    }
   ],
   "source": [
    "max_num = 0\n",
    "nums = [3,30,34,5,9]\n",
    "nums.sort(key=lambda x:x[0])\n",
    "nums\n"
   ]
  },
  {
   "cell_type": "code",
   "execution_count": 30,
   "metadata": {},
   "outputs": [
    {
     "data": {
      "text/plain": [
       "[(3, 30, 34, 5, 9),\n",
       " (3, 30, 34, 9, 5),\n",
       " (3, 30, 5, 34, 9),\n",
       " (3, 30, 5, 9, 34),\n",
       " (3, 30, 9, 34, 5),\n",
       " (3, 30, 9, 5, 34),\n",
       " (3, 34, 30, 5, 9),\n",
       " (3, 34, 30, 9, 5),\n",
       " (3, 34, 5, 30, 9),\n",
       " (3, 34, 5, 9, 30),\n",
       " (3, 34, 9, 30, 5),\n",
       " (3, 34, 9, 5, 30),\n",
       " (3, 5, 30, 34, 9),\n",
       " (3, 5, 30, 9, 34),\n",
       " (3, 5, 34, 30, 9),\n",
       " (3, 5, 34, 9, 30),\n",
       " (3, 5, 9, 30, 34),\n",
       " (3, 5, 9, 34, 30),\n",
       " (3, 9, 30, 34, 5),\n",
       " (3, 9, 30, 5, 34),\n",
       " (3, 9, 34, 30, 5),\n",
       " (3, 9, 34, 5, 30),\n",
       " (3, 9, 5, 30, 34),\n",
       " (3, 9, 5, 34, 30),\n",
       " (30, 3, 34, 5, 9),\n",
       " (30, 3, 34, 9, 5),\n",
       " (30, 3, 5, 34, 9),\n",
       " (30, 3, 5, 9, 34),\n",
       " (30, 3, 9, 34, 5),\n",
       " (30, 3, 9, 5, 34),\n",
       " (30, 34, 3, 5, 9),\n",
       " (30, 34, 3, 9, 5),\n",
       " (30, 34, 5, 3, 9),\n",
       " (30, 34, 5, 9, 3),\n",
       " (30, 34, 9, 3, 5),\n",
       " (30, 34, 9, 5, 3),\n",
       " (30, 5, 3, 34, 9),\n",
       " (30, 5, 3, 9, 34),\n",
       " (30, 5, 34, 3, 9),\n",
       " (30, 5, 34, 9, 3),\n",
       " (30, 5, 9, 3, 34),\n",
       " (30, 5, 9, 34, 3),\n",
       " (30, 9, 3, 34, 5),\n",
       " (30, 9, 3, 5, 34),\n",
       " (30, 9, 34, 3, 5),\n",
       " (30, 9, 34, 5, 3),\n",
       " (30, 9, 5, 3, 34),\n",
       " (30, 9, 5, 34, 3),\n",
       " (34, 3, 30, 5, 9),\n",
       " (34, 3, 30, 9, 5),\n",
       " (34, 3, 5, 30, 9),\n",
       " (34, 3, 5, 9, 30),\n",
       " (34, 3, 9, 30, 5),\n",
       " (34, 3, 9, 5, 30),\n",
       " (34, 30, 3, 5, 9),\n",
       " (34, 30, 3, 9, 5),\n",
       " (34, 30, 5, 3, 9),\n",
       " (34, 30, 5, 9, 3),\n",
       " (34, 30, 9, 3, 5),\n",
       " (34, 30, 9, 5, 3),\n",
       " (34, 5, 3, 30, 9),\n",
       " (34, 5, 3, 9, 30),\n",
       " (34, 5, 30, 3, 9),\n",
       " (34, 5, 30, 9, 3),\n",
       " (34, 5, 9, 3, 30),\n",
       " (34, 5, 9, 30, 3),\n",
       " (34, 9, 3, 30, 5),\n",
       " (34, 9, 3, 5, 30),\n",
       " (34, 9, 30, 3, 5),\n",
       " (34, 9, 30, 5, 3),\n",
       " (34, 9, 5, 3, 30),\n",
       " (34, 9, 5, 30, 3),\n",
       " (5, 3, 30, 34, 9),\n",
       " (5, 3, 30, 9, 34),\n",
       " (5, 3, 34, 30, 9),\n",
       " (5, 3, 34, 9, 30),\n",
       " (5, 3, 9, 30, 34),\n",
       " (5, 3, 9, 34, 30),\n",
       " (5, 30, 3, 34, 9),\n",
       " (5, 30, 3, 9, 34),\n",
       " (5, 30, 34, 3, 9),\n",
       " (5, 30, 34, 9, 3),\n",
       " (5, 30, 9, 3, 34),\n",
       " (5, 30, 9, 34, 3),\n",
       " (5, 34, 3, 30, 9),\n",
       " (5, 34, 3, 9, 30),\n",
       " (5, 34, 30, 3, 9),\n",
       " (5, 34, 30, 9, 3),\n",
       " (5, 34, 9, 3, 30),\n",
       " (5, 34, 9, 30, 3),\n",
       " (5, 9, 3, 30, 34),\n",
       " (5, 9, 3, 34, 30),\n",
       " (5, 9, 30, 3, 34),\n",
       " (5, 9, 30, 34, 3),\n",
       " (5, 9, 34, 3, 30),\n",
       " (5, 9, 34, 30, 3),\n",
       " (9, 3, 30, 34, 5),\n",
       " (9, 3, 30, 5, 34),\n",
       " (9, 3, 34, 30, 5),\n",
       " (9, 3, 34, 5, 30),\n",
       " (9, 3, 5, 30, 34),\n",
       " (9, 3, 5, 34, 30),\n",
       " (9, 30, 3, 34, 5),\n",
       " (9, 30, 3, 5, 34),\n",
       " (9, 30, 34, 3, 5),\n",
       " (9, 30, 34, 5, 3),\n",
       " (9, 30, 5, 3, 34),\n",
       " (9, 30, 5, 34, 3),\n",
       " (9, 34, 3, 30, 5),\n",
       " (9, 34, 3, 5, 30),\n",
       " (9, 34, 30, 3, 5),\n",
       " (9, 34, 30, 5, 3),\n",
       " (9, 34, 5, 3, 30),\n",
       " (9, 34, 5, 30, 3),\n",
       " (9, 5, 3, 30, 34),\n",
       " (9, 5, 3, 34, 30),\n",
       " (9, 5, 30, 3, 34),\n",
       " (9, 5, 30, 34, 3),\n",
       " (9, 5, 34, 3, 30),\n",
       " (9, 5, 34, 30, 3)]"
      ]
     },
     "execution_count": 30,
     "metadata": {},
     "output_type": "execute_result"
    }
   ],
   "source": [
    "nums = [3,30,34,5,9]\n",
    "import itertools\n",
    "list(itertools.permutations(nums,len(nums)))"
   ]
  },
  {
   "cell_type": "code",
   "execution_count": null,
   "metadata": {},
   "outputs": [],
   "source": [
    "import itertools\n",
    "def largest(nums):\n",
    "    nums2 = list(itertools.permutations(nums,len(nums)))\n",
    "    nums3=[]\n",
    "    for i in range(0,len(nums2)):\n",
    "        nums3.append(list(nums2[i]))\n",
    "    for i in range(0,len(nums3)):\n",
    "        nums3[i]=list(map(str,nums3[i]))\n",
    "    for i in range(0,len(nums3)):\n",
    "        nums3[i]=\"\".join(nums3[i]) #여기서 리스트 \"\".join은 문자열에서만 가능하다고\n",
    "        nums3=list(map(int,nums3))\n",
    "        nums3.sort(reverse=True)\n",
    "    return nums3[0]\n"
   ]
  },
  {
   "cell_type": "code",
   "execution_count": 31,
   "metadata": {},
   "outputs": [
    {
     "name": "stdout",
     "output_type": "stream",
     "text": [
      "[3, 34, 30, 5, 9]\n",
      "[34, 3, 30, 5, 9]\n",
      "[34, 3, 5, 30, 9]\n",
      "[34, 5, 3, 30, 9]\n",
      "[5, 34, 3, 30, 9]\n",
      "[5, 34, 3, 9, 30]\n",
      "[5, 34, 9, 3, 30]\n",
      "[5, 9, 34, 3, 30]\n",
      "[9, 5, 34, 3, 30]\n"
     ]
    },
    {
     "data": {
      "text/plain": [
       "'9534330'"
      ]
     },
     "execution_count": 31,
     "metadata": {},
     "output_type": "execute_result"
    }
   ],
   "source": [
    "# 179. largest-number\n",
    "def swap(n1, n2):\n",
    "    return str(n1) + str(n2) < str(n2) + str(n1)  # bool \n",
    "\n",
    "# 3, 10 -> 103, 310\n",
    "nums = [3,30,34,5,9]\n",
    "\n",
    "i = 1\n",
    "while i < len(nums):\n",
    "    j = i\n",
    "    while j > 0 and swap(nums[j-1], nums[j]):\n",
    "        nums[j], nums[j-1] = nums[j-1], nums[j]  # swap\n",
    "        j -= 1  # 큰 걸 앞으로 보낼 수 있도록!\n",
    "        print(nums)\n",
    "    i += 1\n",
    "    \n",
    "str(int(\"\".join(map(str, nums))))\n",
    "    "
   ]
  },
  {
   "cell_type": "code",
   "execution_count": null,
   "metadata": {},
   "outputs": [],
   "source": [
    "# 75. sort-colors\n",
    "for i in range(len(nums)-1):\n",
    "    for j in range(i+1, 0, -1):\n",
    "        if nums[j] < nums[j-1]:\n",
    "            nums[j], nums[j-1] = nums[j-1], nums[j]  # switch \n",
    "        else:\n",
    "            break\n",
    "nums"
   ]
  },
  {
   "cell_type": "code",
   "execution_count": null,
   "metadata": {},
   "outputs": [],
   "source": [
    "# 704. binary-search\n",
    "def solution(nums, target):\n",
    "    nums = sorted(nums)\n",
    "    out = 0\n",
    "    for i in range(0, len(nums)):\n",
    "        if nums[i] == target:\n",
    "            out = i\n",
    "        else:\n",
    "            out = -1\n",
    "    return(out)"
   ]
  },
  {
   "cell_type": "code",
   "execution_count": 15,
   "metadata": {},
   "outputs": [
    {
     "data": {
      "text/plain": [
       "4"
      ]
     },
     "execution_count": 15,
     "metadata": {},
     "output_type": "execute_result"
    }
   ],
   "source": [
    "# 704. binary-search\n",
    "def binary_search(left, right):\n",
    "    if left <= right:\n",
    "        mid = (left + right) // 2\n",
    "        if nums[mid] > target:\n",
    "            return binary_search(left, mid - 1)\n",
    "        elif nums[mid] < target:\n",
    "            return binary_search(mid + 1, right)\n",
    "        else:  # nums[mid] == target\n",
    "            return mid\n",
    "    else:\n",
    "        return -1\n",
    "    \n",
    "nums = [-1,0,3,5,9,12]\n",
    "target = 9\n",
    "binary_search(0, len(nums)-1)"
   ]
  },
  {
   "cell_type": "code",
   "execution_count": 17,
   "metadata": {},
   "outputs": [
    {
     "data": {
      "text/plain": [
       "[2]"
      ]
     },
     "execution_count": 17,
     "metadata": {},
     "output_type": "execute_result"
    }
   ],
   "source": [
    "# 349. intersection-of-two-arrays\n",
    "nums1 = [1,2,2,1]\n",
    "nums2 = [2,2]\n",
    "\n",
    "result = []\n",
    "for i in nums1: # 완전탐색..!\n",
    "    if i in nums2 and i not in result:\n",
    "        result.append(i)\n",
    "        \n",
    "result"
   ]
  },
  {
   "cell_type": "code",
   "execution_count": null,
   "metadata": {},
   "outputs": [],
   "source": [
    "class Solution(object):\n",
    "    def intersection(self, nums1, nums2):\n",
    "        return list(set(nums1) & set(nums2))\n"
   ]
  },
  {
   "cell_type": "code",
   "execution_count": 19,
   "metadata": {},
   "outputs": [
    {
     "ename": "AttributeError",
     "evalue": "'set' object has no attribute 'append'",
     "output_type": "error",
     "traceback": [
      "\u001b[1;31m---------------------------------------------------------------------------\u001b[0m",
      "\u001b[1;31mAttributeError\u001b[0m                            Traceback (most recent call last)",
      "\u001b[1;32m<ipython-input-19-bf13daa7e80c>\u001b[0m in \u001b[0;36m<module>\u001b[1;34m\u001b[0m\n\u001b[0;32m      5\u001b[0m \u001b[1;32mfor\u001b[0m \u001b[0mi\u001b[0m \u001b[1;32min\u001b[0m \u001b[0mnums1\u001b[0m\u001b[1;33m:\u001b[0m\u001b[1;33m\u001b[0m\u001b[1;33m\u001b[0m\u001b[0m\n\u001b[0;32m      6\u001b[0m     \u001b[1;32mif\u001b[0m \u001b[0mi\u001b[0m \u001b[1;32min\u001b[0m \u001b[0mnums2\u001b[0m \u001b[1;32mand\u001b[0m \u001b[0mi\u001b[0m \u001b[1;32mnot\u001b[0m \u001b[1;32min\u001b[0m \u001b[0mresult\u001b[0m\u001b[1;33m:\u001b[0m\u001b[1;33m\u001b[0m\u001b[1;33m\u001b[0m\u001b[0m\n\u001b[1;32m----> 7\u001b[1;33m         \u001b[0mresult\u001b[0m\u001b[1;33m.\u001b[0m\u001b[0mappend\u001b[0m\u001b[1;33m(\u001b[0m\u001b[0mi\u001b[0m\u001b[1;33m)\u001b[0m\u001b[1;33m\u001b[0m\u001b[1;33m\u001b[0m\u001b[0m\n\u001b[0m\u001b[0;32m      8\u001b[0m \u001b[1;33m\u001b[0m\u001b[0m\n\u001b[0;32m      9\u001b[0m \u001b[0mresult\u001b[0m\u001b[1;33m\u001b[0m\u001b[1;33m\u001b[0m\u001b[0m\n",
      "\u001b[1;31mAttributeError\u001b[0m: 'set' object has no attribute 'append'"
     ]
    }
   ],
   "source": [
    "# 349. intersection-of-two-arrays\n",
    "nums1 = [1,2,2,1]\n",
    "nums2 = [2,2]\n",
    "\n",
    "def binary_search(left, right):\n",
    "    if left <= right:\n",
    "        mid = (left + right) // 2\n",
    "        if nums[mid] > target:\n",
    "            return binary_search(left, mid - 1)\n",
    "        elif nums[mid] < target:\n",
    "            return binary_search(mid + 1, right)\n",
    "        else:\n",
    "            return mid\n",
    "    else:\n",
    "        return -1\n",
    "\n",
    "result = set()\n",
    "nums2.sort()\n",
    "for i in nums1:\n",
    "    i2\n"
   ]
  },
  {
   "cell_type": "markdown",
   "metadata": {},
   "source": [
    "## 재귀, 스택, 큐"
   ]
  },
  {
   "cell_type": "code",
   "execution_count": null,
   "metadata": {},
   "outputs": [],
   "source": []
  }
 ],
 "metadata": {
  "kernelspec": {
   "display_name": "Python 3",
   "language": "python",
   "name": "python3"
  },
  "language_info": {
   "codemirror_mode": {
    "name": "ipython",
    "version": 3
   },
   "file_extension": ".py",
   "mimetype": "text/x-python",
   "name": "python",
   "nbconvert_exporter": "python",
   "pygments_lexer": "ipython3",
   "version": "3.7.6"
  }
 },
 "nbformat": 4,
 "nbformat_minor": 4
}
