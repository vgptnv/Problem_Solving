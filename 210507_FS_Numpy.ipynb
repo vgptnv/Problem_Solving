{
 "cells": [
  {
   "cell_type": "code",
   "execution_count": 1,
   "metadata": {},
   "outputs": [],
   "source": [
    "import numpy as np"
   ]
  },
  {
   "cell_type": "code",
   "execution_count": 2,
   "metadata": {},
   "outputs": [],
   "source": [
    "arr1 = np.array([1, 2, 3])\n",
    "arr2 = np.array([4, 5, 6])\n",
    "arr3 = np.array([7, 8, 9])"
   ]
  },
  {
   "cell_type": "code",
   "execution_count": 7,
   "metadata": {},
   "outputs": [
    {
     "data": {
      "text/plain": [
       "array([[1, 2, 3],\n",
       "       [4, 5, 6],\n",
       "       [7, 8, 9]])"
      ]
     },
     "execution_count": 7,
     "metadata": {},
     "output_type": "execute_result"
    }
   ],
   "source": [
    "np.concatenate((arr1, arr2, arr3)).reshape(3,3)"
   ]
  },
  {
   "cell_type": "code",
   "execution_count": 11,
   "metadata": {},
   "outputs": [
    {
     "data": {
      "text/plain": [
       "array([1, 2, 3, 4, 5, 6, 7, 8, 9])"
      ]
     },
     "execution_count": 11,
     "metadata": {},
     "output_type": "execute_result"
    }
   ],
   "source": [
    "np.vstack((arr1, arr2, arr3))  # 세로로 쌓을 땐\n",
    "np.hstack((arr1, arr2, arr3))  # 가로로 쌓을 땐"
   ]
  },
  {
   "cell_type": "code",
   "execution_count": 12,
   "metadata": {},
   "outputs": [
    {
     "data": {
      "text/plain": [
       "array([5, 1, 5])"
      ]
     },
     "execution_count": 12,
     "metadata": {},
     "output_type": "execute_result"
    }
   ],
   "source": [
    "v1 = np.array([1, 2, 3])\n",
    "v2 = np.array([4, -1, 2])\n",
    "\n",
    "v1+v2"
   ]
  },
  {
   "cell_type": "code",
   "execution_count": 16,
   "metadata": {},
   "outputs": [
    {
     "data": {
      "text/plain": [
       "8"
      ]
     },
     "execution_count": 16,
     "metadata": {},
     "output_type": "execute_result"
    }
   ],
   "source": [
    "v1 = np.array([1, 2, 3])\n",
    "v2 = np.array([4, -1, 2])\n",
    "\n",
    "v1@v2\n",
    "np.dot(v1, v2)\n",
    "np.matmul(v1, v2)"
   ]
  },
  {
   "cell_type": "code",
   "execution_count": 17,
   "metadata": {},
   "outputs": [
    {
     "data": {
      "text/plain": [
       "array([4, 5, 6])"
      ]
     },
     "execution_count": 17,
     "metadata": {},
     "output_type": "execute_result"
    }
   ],
   "source": [
    "arr1 = np.array([1, 2, 3])\n",
    "\n",
    "arr1 + 3"
   ]
  },
  {
   "cell_type": "code",
   "execution_count": 18,
   "metadata": {},
   "outputs": [
    {
     "data": {
      "text/plain": [
       "array([[0, 0, 0],\n",
       "       [3, 3, 3],\n",
       "       [6, 6, 6]])"
      ]
     },
     "execution_count": 18,
     "metadata": {},
     "output_type": "execute_result"
    }
   ],
   "source": [
    "## Broadcasting\n",
    "mat1 = np.array([[1, 2, 3], [4, 5, 6], [7, 8, 9]])\n",
    "v1 = np.array([-1, -2, -3])\n",
    "\n",
    "mat1 + v1"
   ]
  },
  {
   "cell_type": "code",
   "execution_count": 30,
   "metadata": {},
   "outputs": [
    {
     "data": {
      "text/plain": [
       "(5, 5)"
      ]
     },
     "execution_count": 30,
     "metadata": {},
     "output_type": "execute_result"
    }
   ],
   "source": [
    "img = np.random.random((5, 5))\n",
    "\n",
    "img.reshape(25, )\n",
    "img.ravel()\n",
    "img.flatten()\n",
    "img.shape"
   ]
  },
  {
   "cell_type": "code",
   "execution_count": 33,
   "metadata": {},
   "outputs": [
    {
     "name": "stdout",
     "output_type": "stream",
     "text": [
      "N? : 6\n"
     ]
    },
    {
     "data": {
      "text/plain": [
       "array([0.60186682, 0.831986  , 0.28155183, 0.67684365, 0.24743264,\n",
       "       0.92362716, 0.47380246, 0.23856066, 0.49311362, 0.82838611,\n",
       "       0.19220302, 0.69190254, 0.16884065, 0.6053651 , 0.35369005,\n",
       "       0.97775803, 0.564978  , 0.40592463, 0.56290326, 0.76046283,\n",
       "       0.96753429, 0.14912643, 0.76554121, 0.08296621, 0.57045233,\n",
       "       0.56463798, 0.13928785, 0.81688311, 0.13936789, 0.42098471,\n",
       "       0.76097457, 0.26303017, 0.51699871, 0.42787681, 0.68090861,\n",
       "       0.30983677])"
      ]
     },
     "execution_count": 33,
     "metadata": {},
     "output_type": "execute_result"
    }
   ],
   "source": [
    "N = int(input(\"N? : \")) # 사용자 입력으로 받은 자연수 N\n",
    "data = np.random.random((N, 6)) # N x 6 matrix\n",
    "\n",
    "data.flatten()\n",
    "data.ravel()\n",
    "data.reshape(-1, )"
   ]
  },
  {
   "cell_type": "code",
   "execution_count": 45,
   "metadata": {},
   "outputs": [
    {
     "name": "stdout",
     "output_type": "stream",
     "text": [
      "sim(10) : -0.544\n",
      "cos(10) : -0.8391\n",
      "tan(10) : 0.6484\n",
      "-0.5440\n"
     ]
    }
   ],
   "source": [
    "# x = int(input(\"Number? : \"))\n",
    "x = 10\n",
    "\n",
    "def trigonometry(x):\n",
    "    print(\"sim({}) : {}\".format(x, round(np.sin(x), 4)))\n",
    "    print(\"cos({}) : {}\".format(x, round(np.cos(x), 4)))\n",
    "    print(\"tan({}) : {}\".format(x, round(np.tan(x), 4)))\n",
    "    return None\n",
    "\n",
    "trigonometry(10)\n",
    "\n",
    "print(f\"{np.sin(10):.4f}\")"
   ]
  },
  {
   "cell_type": "code",
   "execution_count": 51,
   "metadata": {},
   "outputs": [
    {
     "name": "stdout",
     "output_type": "stream",
     "text": [
      "abs(3.14) : 3.1400\n",
      "root(3.14) : 1.7720\n",
      "square(3.14) : 9.8596\n"
     ]
    }
   ],
   "source": [
    "x = 3.14\n",
    "\n",
    "print(f\"abs({x}) : {np.abs(x):.4f}\")\n",
    "print(f\"root({x}) : {np.sqrt(x):.4f}\")\n",
    "print(f\"square({x}) : {np.square(x):.4f}\")"
   ]
  },
  {
   "cell_type": "code",
   "execution_count": 54,
   "metadata": {},
   "outputs": [
    {
     "name": "stdout",
     "output_type": "stream",
     "text": [
      "Number? : 25.67\n",
      "exp(25.67) : 140714661553.7538\n",
      "log(25.67) : 1.4094\n"
     ]
    }
   ],
   "source": [
    "# x = np.abs(float(input(\"Number? : \")))\n",
    "x = 3.14\n",
    "\n",
    "print(f\"exp({x}) : {np.exp(x):.4f}\")\n",
    "print(f\"log({x}) : {np.log10(x):.4f}\")"
   ]
  },
  {
   "cell_type": "code",
   "execution_count": 58,
   "metadata": {},
   "outputs": [
    {
     "data": {
      "text/plain": [
       "array([-1.935124e+03, -1.009000e+03, -5.750000e+02, -5.000000e+00,\n",
       "        1.000000e+00,  3.400000e+00,  5.541000e+01,  2.245000e+03])"
      ]
     },
     "execution_count": 58,
     "metadata": {},
     "output_type": "execute_result"
    }
   ],
   "source": [
    "arr = np.array([1, -5, 3.4, 55.41, -1009, 2245, -575, -1935.124])\n",
    "\n",
    "arr.sort()\n",
    "np.sort(arr)"
   ]
  },
  {
   "cell_type": "code",
   "execution_count": 60,
   "metadata": {},
   "outputs": [
    {
     "name": "stdout",
     "output_type": "stream",
     "text": [
      "[7 4 6 1 0 2 3 5]\n"
     ]
    }
   ],
   "source": [
    "arr = np.array([1, -5, 3.4, 55.41, -1009, 2245, -575, -1935.124])\n",
    "\n",
    "print(np.argsort(arr))"
   ]
  },
  {
   "cell_type": "code",
   "execution_count": 65,
   "metadata": {},
   "outputs": [
    {
     "name": "stdout",
     "output_type": "stream",
     "text": [
      "[[-1  1  3]\n",
      " [-6  3  4]\n",
      " [ 0  9 11]]\n"
     ]
    }
   ],
   "source": [
    "mat = np.array([[1, -1, 3],\n",
    "               [4, 3, -6],\n",
    "               [0, 11, 9]])\n",
    "\n",
    "np.sort(mat[:,])\n",
    "print(np.sort(mat, axis = 1)) \n",
    "\n"
   ]
  },
  {
   "cell_type": "code",
   "execution_count": 78,
   "metadata": {},
   "outputs": [
    {
     "data": {
      "text/plain": [
       "array([[ 4, 11,  9],\n",
       "       [ 1,  3,  3],\n",
       "       [ 0, -1, -6]])"
      ]
     },
     "execution_count": 78,
     "metadata": {},
     "output_type": "execute_result"
    }
   ],
   "source": [
    "mat = np.array([[1, -1, 3],\n",
    "               [4, 3, -6],\n",
    "               [0, 11, 9]])\n",
    "\n",
    "np.sort(mat, axis=0)[::-1]\n",
    "np.sort(mat, axis=1)[::-1]\n",
    "-np.sort(-mat, axis=0)"
   ]
  }
 ],
 "metadata": {
  "kernelspec": {
   "display_name": "Python 3",
   "language": "python",
   "name": "python3"
  },
  "language_info": {
   "codemirror_mode": {
    "name": "ipython",
    "version": 3
   },
   "file_extension": ".py",
   "mimetype": "text/x-python",
   "name": "python",
   "nbconvert_exporter": "python",
   "pygments_lexer": "ipython3",
   "version": "3.7.6"
  }
 },
 "nbformat": 4,
 "nbformat_minor": 4
}
